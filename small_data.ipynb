{
 "cells": [
  {
   "cell_type": "markdown",
   "metadata": {},
   "source": [
    "Generative and DL techniques on small metabolic engineering datasets"
   ]
  },
  {
   "cell_type": "code",
   "execution_count": 1,
   "metadata": {},
   "outputs": [],
   "source": [
    "import pandas as pd\n",
    "import numpy as np"
   ]
  },
  {
   "cell_type": "code",
   "execution_count": 2,
   "metadata": {},
   "outputs": [
    {
     "data": {
      "text/html": [
       "<div>\n",
       "<style scoped>\n",
       "    .dataframe tbody tr th:only-of-type {\n",
       "        vertical-align: middle;\n",
       "    }\n",
       "\n",
       "    .dataframe tbody tr th {\n",
       "        vertical-align: top;\n",
       "    }\n",
       "\n",
       "    .dataframe thead th {\n",
       "        text-align: right;\n",
       "    }\n",
       "</style>\n",
       "<table border=\"1\" class=\"dataframe\">\n",
       "  <thead>\n",
       "    <tr style=\"text-align: right;\">\n",
       "      <th></th>\n",
       "      <th>ERG8</th>\n",
       "      <th>ERG10</th>\n",
       "      <th>ERG12</th>\n",
       "      <th>ERG13</th>\n",
       "      <th>ERG19</th>\n",
       "      <th>ERG20</th>\n",
       "      <th>IDI1</th>\n",
       "      <th>tHMG1</th>\n",
       "      <th>prod</th>\n",
       "    </tr>\n",
       "  </thead>\n",
       "  <tbody>\n",
       "    <tr>\n",
       "      <th>0</th>\n",
       "      <td>0.862946</td>\n",
       "      <td>0.987876</td>\n",
       "      <td>0.892209</td>\n",
       "      <td>0.909210</td>\n",
       "      <td>0.848096</td>\n",
       "      <td>0.840536</td>\n",
       "      <td>0.829163</td>\n",
       "      <td>0.753874</td>\n",
       "      <td>3.739360</td>\n",
       "    </tr>\n",
       "    <tr>\n",
       "      <th>1</th>\n",
       "      <td>0.783979</td>\n",
       "      <td>1.001960</td>\n",
       "      <td>0.978865</td>\n",
       "      <td>0.916151</td>\n",
       "      <td>0.718987</td>\n",
       "      <td>0.827099</td>\n",
       "      <td>0.960778</td>\n",
       "      <td>0.770533</td>\n",
       "      <td>2.448719</td>\n",
       "    </tr>\n",
       "    <tr>\n",
       "      <th>2</th>\n",
       "      <td>0.870862</td>\n",
       "      <td>0.796111</td>\n",
       "      <td>1.096750</td>\n",
       "      <td>0.919447</td>\n",
       "      <td>0.770546</td>\n",
       "      <td>0.879257</td>\n",
       "      <td>0.956943</td>\n",
       "      <td>0.909107</td>\n",
       "      <td>2.454255</td>\n",
       "    </tr>\n",
       "  </tbody>\n",
       "</table>\n",
       "</div>"
      ],
      "text/plain": [
       "       ERG8     ERG10     ERG12     ERG13     ERG19     ERG20      IDI1  \\\n",
       "0  0.862946  0.987876  0.892209  0.909210  0.848096  0.840536  0.829163   \n",
       "1  0.783979  1.001960  0.978865  0.916151  0.718987  0.827099  0.960778   \n",
       "2  0.870862  0.796111  1.096750  0.919447  0.770546  0.879257  0.956943   \n",
       "\n",
       "      tHMG1      prod  \n",
       "0  0.753874  3.739360  \n",
       "1  0.770533  2.448719  \n",
       "2  0.909107  2.454255  "
      ]
     },
     "execution_count": 2,
     "metadata": {},
     "output_type": "execute_result"
    }
   ],
   "source": [
    "df = pd.read_csv('./data/carotenoid_production.csv')\n",
    "df.head(3)"
   ]
  },
  {
   "cell_type": "markdown",
   "metadata": {},
   "source": [
    "Normalize dataset"
   ]
  },
  {
   "cell_type": "code",
   "execution_count": 3,
   "metadata": {},
   "outputs": [
    {
     "data": {
      "text/html": [
       "<div>\n",
       "<style scoped>\n",
       "    .dataframe tbody tr th:only-of-type {\n",
       "        vertical-align: middle;\n",
       "    }\n",
       "\n",
       "    .dataframe tbody tr th {\n",
       "        vertical-align: top;\n",
       "    }\n",
       "\n",
       "    .dataframe thead th {\n",
       "        text-align: right;\n",
       "    }\n",
       "</style>\n",
       "<table border=\"1\" class=\"dataframe\">\n",
       "  <thead>\n",
       "    <tr style=\"text-align: right;\">\n",
       "      <th></th>\n",
       "      <th>ERG8</th>\n",
       "      <th>ERG10</th>\n",
       "      <th>ERG12</th>\n",
       "      <th>ERG13</th>\n",
       "      <th>ERG19</th>\n",
       "      <th>ERG20</th>\n",
       "      <th>IDI1</th>\n",
       "      <th>tHMG1</th>\n",
       "      <th>prod</th>\n",
       "    </tr>\n",
       "  </thead>\n",
       "  <tbody>\n",
       "    <tr>\n",
       "      <th>0</th>\n",
       "      <td>0.027777</td>\n",
       "      <td>0.010061</td>\n",
       "      <td>0.029076</td>\n",
       "      <td>0.012597</td>\n",
       "      <td>0.023213</td>\n",
       "      <td>0.014901</td>\n",
       "      <td>0.090625</td>\n",
       "      <td>0.004667</td>\n",
       "      <td>0.275487</td>\n",
       "    </tr>\n",
       "    <tr>\n",
       "      <th>1</th>\n",
       "      <td>0.023719</td>\n",
       "      <td>0.010800</td>\n",
       "      <td>0.032791</td>\n",
       "      <td>0.012933</td>\n",
       "      <td>0.016485</td>\n",
       "      <td>0.014219</td>\n",
       "      <td>0.112340</td>\n",
       "      <td>0.005539</td>\n",
       "      <td>0.138467</td>\n",
       "    </tr>\n",
       "    <tr>\n",
       "      <th>2</th>\n",
       "      <td>0.028184</td>\n",
       "      <td>0.000000</td>\n",
       "      <td>0.037845</td>\n",
       "      <td>0.013093</td>\n",
       "      <td>0.019172</td>\n",
       "      <td>0.016867</td>\n",
       "      <td>0.111708</td>\n",
       "      <td>0.012790</td>\n",
       "      <td>0.139054</td>\n",
       "    </tr>\n",
       "  </tbody>\n",
       "</table>\n",
       "</div>"
      ],
      "text/plain": [
       "       ERG8     ERG10     ERG12     ERG13     ERG19     ERG20      IDI1  \\\n",
       "0  0.027777  0.010061  0.029076  0.012597  0.023213  0.014901  0.090625   \n",
       "1  0.023719  0.010800  0.032791  0.012933  0.016485  0.014219  0.112340   \n",
       "2  0.028184  0.000000  0.037845  0.013093  0.019172  0.016867  0.111708   \n",
       "\n",
       "      tHMG1      prod  \n",
       "0  0.004667  0.275487  \n",
       "1  0.005539  0.138467  \n",
       "2  0.012790  0.139054  "
      ]
     },
     "execution_count": 3,
     "metadata": {},
     "output_type": "execute_result"
    }
   ],
   "source": [
    "from sklearn.preprocessing import MinMaxScaler, StandardScaler\n",
    "\n",
    "scaler = MinMaxScaler()\n",
    "norm_df = pd.DataFrame(scaler.fit_transform(df), columns=df.columns)\n",
    "norm_df.head(3)"
   ]
  },
  {
   "cell_type": "markdown",
   "metadata": {},
   "source": [
    "VAE for generating synthetic data"
   ]
  },
  {
   "cell_type": "code",
   "execution_count": 4,
   "metadata": {},
   "outputs": [
    {
     "name": "stderr",
     "output_type": "stream",
     "text": [
      "2024-05-14 18:07:33.813596: I tensorflow/core/util/port.cc:111] oneDNN custom operations are on. You may see slightly different numerical results due to floating-point round-off errors from different computation orders. To turn them off, set the environment variable `TF_ENABLE_ONEDNN_OPTS=0`.\n",
      "2024-05-14 18:07:33.816114: I tensorflow/tsl/cuda/cudart_stub.cc:28] Could not find cuda drivers on your machine, GPU will not be used.\n",
      "2024-05-14 18:07:33.851170: E tensorflow/compiler/xla/stream_executor/cuda/cuda_dnn.cc:9342] Unable to register cuDNN factory: Attempting to register factory for plugin cuDNN when one has already been registered\n",
      "2024-05-14 18:07:33.851198: E tensorflow/compiler/xla/stream_executor/cuda/cuda_fft.cc:609] Unable to register cuFFT factory: Attempting to register factory for plugin cuFFT when one has already been registered\n",
      "2024-05-14 18:07:33.851221: E tensorflow/compiler/xla/stream_executor/cuda/cuda_blas.cc:1518] Unable to register cuBLAS factory: Attempting to register factory for plugin cuBLAS when one has already been registered\n",
      "2024-05-14 18:07:33.858058: I tensorflow/tsl/cuda/cudart_stub.cc:28] Could not find cuda drivers on your machine, GPU will not be used.\n",
      "2024-05-14 18:07:33.859201: I tensorflow/core/platform/cpu_feature_guard.cc:182] This TensorFlow binary is optimized to use available CPU instructions in performance-critical operations.\n",
      "To enable the following instructions: AVX2 AVX512F AVX512_VNNI FMA, in other operations, rebuild TensorFlow with the appropriate compiler flags.\n",
      "2024-05-14 18:07:34.657009: W tensorflow/compiler/tf2tensorrt/utils/py_utils.cc:38] TF-TRT Warning: Could not find TensorRT\n",
      "2024-05-14 18:07:35.473737: W tensorflow/core/common_runtime/gpu/gpu_device.cc:2211] Cannot dlopen some GPU libraries. Please make sure the missing libraries mentioned above are installed properly if you would like to use GPU. Follow the guide at https://www.tensorflow.org/install/gpu for how to download and setup the required libraries for your platform.\n",
      "Skipping registering GPU devices...\n"
     ]
    }
   ],
   "source": [
    "import tensorflow\n",
    "from tensorflow import keras\n",
    "from tensorflow.keras import layers\n",
    "\n",
    "# Use cuda if available\n",
    "physical_devices = tensorflow.config.list_physical_devices('GPU')\n",
    "if physical_devices:\n",
    "    tensorflow.config.experimental.set_memory_growth(physical_devices[0], True)"
   ]
  },
  {
   "cell_type": "code",
   "execution_count": 6,
   "metadata": {},
   "outputs": [],
   "source": [
    "img_size_1 = df.shape[1]\n",
    "latent_space_dim = 2\n",
    "\n",
    "# Encoder\n",
    "x = tensorflow.keras.layers.Input(shape=(img_size_1, 1, 1), name=\"encoder_input\")\n",
    "\n",
    "encoder_conv_layer1 = tensorflow.keras.layers.Conv2D(filters=1, kernel_size=(3, 3), padding=\"same\", strides=1, name=\"encoder_conv_1\")(x)\n",
    "encoder_norm_layer1 = tensorflow.keras.layers.BatchNormalization(name=\"encoder_norm_1\")(encoder_conv_layer1)\n",
    "encoder_activ_layer1 = tensorflow.keras.layers.LeakyReLU(name=\"encoder_leakyrelu_1\")(encoder_norm_layer1)\n",
    "\n",
    "encoder_conv_layer2 = tensorflow.keras.layers.Conv2D(filters=32, kernel_size=(3,3), padding=\"same\", strides=1, name=\"encoder_conv_2\")(encoder_activ_layer1)\n",
    "encoder_norm_layer2 = tensorflow.keras.layers.BatchNormalization(name=\"encoder_norm_2\")(encoder_conv_layer2)\n",
    "encoder_activ_layer2 = tensorflow.keras.layers.LeakyReLU(name=\"encoder_activ_layer_2\")(encoder_norm_layer2)\n",
    "\n",
    "encoder_conv_layer3 = tensorflow.keras.layers.Conv2D(filters=64, kernel_size=(3,3), padding=\"same\", strides=2, name=\"encoder_conv_3\")(encoder_activ_layer2)\n",
    "encoder_norm_layer3 = tensorflow.keras.layers.BatchNormalization(name=\"encoder_norm_3\")(encoder_conv_layer3)\n",
    "encoder_activ_layer3 = tensorflow.keras.layers.LeakyReLU(name=\"encoder_activ_layer_3\")(encoder_norm_layer3)\n",
    "\n",
    "encoder_conv_layer4 = tensorflow.keras.layers.Conv2D(filters=64, kernel_size=(3,3), padding=\"same\", strides=2, name=\"encoder_conv_4\")(encoder_activ_layer3)\n",
    "encoder_norm_layer4 = tensorflow.keras.layers.BatchNormalization(name=\"encoder_norm_4\")(encoder_conv_layer4)\n",
    "encoder_activ_layer4 = tensorflow.keras.layers.LeakyReLU(name=\"encoder_activ_layer_4\")(encoder_norm_layer4)\n",
    "\n",
    "encoder_conv_layer5 = tensorflow.keras.layers.Conv2D(filters=64, kernel_size=(3,3), padding=\"same\", strides=1, name=\"encoder_conv_5\")(encoder_activ_layer4)\n",
    "encoder_norm_layer5 = tensorflow.keras.layers.BatchNormalization(name=\"encoder_norm_5\")(encoder_conv_layer5)\n",
    "encoder_activ_layer5 = tensorflow.keras.layers.LeakyReLU(name=\"encoder_activ_layer_5\")(encoder_norm_layer5)\n",
    "\n",
    "shape_before_flatten = tensorflow.keras.backend.int_shape(encoder_activ_layer5)[1:]\n",
    "encoder_flatten = tensorflow.keras.layers.Flatten()(encoder_activ_layer5)\n",
    "\n",
    "encoder_mu = tensorflow.keras.layers.Dense(units=latent_space_dim, name=\"encoder_mu\")(encoder_flatten)\n",
    "encoder_log_variance = tensorflow.keras.layers.Dense(units=latent_space_dim, name=\"encoder_log_variance\")(encoder_flatten)\n",
    "\n",
    "encoder_mu_log_variance_model = tensorflow.keras.models.Model(x, (encoder_mu, encoder_log_variance), name=\"encoder_mu_log_variance_model\")\n",
    "\n",
    "def sampling(mu_log_variance):\n",
    "    mu, log_variance = mu_log_variance\n",
    "    epsilon = tensorflow.keras.backend.random_normal(shape=tensorflow.keras.backend.shape(mu), mean=0.0, stddev=1.0)\n",
    "    random_sample = mu + tensorflow.keras.backend.exp(log_variance/2) * epsilon\n",
    "    return random_sample\n",
    "\n",
    "encoder_output = tensorflow.keras.layers.Lambda(sampling, name=\"encoder_output\")([encoder_mu, encoder_log_variance])\n",
    "\n",
    "encoder = tensorflow.keras.models.Model(x, encoder_output, name=\"encoder_model\")\n",
    "\n",
    "# Decoder\n",
    "decoder_input = tensorflow.keras.layers.Input(shape=(latent_space_dim), name=\"decoder_input\")\n",
    "\n",
    "decoder_dense_layer1 = tensorflow.keras.layers.Dense(units=int(img_size_1*64), name=\"decoder_dense_1\")(decoder_input)\n",
    "decoder_reshape = tensorflow.keras.layers.Reshape(target_shape=(img_size_1,1,64))(decoder_dense_layer1)\n",
    "\n",
    "decoder_conv_tran_layer1 = tensorflow.keras.layers.Conv2DTranspose(filters=64, kernel_size=(3, 3), padding=\"same\", strides=1, name=\"decoder_conv_tran_1\")(decoder_reshape)\n",
    "decoder_norm_layer1 = tensorflow.keras.layers.BatchNormalization(name=\"decoder_norm_1\")(decoder_conv_tran_layer1)\n",
    "decoder_activ_layer1 = tensorflow.keras.layers.LeakyReLU(name=\"decoder_leakyrelu_1\")(decoder_norm_layer1)\n",
    "\n",
    "decoder_conv_tran_layer2 = tensorflow.keras.layers.Conv2DTranspose(filters=64, kernel_size=(3, 3), padding=\"same\", strides=1, name=\"decoder_conv_tran_2\")(decoder_activ_layer1)\n",
    "decoder_norm_layer2 = tensorflow.keras.layers.BatchNormalization(name=\"decoder_norm_2\")(decoder_conv_tran_layer2)\n",
    "decoder_activ_layer2 = tensorflow.keras.layers.LeakyReLU(name=\"decoder_leakyrelu_2\")(decoder_norm_layer2)\n",
    "\n",
    "decoder_conv_tran_layer3 = tensorflow.keras.layers.Conv2DTranspose(filters=64, kernel_size=(3, 3), padding=\"same\", strides=1, name=\"decoder_conv_tran_3\")(decoder_activ_layer2)\n",
    "decoder_norm_layer3 = tensorflow.keras.layers.BatchNormalization(name=\"decoder_norm_3\")(decoder_conv_tran_layer3)\n",
    "decoder_activ_layer3 = tensorflow.keras.layers.LeakyReLU(name=\"decoder_leakyrelu_3\")(decoder_norm_layer3)\n",
    "\n",
    "decoder_conv_tran_layer4 = tensorflow.keras.layers.Conv2DTranspose(filters=1, kernel_size=(2, 2), padding=\"same\", strides=1, name=\"decoder_conv_tran_4\")(decoder_activ_layer3)\n",
    "decoder_output = tensorflow.keras.layers.LeakyReLU(name=\"decoder_output\")(decoder_conv_tran_layer4 )\n",
    "decode = tensorflow.keras.layers.Reshape(target_shape=(img_size_1,1,1))\n",
    "decoder = tensorflow.keras.models.Model(decoder_input, decoder_output, name=\"decoder_model\")\n"
   ]
  },
  {
   "cell_type": "code",
   "execution_count": 7,
   "metadata": {},
   "outputs": [],
   "source": [
    "# Loss function\n",
    "def loss_func(encoder_mu, encoder_log_variance):\n",
    "    def vae_reconstruction_loss(y_true, y_predict):\n",
    "        \n",
    "        reconstruction_loss_factor = 1000\n",
    "        reconstruction_loss = tensorflow.keras.backend.mean(tensorflow.keras.backend.square(y_true-y_predict), axis=[1, 2, 3])\n",
    "        return reconstruction_loss_factor * reconstruction_loss\n",
    "\n",
    "    def vae_kl_loss(encoder_mu, encoder_log_variance):\n",
    "        kl_loss = -0.5 * tensorflow.keras.backend.sum(1.0 + encoder_log_variance - tensorflow.keras.backend.square(encoder_mu) - tensorflow.keras.backend.exp(encoder_log_variance), axis=1)\n",
    "        return kl_loss\n",
    "\n",
    "    def vae_kl_loss_metric(y_true, y_predict):\n",
    "        kl_loss = -0.5 * tensorflow.keras.backend.sum(1.0 + encoder_log_variance - tensorflow.keras.backend.square(encoder_mu) - tensorflow.keras.backend.exp(encoder_log_variance), axis=1)\n",
    "        return kl_loss\n",
    "\n",
    "    def vae_loss(y_true, y_predict):\n",
    "        reconstruction_loss = vae_reconstruction_loss(y_true, y_predict)\n",
    "        kl_loss = vae_kl_loss(y_true, y_predict)\n",
    "\n",
    "        loss = reconstruction_loss + kl_loss\n",
    "        return loss\n",
    "\n",
    "    return vae_loss"
   ]
  },
  {
   "cell_type": "code",
   "execution_count": 8,
   "metadata": {},
   "outputs": [
    {
     "name": "stdout",
     "output_type": "stream",
     "text": [
      "Model: \"VAE\"\n",
      "_________________________________________________________________\n",
      " Layer (type)                Output Shape              Param #   \n",
      "=================================================================\n",
      " VAE_input (InputLayer)      [(None, 9, 1, 1)]         0         \n",
      "                                                                 \n",
      " encoder_model (Functional)  (None, 2)                 94354     \n",
      "                                                                 \n",
      " decoder_model (Functional)  (None, 9, 1, 1)           113537    \n",
      "                                                                 \n",
      "=================================================================\n",
      "Total params: 207891 (812.07 KB)\n",
      "Trainable params: 207057 (808.82 KB)\n",
      "Non-trainable params: 834 (3.26 KB)\n",
      "_________________________________________________________________\n"
     ]
    }
   ],
   "source": [
    "# Combine Encoder-Decoder\n",
    "vae_input = tensorflow.keras.layers.Input(shape=(img_size_1, 1, 1), name=\"VAE_input\")\n",
    "vae_encoder_output = encoder(vae_input)\n",
    "vae_decoder_output = decoder(vae_encoder_output)\n",
    "vae = tensorflow.keras.models.Model(vae_input, vae_decoder_output, name=\"VAE\")\n",
    "vae.summary()"
   ]
  },
  {
   "cell_type": "code",
   "execution_count": 9,
   "metadata": {},
   "outputs": [
    {
     "data": {
      "text/plain": [
       "(168, 9, 1, 1)"
      ]
     },
     "execution_count": 9,
     "metadata": {},
     "output_type": "execute_result"
    }
   ],
   "source": [
    "np.array(norm_df).reshape(-1,df.shape[1],1,1).shape"
   ]
  },
  {
   "cell_type": "code",
   "execution_count": 10,
   "metadata": {},
   "outputs": [],
   "source": [
    "# Encoder\n",
    "vae.compile(optimizer=tensorflow.keras.optimizers.Adam(learning_rate=0.0005), loss=loss_func(encoder_mu, encoder_log_variance))"
   ]
  },
  {
   "cell_type": "code",
   "execution_count": 11,
   "metadata": {},
   "outputs": [],
   "source": [
    "col_index  = {i:j for i, j in enumerate(norm_df.iloc[0].index.to_list())}"
   ]
  },
  {
   "cell_type": "code",
   "execution_count": 12,
   "metadata": {},
   "outputs": [
    {
     "data": {
      "text/plain": [
       "(168, 9, 1, 1)"
      ]
     },
     "execution_count": 12,
     "metadata": {},
     "output_type": "execute_result"
    }
   ],
   "source": [
    "reshaped_array = np.array(norm_df).reshape(-1, 9, 1, 1)\n",
    "reshaped_array.shape"
   ]
  },
  {
   "cell_type": "code",
   "execution_count": 15,
   "metadata": {},
   "outputs": [
    {
     "name": "stdout",
     "output_type": "stream",
     "text": [
      "Epoch 1/100\n",
      " 7/17 [===========>..................] - ETA: 0s - loss: 17.3381"
     ]
    },
    {
     "name": "stdout",
     "output_type": "stream",
     "text": [
      "17/17 [==============================] - 0s 26ms/step - loss: 16.8578\n",
      "Epoch 2/100\n",
      "17/17 [==============================] - 0s 28ms/step - loss: 14.8760\n",
      "Epoch 3/100\n",
      "17/17 [==============================] - 0s 29ms/step - loss: 14.8595\n",
      "Epoch 4/100\n",
      "17/17 [==============================] - 0s 28ms/step - loss: 14.9322\n",
      "Epoch 5/100\n",
      "17/17 [==============================] - 0s 28ms/step - loss: 14.3057\n",
      "Epoch 6/100\n",
      "17/17 [==============================] - 0s 29ms/step - loss: 13.3797\n",
      "Epoch 7/100\n",
      "17/17 [==============================] - 0s 28ms/step - loss: 15.4490\n",
      "Epoch 8/100\n",
      "17/17 [==============================] - 0s 29ms/step - loss: 15.1919\n",
      "Epoch 9/100\n",
      "17/17 [==============================] - 0s 27ms/step - loss: 14.1605\n",
      "Epoch 10/100\n",
      "17/17 [==============================] - 0s 28ms/step - loss: 13.8528\n",
      "Epoch 11/100\n",
      "17/17 [==============================] - 0s 27ms/step - loss: 14.5146\n",
      "Epoch 12/100\n",
      "17/17 [==============================] - 0s 28ms/step - loss: 14.7898\n",
      "Epoch 13/100\n",
      "17/17 [==============================] - 0s 26ms/step - loss: 15.9444\n",
      "Epoch 14/100\n",
      "17/17 [==============================] - 0s 26ms/step - loss: 14.4287\n",
      "Epoch 15/100\n",
      "17/17 [==============================] - 0s 28ms/step - loss: 14.1680\n",
      "Epoch 16/100\n",
      "17/17 [==============================] - 0s 28ms/step - loss: 14.9588\n",
      "Epoch 17/100\n",
      "17/17 [==============================] - 0s 27ms/step - loss: 13.7126\n",
      "Epoch 18/100\n",
      "17/17 [==============================] - 0s 27ms/step - loss: 13.5407\n",
      "Epoch 19/100\n",
      "17/17 [==============================] - 0s 28ms/step - loss: 14.8216\n",
      "Epoch 20/100\n",
      "17/17 [==============================] - 0s 27ms/step - loss: 13.6272\n",
      "Epoch 21/100\n",
      "17/17 [==============================] - 0s 28ms/step - loss: 15.2155\n",
      "Epoch 22/100\n",
      "17/17 [==============================] - 0s 28ms/step - loss: 15.0553\n",
      "Epoch 23/100\n",
      "17/17 [==============================] - 0s 28ms/step - loss: 13.2450\n",
      "Epoch 24/100\n",
      "17/17 [==============================] - 0s 29ms/step - loss: 14.0708\n",
      "Epoch 25/100\n",
      "17/17 [==============================] - 1s 30ms/step - loss: 13.9654\n",
      "Epoch 26/100\n",
      "17/17 [==============================] - 1s 30ms/step - loss: 13.9337\n",
      "Epoch 27/100\n",
      "17/17 [==============================] - 1s 31ms/step - loss: 14.6025\n",
      "Epoch 28/100\n",
      "17/17 [==============================] - 1s 30ms/step - loss: 14.9929\n",
      "Epoch 29/100\n",
      "17/17 [==============================] - 0s 28ms/step - loss: 14.8481\n",
      "Epoch 30/100\n",
      "17/17 [==============================] - 0s 29ms/step - loss: 12.7428\n",
      "Epoch 31/100\n",
      "17/17 [==============================] - 0s 29ms/step - loss: 13.5902\n",
      "Epoch 32/100\n",
      "17/17 [==============================] - 0s 29ms/step - loss: 14.0564\n",
      "Epoch 33/100\n",
      "17/17 [==============================] - 1s 30ms/step - loss: 12.7246\n",
      "Epoch 34/100\n",
      "17/17 [==============================] - 0s 29ms/step - loss: 14.4367\n",
      "Epoch 35/100\n",
      "17/17 [==============================] - 0s 28ms/step - loss: 14.8948\n",
      "Epoch 36/100\n",
      "17/17 [==============================] - 0s 28ms/step - loss: 13.2179\n",
      "Epoch 37/100\n",
      "17/17 [==============================] - 0s 29ms/step - loss: 14.0054\n",
      "Epoch 38/100\n",
      "17/17 [==============================] - 0s 28ms/step - loss: 13.5266\n",
      "Epoch 39/100\n",
      "17/17 [==============================] - 0s 29ms/step - loss: 13.2737\n",
      "Epoch 40/100\n",
      "17/17 [==============================] - 0s 27ms/step - loss: 13.2646\n",
      "Epoch 41/100\n",
      "17/17 [==============================] - 1s 30ms/step - loss: 12.3008\n",
      "Epoch 42/100\n",
      "17/17 [==============================] - 0s 29ms/step - loss: 12.9731\n",
      "Epoch 43/100\n",
      "17/17 [==============================] - 1s 33ms/step - loss: 11.9022\n",
      "Epoch 44/100\n",
      "17/17 [==============================] - 1s 31ms/step - loss: 12.8323\n",
      "Epoch 45/100\n",
      "17/17 [==============================] - 0s 29ms/step - loss: 12.0961\n",
      "Epoch 46/100\n",
      "17/17 [==============================] - 1s 31ms/step - loss: 13.1501\n",
      "Epoch 47/100\n",
      "17/17 [==============================] - 1s 30ms/step - loss: 13.4629\n",
      "Epoch 48/100\n",
      "17/17 [==============================] - 0s 30ms/step - loss: 13.3016\n",
      "Epoch 49/100\n",
      "17/17 [==============================] - 1s 30ms/step - loss: 13.3883\n",
      "Epoch 50/100\n",
      "17/17 [==============================] - 0s 29ms/step - loss: 12.9029\n",
      "Epoch 51/100\n",
      "17/17 [==============================] - 1s 30ms/step - loss: 12.9403\n",
      "Epoch 52/100\n",
      "17/17 [==============================] - 1s 30ms/step - loss: 14.5740\n",
      "Epoch 53/100\n",
      "17/17 [==============================] - 1s 30ms/step - loss: 13.3855\n",
      "Epoch 54/100\n",
      "17/17 [==============================] - 1s 30ms/step - loss: 14.3680\n",
      "Epoch 55/100\n",
      "17/17 [==============================] - 1s 30ms/step - loss: 12.7940\n",
      "Epoch 56/100\n",
      "17/17 [==============================] - 0s 29ms/step - loss: 12.5808\n",
      "Epoch 57/100\n",
      "17/17 [==============================] - 0s 28ms/step - loss: 12.4308\n",
      "Epoch 58/100\n",
      "17/17 [==============================] - 0s 29ms/step - loss: 13.2119\n",
      "Epoch 59/100\n",
      "17/17 [==============================] - 0s 28ms/step - loss: 13.8236\n",
      "Epoch 60/100\n",
      "17/17 [==============================] - 0s 28ms/step - loss: 12.6177\n",
      "Epoch 61/100\n",
      "17/17 [==============================] - 0s 29ms/step - loss: 11.8701\n",
      "Epoch 62/100\n",
      "17/17 [==============================] - 0s 29ms/step - loss: 12.1531\n",
      "Epoch 63/100\n",
      "17/17 [==============================] - 0s 29ms/step - loss: 11.9681\n",
      "Epoch 64/100\n",
      "17/17 [==============================] - 0s 29ms/step - loss: 12.1646\n",
      "Epoch 65/100\n",
      "17/17 [==============================] - 0s 29ms/step - loss: 11.8680\n",
      "Epoch 66/100\n",
      "17/17 [==============================] - 0s 29ms/step - loss: 12.5329\n",
      "Epoch 67/100\n",
      "17/17 [==============================] - 1s 30ms/step - loss: 11.2199\n",
      "Epoch 68/100\n",
      "17/17 [==============================] - 0s 29ms/step - loss: 12.2290\n",
      "Epoch 69/100\n",
      "17/17 [==============================] - 0s 28ms/step - loss: 11.6541\n",
      "Epoch 70/100\n",
      "17/17 [==============================] - 0s 29ms/step - loss: 11.4463\n",
      "Epoch 71/100\n",
      "17/17 [==============================] - 0s 29ms/step - loss: 11.4822\n",
      "Epoch 72/100\n",
      "17/17 [==============================] - 0s 29ms/step - loss: 12.0241\n",
      "Epoch 73/100\n",
      "17/17 [==============================] - 0s 29ms/step - loss: 13.6092\n",
      "Epoch 74/100\n",
      "17/17 [==============================] - 0s 29ms/step - loss: 13.5184\n",
      "Epoch 75/100\n",
      "17/17 [==============================] - 0s 29ms/step - loss: 12.8236\n",
      "Epoch 76/100\n",
      "17/17 [==============================] - 0s 28ms/step - loss: 11.9688\n",
      "Epoch 77/100\n",
      "17/17 [==============================] - 0s 28ms/step - loss: 11.7369\n",
      "Epoch 78/100\n",
      "17/17 [==============================] - 0s 29ms/step - loss: 11.3974\n",
      "Epoch 79/100\n",
      "17/17 [==============================] - 0s 26ms/step - loss: 12.3640\n",
      "Epoch 80/100\n",
      "17/17 [==============================] - 0s 28ms/step - loss: 12.5514\n",
      "Epoch 81/100\n",
      "17/17 [==============================] - 0s 28ms/step - loss: 11.2921\n",
      "Epoch 82/100\n",
      "17/17 [==============================] - 0s 29ms/step - loss: 12.4088\n",
      "Epoch 83/100\n",
      "17/17 [==============================] - 0s 29ms/step - loss: 11.2717\n",
      "Epoch 84/100\n",
      "17/17 [==============================] - 0s 29ms/step - loss: 11.2906\n",
      "Epoch 85/100\n",
      "17/17 [==============================] - 0s 29ms/step - loss: 11.6535\n",
      "Epoch 86/100\n",
      "17/17 [==============================] - 0s 29ms/step - loss: 11.2620\n",
      "Epoch 87/100\n",
      "17/17 [==============================] - 0s 29ms/step - loss: 12.3572\n",
      "Epoch 88/100\n",
      "17/17 [==============================] - 0s 28ms/step - loss: 12.3864\n",
      "Epoch 89/100\n",
      "17/17 [==============================] - 0s 29ms/step - loss: 12.9140\n",
      "Epoch 90/100\n",
      "17/17 [==============================] - 0s 29ms/step - loss: 11.8882\n",
      "Epoch 91/100\n",
      "17/17 [==============================] - 0s 29ms/step - loss: 13.1667\n",
      "Epoch 92/100\n",
      "17/17 [==============================] - 0s 29ms/step - loss: 12.8100\n",
      "Epoch 93/100\n",
      "17/17 [==============================] - 0s 29ms/step - loss: 12.3551\n",
      "Epoch 94/100\n",
      "17/17 [==============================] - 0s 28ms/step - loss: 11.4797\n",
      "Epoch 95/100\n",
      "17/17 [==============================] - 0s 28ms/step - loss: 11.5201\n",
      "Epoch 96/100\n",
      "17/17 [==============================] - 0s 28ms/step - loss: 10.9358\n",
      "Epoch 97/100\n",
      "17/17 [==============================] - 0s 27ms/step - loss: 11.3893\n",
      "Epoch 98/100\n",
      "17/17 [==============================] - 0s 29ms/step - loss: 10.9513\n",
      "Epoch 99/100\n",
      "17/17 [==============================] - 0s 29ms/step - loss: 11.9513\n",
      "Epoch 100/100\n",
      "17/17 [==============================] - 0s 28ms/step - loss: 10.6691\n"
     ]
    }
   ],
   "source": [
    "history = vae.fit(reshaped_array, reshaped_array, epochs=100, batch_size=10, shuffle=True).history"
   ]
  },
  {
   "cell_type": "code",
   "execution_count": 16,
   "metadata": {},
   "outputs": [
    {
     "data": {
      "image/png": "[encoded data removed]",
      "text/plain": [
       "<Figure size 640x480 with 1 Axes>"
      ]
     },
     "metadata": {},
     "output_type": "display_data"
    }
   ],
   "source": [
    "# Plot loss\n",
    "import matplotlib.pyplot as plt\n",
    "\n",
    "plt.plot(history['loss'])\n",
    "plt.title('Model loss')\n",
    "plt.ylabel('Loss')\n",
    "plt.xlabel('Epoch')\n",
    "plt.legend(['Train'], loc='upper left')\n",
    "plt.show()"
   ]
  },
  {
   "cell_type": "markdown",
   "metadata": {},
   "source": [
    "Testing"
   ]
  },
  {
   "cell_type": "code",
   "execution_count": 17,
   "metadata": {},
   "outputs": [
    {
     "name": "stdout",
     "output_type": "stream",
     "text": [
      "1/1 [==============================] - 1s 554ms/step\n"
     ]
    },
    {
     "data": {
      "text/plain": [
       "array([[[[0.11328497]],\n",
       "\n",
       "        [[0.0886109 ]],\n",
       "\n",
       "        [[0.11498476]],\n",
       "\n",
       "        [[0.10492858]],\n",
       "\n",
       "        [[0.07782274]],\n",
       "\n",
       "        [[0.17742546]],\n",
       "\n",
       "        [[0.14063862]],\n",
       "\n",
       "        [[0.19382584]],\n",
       "\n",
       "        [[0.47626123]]]], dtype=float32)"
      ]
     },
     "execution_count": 17,
     "metadata": {},
     "output_type": "execute_result"
    }
   ],
   "source": [
    "# Passing any random 2 numbers to decoder\n",
    "z_sample = np.array([[-1, 0.6]])\n",
    "decoder.predict(z_sample)"
   ]
  }
 ],
 "metadata": {
  "kernelspec": {
   "display_name": "main",
   "language": "python",
   "name": "python3"
  },
  "language_info": {
   "codemirror_mode": {
    "name": "ipython",
    "version": 3
   },
   "file_extension": ".py",
   "mimetype": "text/x-python",
   "name": "python",
   "nbconvert_exporter": "python",
   "pygments_lexer": "ipython3",
   "version": "3.10.12"
  }
 },
 "nbformat": 4,
 "nbformat_minor": 2
}
