{
 "cells": [
  {
   "cell_type": "code",
   "execution_count": 56,
   "metadata": {},
   "outputs": [],
   "source": [
    "import pandas as pd\n",
    "import numpy as np\n",
    "from sklearn.model_selection import train_test_split, RandomizedSearchCV\n",
    "from sklearn.preprocessing import StandardScaler, MinMaxScaler\n",
    "from sklearn.ensemble import RandomForestRegressor\n",
    "from sklearn.metrics import mean_squared_error, r2_score, mean_absolute_error"
   ]
  },
  {
   "cell_type": "code",
   "execution_count": 57,
   "metadata": {},
   "outputs": [],
   "source": [
    "def tune_and_train_RF(X_train, y_train, n_iter: int = 100):\n",
    "    param_dist = {\n",
    "        'n_estimators': [int(x) for x in range(5, 500, 100)],\n",
    "        'max_depth': [int(x) for x in range(3, 25, 1)] + [None],\n",
    "        'min_samples_split': [2, 5, 10],\n",
    "        'min_samples_leaf': [1, 2, 4],\n",
    "    }\n",
    "    \n",
    "    model = RandomForestRegressor()\n",
    "    \n",
    "    grid = RandomizedSearchCV(model, param_dist, cv=5, n_iter=n_iter, n_jobs=-1)\n",
    "    grid.fit(X_train, y_train)\n",
    "    \n",
    "    return grid.best_estimator_\n",
    "\n",
    "def evaluate_RF(model, X_test, y_test):\n",
    "    \n",
    "    y_pred = model.predict(X_test)\n",
    "    print(f'R2 Score: {r2_score(y_test, y_pred)}')\n",
    "    print(f'Mean Absolute Error: {mean_absolute_error(y_test, y_pred)}')\n",
    "    print(f'Mean Squared Error: {mean_squared_error(y_test, y_pred)}')\n",
    "    print(f'Root Mean Squared Error: {np.sqrt(mean_squared_error(y_test, y_pred))}')\n",
    "    \n",
    "    return pd.DataFrame({\n",
    "        'y_true': y_test,\n",
    "        'y_pred': y_pred,\n",
    "        'residuals': y_test - y_pred\n",
    "    })\n",
    "    "
   ]
  },
  {
   "cell_type": "code",
   "execution_count": 36,
   "metadata": {},
   "outputs": [],
   "source": [
    "class DataLoader:\n",
    "    def __init__(self, data_path: str, target: str):\n",
    "        self.data_path = data_path\n",
    "        self.target = target\n",
    "        self.df = None\n",
    "        self.X = None\n",
    "        self.y = None\n",
    "        \n",
    "        self.X_train = None\n",
    "        self.X_test = None\n",
    "        self.y_train = None\n",
    "        self.y_test = None\n",
    "        \n",
    "        self.scaler = None\n",
    "        self.X_train_norm = None\n",
    "        self.X_test_norm = None\n",
    "        \n",
    "    def _split_data(self):\n",
    "        self.X = self.df.drop(self.target, axis=1)\n",
    "        self.y = self.df[self.target]\n",
    "        \n",
    "    def load_data(self, index_col: int = None):\n",
    "        self.df = pd.read_csv(self.data_path, index_col=index_col)\n",
    "        self._split_data()\n",
    "\n",
    "    def train_test_split(self, test_size: float = 0.2):\n",
    "        if self.X is None or self.y is None:\n",
    "            raise ValueError(\"X and y should not be None. Please load data first.\")\n",
    "        self.X_train, self.X_test, self.y_train, self.y_test = train_test_split(self.X, self.y, test_size=test_size)\n",
    "\n",
    "    def normalization(self, scaling_method: str = 'MinMax'):\n",
    "        if self.X_train is None or self.X_test is None:\n",
    "            raise ValueError(\"X_train and X_test should not be None. Please split data first.\")\n",
    "        if scaling_method == 'MinMax':\n",
    "            self.scaler = MinMaxScaler()\n",
    "        elif scaling_method == 'Standard':\n",
    "            self.scaler = StandardScaler()\n",
    "        else:\n",
    "            raise ValueError(\"scaling_method should be either 'MinMax' or 'Standard'.\")\n",
    "        \n",
    "        self.X_train_norm = self.scaler.fit_transform(self.X_train)\n",
    "        self.X_test_norm = self.scaler.transform(self.X_test)"
   ]
  },
  {
   "cell_type": "code",
   "execution_count": 45,
   "metadata": {},
   "outputs": [],
   "source": [
    "class Modelling(DataLoader):\n",
    "    def __init__(self, data_path: str, target: str):\n",
    "        super().__init__(data_path, target)\n",
    "        self.estimator = None\n",
    "        \n",
    "    def get_trained_model(self, model: object):\n",
    "        self.estimator = model"
   ]
  },
  {
   "cell_type": "code",
   "execution_count": 54,
   "metadata": {},
   "outputs": [],
   "source": [
    "FILENAME = './data/carotenoid_production.csv'\n",
    "\n",
    "m = Modelling(FILENAME, target='prod')\n",
    "m.load_data()\n",
    "m.train_test_split(test_size=0.2)\n",
    "m.normalization(scaling_method='MinMax')\n",
    "\n",
    "rf = tune_and_train_RF(m.X_train_norm, m.y_train)"
   ]
  },
  {
   "cell_type": "code",
   "execution_count": 62,
   "metadata": {},
   "outputs": [
    {
     "name": "stdout",
     "output_type": "stream",
     "text": [
      "R2 Score: 0.3926841360020088\n",
      "Mean Absolute Error: 1.1195310161847074\n",
      "Mean Squared Error: 2.257247412005278\n",
      "Root Mean Squared Error: 1.5024138617588956\n"
     ]
    }
   ],
   "source": [
    "results_rf = evaluate_RF(rf, m.X_test_norm, m.y_test)"
   ]
  },
  {
   "cell_type": "code",
   "execution_count": null,
   "metadata": {},
   "outputs": [],
   "source": []
  }
 ],
 "metadata": {
  "kernelspec": {
   "display_name": "main",
   "language": "python",
   "name": "python3"
  },
  "language_info": {
   "codemirror_mode": {
    "name": "ipython",
    "version": 3
   },
   "file_extension": ".py",
   "mimetype": "text/x-python",
   "name": "python",
   "nbconvert_exporter": "python",
   "pygments_lexer": "ipython3",
   "version": "3.10.12"
  }
 },
 "nbformat": 4,
 "nbformat_minor": 2
}
