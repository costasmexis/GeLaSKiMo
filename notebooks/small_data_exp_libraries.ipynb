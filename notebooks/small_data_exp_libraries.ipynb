{
 "cells": [
  {
   "cell_type": "markdown",
   "metadata": {},
   "source": [
    "Generative and DL techniques on small metabolic engineering datasets"
   ]
  },
  {
   "cell_type": "code",
   "execution_count": 1,
   "metadata": {},
   "outputs": [],
   "source": [
    "import matplotlib.pyplot as plt\n",
    "import numpy as np\n",
    "import pandas as pd\n",
    "import plotly.graph_objects as go\n",
    "import plotly.io as pio\n",
    "import seaborn as sns\n",
    "from sklearn.model_selection import train_test_split\n",
    "from sklearn.preprocessing import StandardScaler\n",
    "\n",
    "pio.renderers.default = \"vscode\"\n",
    "\n",
    "def get_X_y(df: pd.DataFrame, target: str = 'prod') -> (pd.DataFrame, pd.Series):\n",
    "    X = df.drop(columns=[target])\n",
    "    y = df[target]\n",
    "    return X, y\n",
    "\n",
    "def get_train_test(X: pd.DataFrame, y: pd.Series, test_size: float = 0.2) -> (pd.DataFrame, pd.DataFrame, pd.Series, pd.Series):\n",
    "    X_train, X_test, y_train, y_test = train_test_split(X, y, test_size=test_size, random_state=42)\n",
    "    return X_train, X_test, y_train, y_test\n",
    "\n",
    "def normalize(scaler: StandardScaler, X_train: pd.DataFrame, X_test: pd.DataFrame) -> (pd.DataFrame, pd.DataFrame):\n",
    "    X_train_norm = pd.DataFrame(data=scaler.fit_transform(X_train), columns=X_train.columns, index=X_train.index)\n",
    "    X_test_norm =  pd.DataFrame(data=scaler.transform(X_test), columns=X_test.columns, index=X_test.index)\n",
    "    return X_train_norm, X_test_norm"
   ]
  },
  {
   "cell_type": "markdown",
   "metadata": {},
   "source": [
    "__Get data__"
   ]
  },
  {
   "cell_type": "code",
   "execution_count": 2,
   "metadata": {},
   "outputs": [
    {
     "name": "stdout",
     "output_type": "stream",
     "text": [
      " * Dataset shape: (30, 10) *\n"
     ]
    }
   ],
   "source": [
    "df = pd.read_csv('./data/limonene_production.csv', index_col=0)\n",
    "print(f' * Dataset shape: {df.shape} *')"
   ]
  },
  {
   "cell_type": "code",
   "execution_count": 3,
   "metadata": {},
   "outputs": [],
   "source": [
    "X, y = get_X_y(df, 'Limonene')\n",
    "\n",
    "X_train, X_test, y_train, y_test = get_train_test(X, y)\n",
    "\n",
    "X_train_norm, X_test_norm = normalize(StandardScaler(), X_train, X_test)"
   ]
  },
  {
   "cell_type": "markdown",
   "metadata": {},
   "source": [
    "__Model Selection__"
   ]
  },
  {
   "cell_type": "code",
   "execution_count": 32,
   "metadata": {},
   "outputs": [
    {
     "name": "stdout",
     "output_type": "stream",
     "text": [
      "Fitting 5 folds for each of 100 candidates, totalling 500 fits\n",
      "[CV] END C=9.69657230869307, epsilon=0.7054785609768681, gamma=0.05503473987487026, kernel=linear; total time=   0.0s\n",
      "[CV] END C=9.69657230869307, epsilon=0.7054785609768681, gamma=0.05503473987487026, kernel=linear; total time=   0.0s\n",
      "[CV] END C=9.711338455516126, epsilon=0.3755338663984378, gamma=0.08167997196825329, kernel=linear; total time=   0.0s\n",
      "[CV] END C=9.69657230869307, epsilon=0.7054785609768681, gamma=0.05503473987487026, kernel=linear; total time=   0.0s\n",
      "[CV] END C=9.711338455516126, epsilon=0.3755338663984378, gamma=0.08167997196825329, kernel=linear; total time=   0.0s\n",
      "[CV] END C=9.69657230869307, epsilon=0.7054785609768681, gamma=0.05503473987487026, kernel=linear; total time=   0.0s\n",
      "[CV] END C=9.69657230869307, epsilon=0.7054785609768681, gamma=0.05503473987487026, kernel=linear; total time=   0.0s\n",
      "[CV] END C=8.04205835037789, epsilon=0.6616013964626615, gamma=0.0005870017846887787, kernel=rbf; total time=   0.0s\n",
      "[CV] END C=9.711338455516126, epsilon=0.3755338663984378, gamma=0.08167997196825329, kernel=linear; total time=   0.0s\n",
      "[CV] END C=9.711338455516126, epsilon=0.3755338663984378, gamma=0.08167997196825329, kernel=linear; total time=   0.0s\n",
      "[CV] END C=9.711338455516126, epsilon=0.3755338663984378, gamma=0.08167997196825329, kernel=linear; total time=   0.0s\n",
      "[CV] END C=8.04205835037789, epsilon=0.6616013964626615, gamma=0.0005870017846887787, kernel=rbf; total time=   0.0s\n",
      "[CV] END C=8.04205835037789, epsilon=0.6616013964626615, gamma=0.0005870017846887787, kernel=rbf; total time=   0.0s\n",
      "[CV] END C=8.04205835037789, epsilon=0.6616013964626615, gamma=0.0005870017846887787, kernel=rbf; total time=   0.0s\n",
      "[CV] END C=8.04205835037789, epsilon=0.6616013964626615, gamma=0.0005870017846887787, kernel=rbf; total time=   0.0s\n",
      "[CV] END C=1.8532414645510857, epsilon=0.7315110099741744, gamma=0.09560627356901387, kernel=rbf; total time=   0.0s\n",
      "[CV] END C=1.8532414645510857, epsilon=0.7315110099741744, gamma=0.09560627356901387, kernel=rbf; total time=   0.0s\n",
      "[CV] END C=6.248357674960504, epsilon=0.637622530021185, gamma=0.06968477397275487, kernel=linear; total time=   0.0s\n",
      "[CV] END C=6.248357674960504, epsilon=0.637622530021185, gamma=0.06968477397275487, kernel=linear; total time=   0.0s\n",
      "[CV] END C=1.8532414645510857, epsilon=0.7315110099741744, gamma=0.09560627356901387, kernel=rbf; total time=   0.0s\n",
      "[CV] END C=5.639527159125123, epsilon=0.9842900835213396, gamma=0.0229247480302354, kernel=rbf; total time=   0.0s\n",
      "[CV] END C=9.937628332195066, epsilon=0.9651987339130478, gamma=0.03546591333190853, kernel=sigmoid; total time=   0.0s\n",
      "[CV] END C=9.937628332195066, epsilon=0.9651987339130478, gamma=0.03546591333190853, kernel=sigmoid; total time=   0.0s\n",
      "[CV] END C=9.937628332195066, epsilon=0.9651987339130478, gamma=0.03546591333190853, kernel=sigmoid; total time=   0.0s\n",
      "[CV] END C=6.248357674960504, epsilon=0.637622530021185, gamma=0.06968477397275487, kernel=linear; total time=   0.0s\n",
      "[CV] END C=5.639527159125123, epsilon=0.9842900835213396, gamma=0.0229247480302354, kernel=rbf; total time=   0.0s\n",
      "[CV] END C=5.639527159125123, epsilon=0.9842900835213396, gamma=0.0229247480302354, kernel=rbf; total time=   0.0s\n",
      "[CV] END C=5.745463635277344, epsilon=0.8132572265863321, gamma=0.04916999413181937, kernel=rbf; total time=   0.0s\n",
      "[CV] END C=5.745463635277344, epsilon=0.8132572265863321, gamma=0.04916999413181937, kernel=rbf; total time=   0.0s\n",
      "[CV] END C=1.8532414645510857, epsilon=0.7315110099741744, gamma=0.09560627356901387, kernel=rbf; total time=   0.0s\n",
      "[CV] END C=1.8532414645510857, epsilon=0.7315110099741744, gamma=0.09560627356901387, kernel=rbf; total time=   0.0s\n",
      "[CV] END C=5.745463635277344, epsilon=0.8132572265863321, gamma=0.04916999413181937, kernel=rbf; total time=   0.0s\n",
      "[CV] END C=9.484780719110779, epsilon=1.0488043640717484, gamma=0.06489749428844388, kernel=sigmoid; total time=   0.0s\n",
      "[CV] END C=5.745463635277344, epsilon=0.8132572265863321, gamma=0.04916999413181937, kernel=rbf; total time=   0.0s\n",
      "[CV] END C=6.248357674960504, epsilon=0.637622530021185, gamma=0.06968477397275487, kernel=linear; total time=   0.0s\n",
      "[CV] END C=9.484780719110779, epsilon=1.0488043640717484, gamma=0.06489749428844388, kernel=sigmoid; total time=   0.0s\n",
      "[CV] END C=9.484780719110779, epsilon=1.0488043640717484, gamma=0.06489749428844388, kernel=sigmoid; total time=   0.0s\n",
      "[CV] END C=9.937628332195066, epsilon=0.9651987339130478, gamma=0.03546591333190853, kernel=sigmoid; total time=   0.0s\n",
      "[CV] END C=6.248357674960504, epsilon=0.637622530021185, gamma=0.06968477397275487, kernel=linear; total time=   0.0s\n",
      "[CV] END C=5.639527159125123, epsilon=0.9842900835213396, gamma=0.0229247480302354, kernel=rbf; total time=   0.0s\n",
      "[CV] END C=5.639527159125123, epsilon=0.9842900835213396, gamma=0.0229247480302354, kernel=rbf; total time=   0.0s\n",
      "[CV] END C=5.745463635277344, epsilon=0.8132572265863321, gamma=0.04916999413181937, kernel=rbf; total time=   0.0s\n",
      "[CV] END C=9.937628332195066, epsilon=0.9651987339130478, gamma=0.03546591333190853, kernel=sigmoid; total time=   0.0s\n",
      "[CV] END C=9.628689639762433, epsilon=0.17663363211738928, gamma=0.024694037683167115, kernel=poly; total time=   0.0s\n",
      "[CV] END C=9.628689639762433, epsilon=0.17663363211738928, gamma=0.024694037683167115, kernel=poly; total time=   0.0s\n",
      "[CV] END C=9.484780719110779, epsilon=1.0488043640717484, gamma=0.06489749428844388, kernel=sigmoid; total time=   0.0s\n",
      "[CV] END C=9.484780719110779, epsilon=1.0488043640717484, gamma=0.06489749428844388, kernel=sigmoid; total time=   0.0s\n",
      "[CV] END C=9.628689639762433, epsilon=0.17663363211738928, gamma=0.024694037683167115, kernel=poly; total time=   0.0s\n",
      "[CV] END C=9.628689639762433, epsilon=0.17663363211738928, gamma=0.024694037683167115, kernel=poly; total time=   0.0s\n",
      "[CV] END C=9.628689639762433, epsilon=0.17663363211738928, gamma=0.024694037683167115, kernel=poly; total time=   0.0s\n",
      "[CV] END C=1.2679796856176144, epsilon=0.14257330203453913, gamma=0.07114280096125605, kernel=linear; total time=   0.0s\n",
      "[CV] END C=1.2679796856176144, epsilon=0.14257330203453913, gamma=0.07114280096125605, kernel=linear; total time=   0.0s\n",
      "[CV] END C=1.2679796856176144, epsilon=0.14257330203453913, gamma=0.07114280096125605, kernel=linear; total time=   0.0s\n",
      "[CV] END C=1.6026925902953575, epsilon=0.6128319396507707, gamma=0.059831562141002374, kernel=linear; total time=   0.0s\n",
      "[CV] END C=1.2679796856176144, epsilon=0.14257330203453913, gamma=0.07114280096125605, kernel=linear; total time=   0.0s\n",
      "[CV] END C=1.2679796856176144, epsilon=0.14257330203453913, gamma=0.07114280096125605, kernel=linear; total time=   0.0s\n",
      "[CV] END C=1.6026925902953575, epsilon=0.6128319396507707, gamma=0.059831562141002374, kernel=linear; total time=   0.0s\n",
      "[CV] END C=1.6026925902953575, epsilon=0.6128319396507707, gamma=0.059831562141002374, kernel=linear; total time=   0.0s\n",
      "[CV] END C=1.6026925902953575, epsilon=0.6128319396507707, gamma=0.059831562141002374, kernel=linear; total time=   0.0s\n",
      "[CV] END C=3.754677644023475, epsilon=0.1681337306835227, gamma=0.0038644047279166593, kernel=poly; total time=   0.0s\n",
      "[CV] END C=1.6026925902953575, epsilon=0.6128319396507707, gamma=0.059831562141002374, kernel=linear; total time=   0.0s\n",
      "[CV] END C=3.754677644023475, epsilon=0.1681337306835227, gamma=0.0038644047279166593, kernel=poly; total time=   0.0s\n",
      "[CV] END C=3.754677644023475, epsilon=0.1681337306835227, gamma=0.0038644047279166593, kernel=poly; total time=   0.0s\n",
      "[CV] END C=3.754677644023475, epsilon=0.1681337306835227, gamma=0.0038644047279166593, kernel=poly; total time=   0.0s\n",
      "[CV] END C=4.244356977958862, epsilon=0.9124947801681268, gamma=0.00022484953467715168, kernel=rbf; total time=   0.0s\n",
      "[CV] END C=3.754677644023475, epsilon=0.1681337306835227, gamma=0.0038644047279166593, kernel=poly; total time=   0.0s\n",
      "[CV] END C=4.244356977958862, epsilon=0.9124947801681268, gamma=0.00022484953467715168, kernel=rbf; total time=   0.0s\n",
      "[CV] END C=4.256718316457966, epsilon=0.7067232539316367, gamma=0.03660278395177994, kernel=rbf; total time=   0.0s\n",
      "[CV] END C=4.244356977958862, epsilon=0.9124947801681268, gamma=0.00022484953467715168, kernel=rbf; total time=   0.0s\n",
      "[CV] END C=4.256718316457966, epsilon=0.7067232539316367, gamma=0.03660278395177994, kernel=rbf; total time=   0.0s\n",
      "[CV] END C=6.0311159175316735, epsilon=0.8068658820585322, gamma=0.05894814585553486, kernel=linear; total time=   0.0s\n",
      "[CV] END C=4.256718316457966, epsilon=0.7067232539316367, gamma=0.03660278395177994, kernel=rbf; total time=   0.0s\n",
      "[CV] END C=4.256718316457966, epsilon=0.7067232539316367, gamma=0.03660278395177994, kernel=rbf; total time=   0.0s[CV] END C=6.0311159175316735, epsilon=0.8068658820585322, gamma=0.05894814585553486, kernel=linear; total time=   0.0s\n",
      "\n",
      "[CV] END C=4.244356977958862, epsilon=0.9124947801681268, gamma=0.00022484953467715168, kernel=rbf; total time=   0.0s\n",
      "[CV] END C=4.256718316457966, epsilon=0.7067232539316367, gamma=0.03660278395177994, kernel=rbf; total time=   0.0s\n",
      "[CV] END C=4.244356977958862, epsilon=0.9124947801681268, gamma=0.00022484953467715168, kernel=rbf; total time=   0.0s\n",
      "[CV] END C=8.729541547238226, epsilon=0.47214844085974805, gamma=0.04976647440342397, kernel=linear; total time=   0.0s\n",
      "[CV] END C=8.729541547238226, epsilon=0.47214844085974805, gamma=0.04976647440342397, kernel=linear; total time=   0.0s\n",
      "[CV] END C=6.0311159175316735, epsilon=0.8068658820585322, gamma=0.05894814585553486, kernel=linear; total time=   0.0s\n",
      "[CV] END C=6.0311159175316735, epsilon=0.8068658820585322, gamma=0.05894814585553486, kernel=linear; total time=   0.0s\n",
      "[CV] END C=8.729541547238226, epsilon=0.47214844085974805, gamma=0.04976647440342397, kernel=linear; total time=   0.0s\n",
      "[CV] END C=4.535847293744094, epsilon=0.620200955884852, gamma=0.060311983759498075, kernel=sigmoid; total time=   0.0s\n",
      "[CV] END C=8.729541547238226, epsilon=0.47214844085974805, gamma=0.04976647440342397, kernel=linear; total time=   0.0s\n",
      "[CV] END C=4.535847293744094, epsilon=0.620200955884852, gamma=0.060311983759498075, kernel=sigmoid; total time=   0.0s\n",
      "[CV] END C=4.535847293744094, epsilon=0.620200955884852, gamma=0.060311983759498075, kernel=sigmoid; total time=   0.0s\n",
      "[CV] END C=2.102562532355678, epsilon=0.3798547373116429, gamma=0.07216533987870319, kernel=rbf; total time=   0.0s\n",
      "[CV] END C=8.729541547238226, epsilon=0.47214844085974805, gamma=0.04976647440342397, kernel=linear; total time=   0.0s\n",
      "[CV] END C=4.535847293744094, epsilon=0.620200955884852, gamma=0.060311983759498075, kernel=sigmoid; total time=   0.0s\n",
      "[CV] END C=6.0311159175316735, epsilon=0.8068658820585322, gamma=0.05894814585553486, kernel=linear; total time=   0.0s\n",
      "[CV] END C=4.535847293744094, epsilon=0.620200955884852, gamma=0.060311983759498075, kernel=sigmoid; total time=   0.0s\n",
      "[CV] END C=2.102562532355678, epsilon=0.3798547373116429, gamma=0.07216533987870319, kernel=rbf; total time=   0.0s\n",
      "[CV] END C=2.102562532355678, epsilon=0.3798547373116429, gamma=0.07216533987870319, kernel=rbf; total time=   0.0s\n",
      "[CV] END C=5.564207068959183, epsilon=0.416761410363487, gamma=0.002639991116924045, kernel=rbf; total time=   0.0s\n",
      "[CV] END C=5.564207068959183, epsilon=0.416761410363487, gamma=0.002639991116924045, kernel=rbf; total time=   0.0s\n",
      "[CV] END C=1.6582795760070295, epsilon=0.7728072935193816, gamma=0.06184379441422529, kernel=rbf; total time=   0.0s\n",
      "[CV] END C=5.564207068959183, epsilon=0.416761410363487, gamma=0.002639991116924045, kernel=rbf; total time=   0.0s\n",
      "[CV] END C=9.28896118651479, epsilon=0.32328345900701716, gamma=0.095484502926135, kernel=sigmoid; total time=   0.0s\n",
      "[CV] END C=5.564207068959183, epsilon=0.416761410363487, gamma=0.002639991116924045, kernel=rbf; total time=   0.0s\n",
      "[CV] END C=1.6582795760070295, epsilon=0.7728072935193816, gamma=0.06184379441422529, kernel=rbf; total time=   0.0s\n",
      "[CV] END C=5.564207068959183, epsilon=0.416761410363487, gamma=0.002639991116924045, kernel=rbf; total time=   0.0s\n",
      "[CV] END C=1.6582795760070295, epsilon=0.7728072935193816, gamma=0.06184379441422529, kernel=rbf; total time=   0.0s\n",
      "[CV] END C=9.28896118651479, epsilon=0.32328345900701716, gamma=0.095484502926135, kernel=sigmoid; total time=   0.0s\n",
      "[CV] END C=9.28896118651479, epsilon=0.32328345900701716, gamma=0.095484502926135, kernel=sigmoid; total time=   0.0s\n",
      "[CV] END C=1.6582795760070295, epsilon=0.7728072935193816, gamma=0.06184379441422529, kernel=rbf; total time=   0.0s\n",
      "[CV] END C=4.399947079821304, epsilon=0.8738125015310929, gamma=0.05146622566352298, kernel=sigmoid; total time=   0.0s\n",
      "[CV] END C=9.28896118651479, epsilon=0.32328345900701716, gamma=0.095484502926135, kernel=sigmoid; total time=   0.0s\n",
      "[CV] END C=4.399947079821304, epsilon=0.8738125015310929, gamma=0.05146622566352298, kernel=sigmoid; total time=   0.0s\n",
      "[CV] END C=9.28896118651479, epsilon=0.32328345900701716, gamma=0.095484502926135, kernel=sigmoid; total time=   0.0s\n",
      "[CV] END C=1.6582795760070295, epsilon=0.7728072935193816, gamma=0.06184379441422529, kernel=rbf; total time=   0.0s\n",
      "[CV] END C=4.399947079821304, epsilon=0.8738125015310929, gamma=0.05146622566352298, kernel=sigmoid; total time=   0.0s\n",
      "[CV] END C=4.399947079821304, epsilon=0.8738125015310929, gamma=0.05146622566352298, kernel=sigmoid; total time=   0.0s\n",
      "[CV] END C=2.102562532355678, epsilon=0.3798547373116429, gamma=0.07216533987870319, kernel=rbf; total time=   0.0s\n",
      "[CV] END C=2.102562532355678, epsilon=0.3798547373116429, gamma=0.07216533987870319, kernel=rbf; total time=   0.0s\n",
      "[CV] END C=4.399947079821304, epsilon=0.8738125015310929, gamma=0.05146622566352298, kernel=sigmoid; total time=   0.0s\n",
      "[CV] END C=5.0833053053666655, epsilon=0.7330948864064457, gamma=0.026265759258218148, kernel=rbf; total time=   0.0s\n",
      "[CV] END C=5.0833053053666655, epsilon=0.7330948864064457, gamma=0.026265759258218148, kernel=rbf; total time=   0.0s\n",
      "[CV] END C=5.0833053053666655, epsilon=0.7330948864064457, gamma=0.026265759258218148, kernel=rbf; total time=   0.0s\n",
      "[CV] END C=5.0833053053666655, epsilon=0.7330948864064457, gamma=0.026265759258218148, kernel=rbf; total time=   0.0s\n",
      "[CV] END C=5.0833053053666655, epsilon=0.7330948864064457, gamma=0.026265759258218148, kernel=rbf; total time=   0.0s\n",
      "[CV] END C=6.314536173653037, epsilon=0.3540699384131474, gamma=0.010922135939158018, kernel=poly; total time=   0.0s\n",
      "[CV] END C=6.314536173653037, epsilon=0.3540699384131474, gamma=0.010922135939158018, kernel=poly; total time=   0.0s\n",
      "[CV] END C=6.314536173653037, epsilon=0.3540699384131474, gamma=0.010922135939158018, kernel=poly; total time=   0.0s\n",
      "[CV] END C=6.314536173653037, epsilon=0.3540699384131474, gamma=0.010922135939158018, kernel=poly; total time=   0.0s\n",
      "[CV] END C=5.990021765603466, epsilon=0.3568826617274844, gamma=0.014708805102511236, kernel=sigmoid; total time=   0.0s\n",
      "[CV] END C=6.314536173653037, epsilon=0.3540699384131474, gamma=0.010922135939158018, kernel=poly; total time=   0.0s\n",
      "[CV] END C=5.990021765603466, epsilon=0.3568826617274844, gamma=0.014708805102511236, kernel=sigmoid; total time=   0.0s\n",
      "[CV] END C=5.990021765603466, epsilon=0.3568826617274844, gamma=0.014708805102511236, kernel=sigmoid; total time=   0.0s\n",
      "[CV] END C=5.990021765603466, epsilon=0.3568826617274844, gamma=0.014708805102511236, kernel=sigmoid; total time=   0.0s\n",
      "[CV] END C=5.175974439450093, epsilon=0.4782889539094358, gamma=0.09478302806088183, kernel=sigmoid; total time=   0.0s\n",
      "[CV] END C=5.175974439450093, epsilon=0.4782889539094358, gamma=0.09478302806088183, kernel=sigmoid; total time=   0.0s\n",
      "[CV] END C=5.62644563389617, epsilon=0.5511767624694633, gamma=0.030114811933612453, kernel=rbf; total time=   0.0s\n",
      "[CV] END C=5.990021765603466, epsilon=0.3568826617274844, gamma=0.014708805102511236, kernel=sigmoid; total time=   0.0s[CV] END C=5.175974439450093, epsilon=0.4782889539094358, gamma=0.09478302806088183, kernel=sigmoid; total time=   0.0s\n",
      "\n",
      "[CV] END C=6.72901619889304, epsilon=0.9059151604911823, gamma=0.08822967380487574, kernel=sigmoid; total time=   0.0s\n",
      "[CV] END C=5.175974439450093, epsilon=0.4782889539094358, gamma=0.09478302806088183, kernel=sigmoid; total time=   0.0s\n",
      "[CV] END C=6.704634911509969, epsilon=0.677350390670905, gamma=0.017611259498845056, kernel=poly; total time=   0.0s\n",
      "[CV] END C=5.62644563389617, epsilon=0.5511767624694633, gamma=0.030114811933612453, kernel=rbf; total time=   0.0s\n",
      "[CV] END C=5.175974439450093, epsilon=0.4782889539094358, gamma=0.09478302806088183, kernel=sigmoid; total time=   0.0s\n",
      "[CV] END C=6.704634911509969, epsilon=0.677350390670905, gamma=0.017611259498845056, kernel=poly; total time=   0.0s\n",
      "[CV] END C=6.72901619889304, epsilon=0.9059151604911823, gamma=0.08822967380487574, kernel=sigmoid; total time=   0.0s\n",
      "[CV] END C=6.72901619889304, epsilon=0.9059151604911823, gamma=0.08822967380487574, kernel=sigmoid; total time=   0.0s\n",
      "[CV] END C=2.3714420123347897, epsilon=0.4788219129634598, gamma=0.006740599456858455, kernel=rbf; total time=   0.0s\n",
      "[CV] END C=5.62644563389617, epsilon=0.5511767624694633, gamma=0.030114811933612453, kernel=rbf; total time=   0.0s\n",
      "[CV] END C=2.3714420123347897, epsilon=0.4788219129634598, gamma=0.006740599456858455, kernel=rbf; total time=   0.0s\n",
      "[CV] END C=5.62644563389617, epsilon=0.5511767624694633, gamma=0.030114811933612453, kernel=rbf; total time=   0.0s\n",
      "[CV] END C=6.72901619889304, epsilon=0.9059151604911823, gamma=0.08822967380487574, kernel=sigmoid; total time=   0.0s\n",
      "[CV] END C=2.3714420123347897, epsilon=0.4788219129634598, gamma=0.006740599456858455, kernel=rbf; total time=   0.0s\n",
      "[CV] END C=6.704634911509969, epsilon=0.677350390670905, gamma=0.017611259498845056, kernel=poly; total time=   0.0s\n",
      "[CV] END C=6.604529308985305, epsilon=0.8185351195667385, gamma=0.08434042139413539, kernel=sigmoid; total time=   0.0s\n",
      "[CV] END C=5.62644563389617, epsilon=0.5511767624694633, gamma=0.030114811933612453, kernel=rbf; total time=   0.0s\n",
      "[CV] END C=6.604529308985305, epsilon=0.8185351195667385, gamma=0.08434042139413539, kernel=sigmoid; total time=   0.0s\n",
      "[CV] END C=7.478590949799509, epsilon=0.6677932360447129, gamma=0.09789380598583054, kernel=sigmoid; total time=   0.0s\n",
      "[CV] END C=6.704634911509969, epsilon=0.677350390670905, gamma=0.017611259498845056, kernel=poly; total time=   0.0s\n",
      "[CV] END C=7.478590949799509, epsilon=0.6677932360447129, gamma=0.09789380598583054, kernel=sigmoid; total time=   0.0s\n",
      "[CV] END C=7.478590949799509, epsilon=0.6677932360447129, gamma=0.09789380598583054, kernel=sigmoid; total time=   0.0s\n",
      "[CV] END C=6.604529308985305, epsilon=0.8185351195667385, gamma=0.08434042139413539, kernel=sigmoid; total time=   0.0s\n",
      "[CV] END C=6.72901619889304, epsilon=0.9059151604911823, gamma=0.08822967380487574, kernel=sigmoid; total time=   0.0s\n",
      "[CV] END C=0.9911918917891587, epsilon=0.16514423856667795, gamma=0.04269622329143557, kernel=rbf; total time=   0.0s\n",
      "[CV] END C=2.3714420123347897, epsilon=0.4788219129634598, gamma=0.006740599456858455, kernel=rbf; total time=   0.0s\n",
      "[CV] END C=6.604529308985305, epsilon=0.8185351195667385, gamma=0.08434042139413539, kernel=sigmoid; total time=   0.0s\n",
      "[CV] END C=2.3714420123347897, epsilon=0.4788219129634598, gamma=0.006740599456858455, kernel=rbf; total time=   0.0s\n",
      "[CV] END C=0.9911918917891587, epsilon=0.16514423856667795, gamma=0.04269622329143557, kernel=rbf; total time=   0.0s\n",
      "[CV] END C=6.604529308985305, epsilon=0.8185351195667385, gamma=0.08434042139413539, kernel=sigmoid; total time=   0.0s\n",
      "[CV] END C=6.704634911509969, epsilon=0.677350390670905, gamma=0.017611259498845056, kernel=poly; total time=   0.0s\n",
      "[CV] END C=7.478590949799509, epsilon=0.6677932360447129, gamma=0.09789380598583054, kernel=sigmoid; total time=   0.0s\n",
      "[CV] END C=0.9911918917891587, epsilon=0.16514423856667795, gamma=0.04269622329143557, kernel=rbf; total time=   0.0s\n",
      "[CV] END C=7.478590949799509, epsilon=0.6677932360447129, gamma=0.09789380598583054, kernel=sigmoid; total time=   0.0s\n",
      "[CV] END C=5.635063941811994, epsilon=0.7146491562391173, gamma=0.08143254256817546, kernel=sigmoid; total time=   0.0s\n",
      "[CV] END C=0.9911918917891587, epsilon=0.16514423856667795, gamma=0.04269622329143557, kernel=rbf; total time=   0.0s\n",
      "[CV] END C=5.635063941811994, epsilon=0.7146491562391173, gamma=0.08143254256817546, kernel=sigmoid; total time=   0.0s\n",
      "[CV] END C=0.9911918917891587, epsilon=0.16514423856667795, gamma=0.04269622329143557, kernel=rbf; total time=   0.0s\n",
      "[CV] END C=5.635063941811994, epsilon=0.7146491562391173, gamma=0.08143254256817546, kernel=sigmoid; total time=   0.0s\n",
      "[CV] END C=9.394878301044177, epsilon=0.8306501765408193, gamma=0.03430923390272113, kernel=sigmoid; total time=   0.0s\n",
      "[CV] END C=9.394878301044177, epsilon=0.8306501765408193, gamma=0.03430923390272113, kernel=sigmoid; total time=   0.0s\n",
      "[CV] END C=5.635063941811994, epsilon=0.7146491562391173, gamma=0.08143254256817546, kernel=sigmoid; total time=   0.0s\n",
      "[CV] END C=5.635063941811994, epsilon=0.7146491562391173, gamma=0.08143254256817546, kernel=sigmoid; total time=   0.0s\n",
      "[CV] END C=9.394878301044177, epsilon=0.8306501765408193, gamma=0.03430923390272113, kernel=sigmoid; total time=   0.0s\n",
      "[CV] END C=5.930520468085186, epsilon=0.4602245121955578, gamma=0.07597627246362891, kernel=rbf; total time=   0.0s\n",
      "[CV] END C=5.930520468085186, epsilon=0.4602245121955578, gamma=0.07597627246362891, kernel=rbf; total time=   0.0s\n",
      "[CV] END C=9.394878301044177, epsilon=0.8306501765408193, gamma=0.03430923390272113, kernel=sigmoid; total time=   0.0s\n",
      "[CV] END C=5.930520468085186, epsilon=0.4602245121955578, gamma=0.07597627246362891, kernel=rbf; total time=   0.0s\n",
      "[CV] END C=6.799959855871086, epsilon=0.6026460987771047, gamma=0.013831062542591444, kernel=rbf; total time=   0.0s\n",
      "[CV] END C=9.394878301044177, epsilon=0.8306501765408193, gamma=0.03430923390272113, kernel=sigmoid; total time=   0.0s\n",
      "[CV] END C=6.799959855871086, epsilon=0.6026460987771047, gamma=0.013831062542591444, kernel=rbf; total time=   0.0s\n",
      "[CV] END C=5.930520468085186, epsilon=0.4602245121955578, gamma=0.07597627246362891, kernel=rbf; total time=   0.0s\n",
      "[CV] END C=9.697593217469324, epsilon=0.7529558309519904, gamma=0.10007690977894661, kernel=linear; total time=   0.0s\n",
      "[CV] END C=9.697593217469324, epsilon=0.7529558309519904, gamma=0.10007690977894661, kernel=linear; total time=   0.0s\n",
      "[CV] END C=6.799959855871086, epsilon=0.6026460987771047, gamma=0.013831062542591444, kernel=rbf; total time=   0.0s\n",
      "[CV] END C=9.697593217469324, epsilon=0.7529558309519904, gamma=0.10007690977894661, kernel=linear; total time=   0.0s\n",
      "[CV] END C=5.930520468085186, epsilon=0.4602245121955578, gamma=0.07597627246362891, kernel=rbf; total time=   0.0s\n",
      "[CV] END C=6.799959855871086, epsilon=0.6026460987771047, gamma=0.013831062542591444, kernel=rbf; total time=   0.0s\n",
      "[CV] END C=0.04911186439774441, epsilon=1.0133291329699923, gamma=0.05669025878620074, kernel=sigmoid; total time=   0.0s\n",
      "[CV] END C=9.697593217469324, epsilon=0.7529558309519904, gamma=0.10007690977894661, kernel=linear; total time=   0.0s\n",
      "[CV] END C=6.799959855871086, epsilon=0.6026460987771047, gamma=0.013831062542591444, kernel=rbf; total time=   0.0s\n",
      "[CV] END C=0.04911186439774441, epsilon=1.0133291329699923, gamma=0.05669025878620074, kernel=sigmoid; total time=   0.0s\n",
      "[CV] END C=9.697593217469324, epsilon=0.7529558309519904, gamma=0.10007690977894661, kernel=linear; total time=   0.0s\n",
      "[CV] END C=0.7849329956007116, epsilon=0.4067148225866475, gamma=0.0664269128141465, kernel=rbf; total time=   0.0s\n",
      "[CV] END C=0.04911186439774441, epsilon=1.0133291329699923, gamma=0.05669025878620074, kernel=sigmoid; total time=   0.0s\n",
      "[CV] END C=0.7849329956007116, epsilon=0.4067148225866475, gamma=0.0664269128141465, kernel=rbf; total time=   0.0s\n",
      "[CV] END C=0.7849329956007116, epsilon=0.4067148225866475, gamma=0.0664269128141465, kernel=rbf; total time=   0.0s\n",
      "[CV] END C=2.279778855815198, epsilon=1.0837598345798563, gamma=0.03349913306545323, kernel=linear; total time=   0.0s\n",
      "[CV] END C=2.279778855815198, epsilon=1.0837598345798563, gamma=0.03349913306545323, kernel=linear; total time=   0.0s\n",
      "[CV] END C=4.352598949191003, epsilon=0.623136728950796, gamma=0.07951365392182859, kernel=rbf; total time=   0.0s\n",
      "[CV] END C=4.352598949191003, epsilon=0.623136728950796, gamma=0.07951365392182859, kernel=rbf; total time=   0.0s\n",
      "[CV] END C=0.7849329956007116, epsilon=0.4067148225866475, gamma=0.0664269128141465, kernel=rbf; total time=   0.0s\n",
      "[CV] END C=0.04911186439774441, epsilon=1.0133291329699923, gamma=0.05669025878620074, kernel=sigmoid; total time=   0.0s\n",
      "[CV] END C=0.04911186439774441, epsilon=1.0133291329699923, gamma=0.05669025878620074, kernel=sigmoid; total time=   0.0s\n",
      "[CV] END C=0.7849329956007116, epsilon=0.4067148225866475, gamma=0.0664269128141465, kernel=rbf; total time=   0.0s\n",
      "[CV] END C=4.352598949191003, epsilon=0.623136728950796, gamma=0.07951365392182859, kernel=rbf; total time=   0.0s\n",
      "[CV] END C=4.352598949191003, epsilon=0.623136728950796, gamma=0.07951365392182859, kernel=rbf; total time=   0.0s\n",
      "[CV] END C=2.279778855815198, epsilon=1.0837598345798563, gamma=0.03349913306545323, kernel=linear; total time=   0.0s\n",
      "[CV] END C=2.279778855815198, epsilon=1.0837598345798563, gamma=0.03349913306545323, kernel=linear; total time=   0.0s\n",
      "[CV] END C=1.50192617210744, epsilon=0.3944075823401678, gamma=0.013341837663929967, kernel=poly; total time=   0.0s\n",
      "[CV] END C=2.279778855815198, epsilon=1.0837598345798563, gamma=0.03349913306545323, kernel=linear; total time=   0.0s\n",
      "[CV] END C=4.352598949191003, epsilon=0.623136728950796, gamma=0.07951365392182859, kernel=rbf; total time=   0.0s\n",
      "[CV] END C=9.96608181580125, epsilon=0.8310682252760874, gamma=0.07289342797434445, kernel=linear; total time=   0.0s\n",
      "[CV] END C=1.50192617210744, epsilon=0.3944075823401678, gamma=0.013341837663929967, kernel=poly; total time=   0.0s\n",
      "[CV] END C=9.96608181580125, epsilon=0.8310682252760874, gamma=0.07289342797434445, kernel=linear; total time=   0.0s\n",
      "[CV] END C=1.50192617210744, epsilon=0.3944075823401678, gamma=0.013341837663929967, kernel=poly; total time=   0.0s\n",
      "[CV] END C=9.96608181580125, epsilon=0.8310682252760874, gamma=0.07289342797434445, kernel=linear; total time=   0.0s\n",
      "[CV] END C=9.96608181580125, epsilon=0.8310682252760874, gamma=0.07289342797434445, kernel=linear; total time=   0.0s\n",
      "[CV] END C=1.50192617210744, epsilon=0.3944075823401678, gamma=0.013341837663929967, kernel=poly; total time=   0.0s\n",
      "[CV] END C=1.50192617210744, epsilon=0.3944075823401678, gamma=0.013341837663929967, kernel=poly; total time=   0.0s\n",
      "[CV] END C=7.998800890251667, epsilon=0.2909539590811189, gamma=0.029466929433697255, kernel=linear; total time=   0.0s\n",
      "[CV] END C=7.998800890251667, epsilon=0.2909539590811189, gamma=0.029466929433697255, kernel=linear; total time=   0.0s\n",
      "[CV] END C=9.96608181580125, epsilon=0.8310682252760874, gamma=0.07289342797434445, kernel=linear; total time=   0.0s\n",
      "[CV] END C=7.998800890251667, epsilon=0.2909539590811189, gamma=0.029466929433697255, kernel=linear; total time=   0.0s\n",
      "[CV] END C=7.998800890251667, epsilon=0.2909539590811189, gamma=0.029466929433697255, kernel=linear; total time=   0.0s\n",
      "[CV] END C=7.998800890251667, epsilon=0.2909539590811189, gamma=0.029466929433697255, kernel=linear; total time=   0.0s\n",
      "[CV] END C=2.8406760602039802, epsilon=0.9534928411536951, gamma=0.023126296298271797, kernel=poly; total time=   0.0s\n",
      "[CV] END C=2.8406760602039802, epsilon=0.9534928411536951, gamma=0.023126296298271797, kernel=poly; total time=   0.0s\n",
      "[CV] END C=2.8406760602039802, epsilon=0.9534928411536951, gamma=0.023126296298271797, kernel=poly; total time=   0.0s\n",
      "[CV] END C=0.5055672511857994, epsilon=0.6852083600507265, gamma=0.0553276599318691, kernel=rbf; total time=   0.0s\n",
      "[CV] END C=1.598595398923443, epsilon=1.0846184497332994, gamma=0.022953396934674575, kernel=linear; total time=   0.0s\n",
      "[CV] END C=1.598595398923443, epsilon=1.0846184497332994, gamma=0.022953396934674575, kernel=linear; total time=   0.0s\n",
      "[CV] END C=2.8406760602039802, epsilon=0.9534928411536951, gamma=0.023126296298271797, kernel=poly; total time=   0.0s\n",
      "[CV] END C=2.8406760602039802, epsilon=0.9534928411536951, gamma=0.023126296298271797, kernel=poly; total time=   0.0s\n",
      "[CV] END C=7.8551490545816876, epsilon=0.9003964041115314, gamma=0.07292395794803581, kernel=linear; total time=   0.0s\n",
      "[CV] END C=0.5055672511857994, epsilon=0.6852083600507265, gamma=0.0553276599318691, kernel=rbf; total time=   0.0s\n",
      "[CV] END C=0.5055672511857994, epsilon=0.6852083600507265, gamma=0.0553276599318691, kernel=rbf; total time=   0.0s\n",
      "[CV] END C=1.598595398923443, epsilon=1.0846184497332994, gamma=0.022953396934674575, kernel=linear; total time=   0.0s\n",
      "[CV] END C=1.598595398923443, epsilon=1.0846184497332994, gamma=0.022953396934674575, kernel=linear; total time=   0.0s\n",
      "[CV] END C=1.598595398923443, epsilon=1.0846184497332994, gamma=0.022953396934674575, kernel=linear; total time=   0.0s\n",
      "[CV] END C=9.084329477650419, epsilon=0.3249705760688303, gamma=0.07593442469007476, kernel=poly; total time=   0.0s\n",
      "[CV] END C=9.084329477650419, epsilon=0.3249705760688303, gamma=0.07593442469007476, kernel=poly; total time=   0.0s\n",
      "[CV] END C=9.084329477650419, epsilon=0.3249705760688303, gamma=0.07593442469007476, kernel=poly; total time=   0.0s\n",
      "[CV] END C=0.5055672511857994, epsilon=0.6852083600507265, gamma=0.0553276599318691, kernel=rbf; total time=   0.0s\n",
      "[CV] END C=7.8551490545816876, epsilon=0.9003964041115314, gamma=0.07292395794803581, kernel=linear; total time=   0.0s\n",
      "[CV] END C=0.5055672511857994, epsilon=0.6852083600507265, gamma=0.0553276599318691, kernel=rbf; total time=   0.0s\n",
      "[CV] END C=9.084329477650419, epsilon=0.3249705760688303, gamma=0.07593442469007476, kernel=poly; total time=   0.0s\n",
      "[CV] END C=4.215417798434289, epsilon=0.6241138785120505, gamma=0.02173565467285751, kernel=linear; total time=   0.0s\n",
      "[CV] END C=4.215417798434289, epsilon=0.6241138785120505, gamma=0.02173565467285751, kernel=linear; total time=   0.0s[CV] END C=7.8551490545816876, epsilon=0.9003964041115314, gamma=0.07292395794803581, kernel=linear; total time=   0.0s\n",
      "\n",
      "[CV] END C=7.8551490545816876, epsilon=0.9003964041115314, gamma=0.07292395794803581, kernel=linear; total time=   0.0s\n",
      "[CV] END C=9.084329477650419, epsilon=0.3249705760688303, gamma=0.07593442469007476, kernel=poly; total time=   0.0s\n",
      "[CV] END C=4.215417798434289, epsilon=0.6241138785120505, gamma=0.02173565467285751, kernel=linear; total time=   0.0s\n",
      "[CV] END C=2.941683445298201, epsilon=0.49955381487661343, gamma=0.020556712999263094, kernel=linear; total time=   0.0s\n",
      "[CV] END C=7.8551490545816876, epsilon=0.9003964041115314, gamma=0.07292395794803581, kernel=linear; total time=   0.0s\n",
      "[CV] END C=0.8916543170205153, epsilon=1.0787896687524494, gamma=0.04904220194439713, kernel=sigmoid; total time=   0.0s\n",
      "[CV] END C=2.941683445298201, epsilon=0.49955381487661343, gamma=0.020556712999263094, kernel=linear; total time=   0.0s\n",
      "[CV] END C=4.215417798434289, epsilon=0.6241138785120505, gamma=0.02173565467285751, kernel=linear; total time=   0.0s\n",
      "[CV] END C=2.941683445298201, epsilon=0.49955381487661343, gamma=0.020556712999263094, kernel=linear; total time=   0.0s\n",
      "[CV] END C=2.941683445298201, epsilon=0.49955381487661343, gamma=0.020556712999263094, kernel=linear; total time=   0.0s\n",
      "[CV] END C=2.941683445298201, epsilon=0.49955381487661343, gamma=0.020556712999263094, kernel=linear; total time=   0.0s\n",
      "[CV] END C=0.8916543170205153, epsilon=1.0787896687524494, gamma=0.04904220194439713, kernel=sigmoid; total time=   0.0s\n",
      "[CV] END C=0.8916543170205153, epsilon=1.0787896687524494, gamma=0.04904220194439713, kernel=sigmoid; total time=   0.0s\n",
      "[CV] END C=4.215417798434289, epsilon=0.6241138785120505, gamma=0.02173565467285751, kernel=linear; total time=   0.0s\n",
      "[CV] END C=0.8916543170205153, epsilon=1.0787896687524494, gamma=0.04904220194439713, kernel=sigmoid; total time=   0.0s\n",
      "[CV] END C=7.382377413695462, epsilon=0.23046132044223702, gamma=0.04078144448019802, kernel=sigmoid; total time=   0.0s\n",
      "[CV] END C=7.382377413695462, epsilon=0.23046132044223702, gamma=0.04078144448019802, kernel=sigmoid; total time=   0.0s\n",
      "[CV] END C=7.382377413695462, epsilon=0.23046132044223702, gamma=0.04078144448019802, kernel=sigmoid; total time=   0.0s\n",
      "[CV] END C=0.8916543170205153, epsilon=1.0787896687524494, gamma=0.04904220194439713, kernel=sigmoid; total time=   0.0s\n",
      "[CV] END C=7.382377413695462, epsilon=0.23046132044223702, gamma=0.04078144448019802, kernel=sigmoid; total time=   0.0s\n",
      "[CV] END C=7.181592052095272, epsilon=0.8204656523247547, gamma=0.08772590921950381, kernel=poly; total time=   0.0s\n",
      "[CV] END C=7.181592052095272, epsilon=0.8204656523247547, gamma=0.08772590921950381, kernel=poly; total time=   0.0s\n",
      "[CV] END C=7.382377413695462, epsilon=0.23046132044223702, gamma=0.04078144448019802, kernel=sigmoid; total time=   0.0s\n",
      "[CV] END C=8.188069451098746, epsilon=0.135067016950039, gamma=0.06524148502521362, kernel=sigmoid; total time=   0.0s\n",
      "[CV] END C=7.181592052095272, epsilon=0.8204656523247547, gamma=0.08772590921950381, kernel=poly; total time=   0.0s\n",
      "[CV] END C=1.9561957049337524, epsilon=0.21388107714392937, gamma=0.002966128932276213, kernel=rbf; total time=   0.0s\n",
      "[CV] END C=0.8644511742713628, epsilon=0.27521943954348094, gamma=0.050429326889697375, kernel=rbf; total time=   0.0s\n",
      "[CV] END C=7.181592052095272, epsilon=0.8204656523247547, gamma=0.08772590921950381, kernel=poly; total time=   0.0s\n",
      "[CV] END C=7.181592052095272, epsilon=0.8204656523247547, gamma=0.08772590921950381, kernel=poly; total time=   0.0s\n",
      "[CV] END C=8.188069451098746, epsilon=0.135067016950039, gamma=0.06524148502521362, kernel=sigmoid; total time=   0.0s\n",
      "[CV] END C=8.188069451098746, epsilon=0.135067016950039, gamma=0.06524148502521362, kernel=sigmoid; total time=   0.0s\n",
      "[CV] END C=0.8644511742713628, epsilon=0.27521943954348094, gamma=0.050429326889697375, kernel=rbf; total time=   0.0s\n",
      "[CV] END C=1.9561957049337524, epsilon=0.21388107714392937, gamma=0.002966128932276213, kernel=rbf; total time=   0.0s\n",
      "[CV] END C=1.9561957049337524, epsilon=0.21388107714392937, gamma=0.002966128932276213, kernel=rbf; total time=   0.0s\n",
      "[CV] END C=8.188069451098746, epsilon=0.135067016950039, gamma=0.06524148502521362, kernel=sigmoid; total time=   0.0s\n",
      "[CV] END C=0.8644511742713628, epsilon=0.27521943954348094, gamma=0.050429326889697375, kernel=rbf; total time=   0.0s\n",
      "[CV] END C=8.188069451098746, epsilon=0.135067016950039, gamma=0.06524148502521362, kernel=sigmoid; total time=   0.0s\n",
      "[CV] END C=8.371680909486258, epsilon=0.3488661220365925, gamma=0.04897456055787914, kernel=sigmoid; total time=   0.0s\n",
      "[CV] END C=1.9561957049337524, epsilon=0.21388107714392937, gamma=0.002966128932276213, kernel=rbf; total time=   0.0s\n",
      "[CV] END C=1.9561957049337524, epsilon=0.21388107714392937, gamma=0.002966128932276213, kernel=rbf; total time=   0.0s\n",
      "[CV] END C=0.8644511742713628, epsilon=0.27521943954348094, gamma=0.050429326889697375, kernel=rbf; total time=   0.0s\n",
      "[CV] END C=0.8644511742713628, epsilon=0.27521943954348094, gamma=0.050429326889697375, kernel=rbf; total time=   0.0s\n",
      "[CV] END C=8.371680909486258, epsilon=0.3488661220365925, gamma=0.04897456055787914, kernel=sigmoid; total time=   0.0s\n",
      "[CV] END C=8.371680909486258, epsilon=0.3488661220365925, gamma=0.04897456055787914, kernel=sigmoid; total time=   0.0s\n",
      "[CV] END C=9.031919881384107, epsilon=0.567438771325494, gamma=0.028911516261922853, kernel=sigmoid; total time=   0.0s\n",
      "[CV] END C=9.031919881384107, epsilon=0.567438771325494, gamma=0.028911516261922853, kernel=sigmoid; total time=   0.0s\n",
      "[CV] END C=9.031919881384107, epsilon=0.567438771325494, gamma=0.028911516261922853, kernel=sigmoid; total time=   0.0s\n",
      "[CV] END C=8.371680909486258, epsilon=0.3488661220365925, gamma=0.04897456055787914, kernel=sigmoid; total time=   0.0s\n",
      "[CV] END C=9.031919881384107, epsilon=0.567438771325494, gamma=0.028911516261922853, kernel=sigmoid; total time=   0.0s\n",
      "[CV] END C=9.472785522342312, epsilon=0.8829755696592693, gamma=0.06668598005683941, kernel=linear; total time=   0.0s\n",
      "[CV] END C=9.031919881384107, epsilon=0.567438771325494, gamma=0.028911516261922853, kernel=sigmoid; total time=   0.0s\n",
      "[CV] END C=0.7949407340893548, epsilon=0.5341124185024816, gamma=0.03190096670557016, kernel=poly; total time=   0.0s\n",
      "[CV] END C=8.371680909486258, epsilon=0.3488661220365925, gamma=0.04897456055787914, kernel=sigmoid; total time=   0.0s\n",
      "[CV] END C=9.472785522342312, epsilon=0.8829755696592693, gamma=0.06668598005683941, kernel=linear; total time=   0.0s\n",
      "[CV] END C=9.472785522342312, epsilon=0.8829755696592693, gamma=0.06668598005683941, kernel=linear; total time=   0.0s\n",
      "[CV] END C=0.7949407340893548, epsilon=0.5341124185024816, gamma=0.03190096670557016, kernel=poly; total time=   0.0s\n",
      "[CV] END C=9.472785522342312, epsilon=0.8829755696592693, gamma=0.06668598005683941, kernel=linear; total time=   0.0s\n",
      "[CV] END C=0.7949407340893548, epsilon=0.5341124185024816, gamma=0.03190096670557016, kernel=poly; total time=   0.0s\n",
      "[CV] END C=6.420605211006975, epsilon=0.9759011782796007, gamma=0.00405800333175429, kernel=sigmoid; total time=   0.0s\n",
      "[CV] END C=0.7949407340893548, epsilon=0.5341124185024816, gamma=0.03190096670557016, kernel=poly; total time=   0.0s\n",
      "[CV] END C=6.420605211006975, epsilon=0.9759011782796007, gamma=0.00405800333175429, kernel=sigmoid; total time=   0.0s\n",
      "[CV] END C=7.043950300081457, epsilon=0.8765479498868833, gamma=0.02020327993484036, kernel=rbf; total time=   0.0s\n",
      "[CV] END C=6.420605211006975, epsilon=0.9759011782796007, gamma=0.00405800333175429, kernel=sigmoid; total time=   0.0s\n",
      "[CV] END C=9.472785522342312, epsilon=0.8829755696592693, gamma=0.06668598005683941, kernel=linear; total time=   0.0s\n",
      "[CV] END C=6.420605211006975, epsilon=0.9759011782796007, gamma=0.00405800333175429, kernel=sigmoid; total time=   0.0s\n",
      "[CV] END C=7.043950300081457, epsilon=0.8765479498868833, gamma=0.02020327993484036, kernel=rbf; total time=   0.0s\n",
      "[CV] END C=6.420605211006975, epsilon=0.9759011782796007, gamma=0.00405800333175429, kernel=sigmoid; total time=   0.0s\n",
      "[CV] END C=7.043950300081457, epsilon=0.8765479498868833, gamma=0.02020327993484036, kernel=rbf; total time=   0.0s\n",
      "[CV] END C=7.043950300081457, epsilon=0.8765479498868833, gamma=0.02020327993484036, kernel=rbf; total time=   0.0s\n",
      "[CV] END C=9.799715440543782, epsilon=0.7872419491956428, gamma=0.03325514357273195, kernel=sigmoid; total time=   0.0s\n",
      "[CV] END C=9.799715440543782, epsilon=0.7872419491956428, gamma=0.03325514357273195, kernel=sigmoid; total time=   0.0s\n",
      "[CV] END C=0.7949407340893548, epsilon=0.5341124185024816, gamma=0.03190096670557016, kernel=poly; total time=   0.0s\n",
      "[CV] END C=7.043950300081457, epsilon=0.8765479498868833, gamma=0.02020327993484036, kernel=rbf; total time=   0.0s\n",
      "[CV] END C=9.799715440543782, epsilon=0.7872419491956428, gamma=0.03325514357273195, kernel=sigmoid; total time=   0.0s\n",
      "[CV] END C=9.799715440543782, epsilon=0.7872419491956428, gamma=0.03325514357273195, kernel=sigmoid; total time=   0.0s\n",
      "[CV] END C=5.683375740188753, epsilon=0.2277901041719851, gamma=0.07925681415878702, kernel=sigmoid; total time=   0.0s\n",
      "[CV] END C=5.683375740188753, epsilon=0.2277901041719851, gamma=0.07925681415878702, kernel=sigmoid; total time=   0.0s\n",
      "[CV] END C=9.799715440543782, epsilon=0.7872419491956428, gamma=0.03325514357273195, kernel=sigmoid; total time=   0.0s\n",
      "[CV] END C=7.653086008103719, epsilon=0.19734222803028392, gamma=0.018429415162066042, kernel=sigmoid; total time=   0.0s\n",
      "[CV] END C=7.653086008103719, epsilon=0.19734222803028392, gamma=0.018429415162066042, kernel=sigmoid; total time=   0.0s\n",
      "[CV] END C=5.683375740188753, epsilon=0.2277901041719851, gamma=0.07925681415878702, kernel=sigmoid; total time=   0.0s\n",
      "[CV] END C=7.653086008103719, epsilon=0.19734222803028392, gamma=0.018429415162066042, kernel=sigmoid; total time=   0.0s\n",
      "[CV] END C=5.683375740188753, epsilon=0.2277901041719851, gamma=0.07925681415878702, kernel=sigmoid; total time=   0.0s\n",
      "[CV] END C=7.653086008103719, epsilon=0.19734222803028392, gamma=0.018429415162066042, kernel=sigmoid; total time=   0.0s\n",
      "[CV] END C=5.683375740188753, epsilon=0.2277901041719851, gamma=0.07925681415878702, kernel=sigmoid; total time=   0.0s\n",
      "[CV] END C=7.653086008103719, epsilon=0.19734222803028392, gamma=0.018429415162066042, kernel=sigmoid; total time=   0.0s\n",
      "[CV] END C=0.4926146092727739, epsilon=0.6353371306164198, gamma=0.09532681452805454, kernel=linear; total time=   0.0s\n",
      "[CV] END C=0.4926146092727739, epsilon=0.6353371306164198, gamma=0.09532681452805454, kernel=linear; total time=   0.0s\n",
      "[CV] END C=3.4826092138838214, epsilon=0.5162141757711705, gamma=0.011639863812753726, kernel=linear; total time=   0.0s\n",
      "[CV] END C=0.4926146092727739, epsilon=0.6353371306164198, gamma=0.09532681452805454, kernel=linear; total time=   0.0s\n",
      "[CV] END C=0.4926146092727739, epsilon=0.6353371306164198, gamma=0.09532681452805454, kernel=linear; total time=   0.0s\n",
      "[CV] END C=3.4826092138838214, epsilon=0.5162141757711705, gamma=0.011639863812753726, kernel=linear; total time=   0.0s\n",
      "[CV] END C=3.4826092138838214, epsilon=0.5162141757711705, gamma=0.011639863812753726, kernel=linear; total time=   0.0s\n",
      "[CV] END C=0.4926146092727739, epsilon=0.6353371306164198, gamma=0.09532681452805454, kernel=linear; total time=   0.0s\n",
      "[CV] END C=6.522265668268803, epsilon=0.13971778615777022, gamma=0.04797522019553227, kernel=rbf; total time=   0.0s\n",
      "[CV] END C=3.4826092138838214, epsilon=0.5162141757711705, gamma=0.011639863812753726, kernel=linear; total time=   0.0s\n",
      "[CV] END C=3.4826092138838214, epsilon=0.5162141757711705, gamma=0.011639863812753726, kernel=linear; total time=   0.0s\n",
      "[CV] END C=6.522265668268803, epsilon=0.13971778615777022, gamma=0.04797522019553227, kernel=rbf; total time=   0.0s\n",
      "[CV] END C=6.522265668268803, epsilon=0.13971778615777022, gamma=0.04797522019553227, kernel=rbf; total time=   0.0s\n",
      "[CV] END C=6.522265668268803, epsilon=0.13971778615777022, gamma=0.04797522019553227, kernel=rbf; total time=   0.0s\n",
      "[CV] END C=6.522265668268803, epsilon=0.13971778615777022, gamma=0.04797522019553227, kernel=rbf; total time=   0.0s\n",
      "[CV] END C=8.756519557345042, epsilon=0.18916931961217978, gamma=0.09375226858263688, kernel=rbf; total time=   0.0s\n",
      "[CV] END C=8.756519557345042, epsilon=0.18916931961217978, gamma=0.09375226858263688, kernel=rbf; total time=   0.0s\n",
      "[CV] END C=8.063328853914767, epsilon=0.8821790687809269, gamma=0.07428141417837025, kernel=sigmoid; total time=   0.0s\n",
      "[CV] END C=8.756519557345042, epsilon=0.18916931961217978, gamma=0.09375226858263688, kernel=rbf; total time=   0.0s\n",
      "[CV] END C=8.756519557345042, epsilon=0.18916931961217978, gamma=0.09375226858263688, kernel=rbf; total time=   0.0s\n",
      "[CV] END C=8.756519557345042, epsilon=0.18916931961217978, gamma=0.09375226858263688, kernel=rbf; total time=   0.0s\n",
      "[CV] END C=8.063328853914767, epsilon=0.8821790687809269, gamma=0.07428141417837025, kernel=sigmoid; total time=   0.0s\n",
      "[CV] END C=8.063328853914767, epsilon=0.8821790687809269, gamma=0.07428141417837025, kernel=sigmoid; total time=   0.0s\n",
      "[CV] END C=8.063328853914767, epsilon=0.8821790687809269, gamma=0.07428141417837025, kernel=sigmoid; total time=   0.0s\n",
      "[CV] END C=3.325337836743078, epsilon=0.2192860979272773, gamma=0.012234837915227925, kernel=rbf; total time=   0.0s\n",
      "[CV] END C=3.005590788907458, epsilon=1.037192746252765, gamma=0.015910969214091276, kernel=sigmoid; total time=   0.0s\n",
      "[CV] END C=8.04435232207597, epsilon=0.5225370589719301, gamma=0.000938289228560707, kernel=rbf; total time=   0.0s\n",
      "[CV] END C=3.005590788907458, epsilon=1.037192746252765, gamma=0.015910969214091276, kernel=sigmoid; total time=   0.0s\n",
      "[CV] END C=8.04435232207597, epsilon=0.5225370589719301, gamma=0.000938289228560707, kernel=rbf; total time=   0.0s\n",
      "[CV] END C=3.005590788907458, epsilon=1.037192746252765, gamma=0.015910969214091276, kernel=sigmoid; total time=   0.0s\n",
      "[CV] END C=8.753852081475486, epsilon=0.9350583147831965, gamma=0.07330349677460068, kernel=poly; total time=   0.0s\n",
      "[CV] END C=4.113714217966566, epsilon=0.7697906155222805, gamma=0.05856886118040534, kernel=rbf; total time=   0.0s\n",
      "[CV] END C=3.325337836743078, epsilon=0.2192860979272773, gamma=0.012234837915227925, kernel=rbf; total time=   0.0s\n",
      "[CV] END C=8.063328853914767, epsilon=0.8821790687809269, gamma=0.07428141417837025, kernel=sigmoid; total time=   0.0s\n",
      "[CV] END C=3.005590788907458, epsilon=1.037192746252765, gamma=0.015910969214091276, kernel=sigmoid; total time=   0.0s\n",
      "[CV] END C=8.753852081475486, epsilon=0.9350583147831965, gamma=0.07330349677460068, kernel=poly; total time=   0.0s\n",
      "[CV] END C=8.04435232207597, epsilon=0.5225370589719301, gamma=0.000938289228560707, kernel=rbf; total time=   0.0s\n",
      "[CV] END C=8.753852081475486, epsilon=0.9350583147831965, gamma=0.07330349677460068, kernel=poly; total time=   0.0s\n",
      "[CV] END C=3.325337836743078, epsilon=0.2192860979272773, gamma=0.012234837915227925, kernel=rbf; total time=   0.0s\n",
      "[CV] END C=4.044483329823372, epsilon=0.5696975632377225, gamma=0.09140795242971482, kernel=rbf; total time=   0.0s\n",
      "[CV] END C=4.044483329823372, epsilon=0.5696975632377225, gamma=0.09140795242971482, kernel=rbf; total time=   0.0s\n",
      "[CV] END C=3.325337836743078, epsilon=0.2192860979272773, gamma=0.012234837915227925, kernel=rbf; total time=   0.0s\n",
      "[CV] END C=8.04435232207597, epsilon=0.5225370589719301, gamma=0.000938289228560707, kernel=rbf; total time=   0.0s\n",
      "[CV] END C=4.113714217966566, epsilon=0.7697906155222805, gamma=0.05856886118040534, kernel=rbf; total time=   0.0s\n",
      "[CV] END C=3.005590788907458, epsilon=1.037192746252765, gamma=0.015910969214091276, kernel=sigmoid; total time=   0.0s\n",
      "[CV] END C=4.044483329823372, epsilon=0.5696975632377225, gamma=0.09140795242971482, kernel=rbf; total time=   0.0s\n",
      "[CV] END C=4.113714217966566, epsilon=0.7697906155222805, gamma=0.05856886118040534, kernel=rbf; total time=   0.0s\n",
      "[CV] END C=4.113714217966566, epsilon=0.7697906155222805, gamma=0.05856886118040534, kernel=rbf; total time=   0.0s\n",
      "[CV] END C=4.113714217966566, epsilon=0.7697906155222805, gamma=0.05856886118040534, kernel=rbf; total time=   0.0s\n",
      "[CV] END C=4.044483329823372, epsilon=0.5696975632377225, gamma=0.09140795242971482, kernel=rbf; total time=   0.0s\n",
      "[CV] END C=8.753852081475486, epsilon=0.9350583147831965, gamma=0.07330349677460068, kernel=poly; total time=   0.0s\n",
      "[CV] END C=8.753852081475486, epsilon=0.9350583147831965, gamma=0.07330349677460068, kernel=poly; total time=   0.0s\n",
      "[CV] END C=8.04435232207597, epsilon=0.5225370589719301, gamma=0.000938289228560707, kernel=rbf; total time=   0.0s\n",
      "[CV] END C=7.678821896977128, epsilon=1.052076868803759, gamma=0.009257465691377064, kernel=sigmoid; total time=   0.0s\n",
      "[CV] END C=3.325337836743078, epsilon=0.2192860979272773, gamma=0.012234837915227925, kernel=rbf; total time=   0.0s\n",
      "[CV] END C=7.678821896977128, epsilon=1.052076868803759, gamma=0.009257465691377064, kernel=sigmoid; total time=   0.0s\n",
      "[CV] END C=4.044483329823372, epsilon=0.5696975632377225, gamma=0.09140795242971482, kernel=rbf; total time=   0.0s\n",
      "[CV] END C=7.678821896977128, epsilon=1.052076868803759, gamma=0.009257465691377064, kernel=sigmoid; total time=   0.0s\n",
      "[CV] END C=7.678821896977128, epsilon=1.052076868803759, gamma=0.009257465691377064, kernel=sigmoid; total time=   0.0s\n",
      "[CV] END C=1.1560890578213139, epsilon=0.5297785301684321, gamma=0.0813138629012272, kernel=linear; total time=   0.0s\n",
      "[CV] END C=1.1560890578213139, epsilon=0.5297785301684321, gamma=0.0813138629012272, kernel=linear; total time=   0.0s\n",
      "[CV] END C=7.678821896977128, epsilon=1.052076868803759, gamma=0.009257465691377064, kernel=sigmoid; total time=   0.0s\n",
      "[CV] END C=1.1560890578213139, epsilon=0.5297785301684321, gamma=0.0813138629012272, kernel=linear; total time=   0.0s\n",
      "[CV] END C=1.1560890578213139, epsilon=0.5297785301684321, gamma=0.0813138629012272, kernel=linear; total time=   0.0s\n",
      "[CV] END C=1.4001947564330512, epsilon=0.29168048238252897, gamma=0.01672683228518248, kernel=sigmoid; total time=   0.0s\n",
      "[CV] END C=1.4001947564330512, epsilon=0.29168048238252897, gamma=0.01672683228518248, kernel=sigmoid; total time=   0.0s\n",
      "[CV] END C=1.1560890578213139, epsilon=0.5297785301684321, gamma=0.0813138629012272, kernel=linear; total time=   0.0s\n",
      "[CV] END C=1.4001947564330512, epsilon=0.29168048238252897, gamma=0.01672683228518248, kernel=sigmoid; total time=   0.0s\n",
      "[CV] END C=1.4001947564330512, epsilon=0.29168048238252897, gamma=0.01672683228518248, kernel=sigmoid; total time=   0.0s\n",
      "[CV] END C=8.200668704560107, epsilon=0.8070182652211124, gamma=0.07451326310535794, kernel=linear; total time=   0.0s\n",
      "[CV] END C=1.4001947564330512, epsilon=0.29168048238252897, gamma=0.01672683228518248, kernel=sigmoid; total time=   0.0s\n",
      "[CV] END C=8.200668704560107, epsilon=0.8070182652211124, gamma=0.07451326310535794, kernel=linear; total time=   0.0s\n",
      "[CV] END C=8.200668704560107, epsilon=0.8070182652211124, gamma=0.07451326310535794, kernel=linear; total time=   0.0s\n",
      "[CV] END C=8.200668704560107, epsilon=0.8070182652211124, gamma=0.07451326310535794, kernel=linear; total time=   0.0s\n",
      "[CV] END C=8.200668704560107, epsilon=0.8070182652211124, gamma=0.07451326310535794, kernel=linear; total time=   0.0s\n",
      "[CV] END C=1.2804358828083633, epsilon=0.9092753080858275, gamma=0.08051394673109093, kernel=rbf; total time=   0.0s\n",
      "[CV] END C=1.2804358828083633, epsilon=0.9092753080858275, gamma=0.08051394673109093, kernel=rbf; total time=   0.0s\n",
      "[CV] END C=1.2804358828083633, epsilon=0.9092753080858275, gamma=0.08051394673109093, kernel=rbf; total time=   0.0s\n",
      "[CV] END C=1.2804358828083633, epsilon=0.9092753080858275, gamma=0.08051394673109093, kernel=rbf; total time=   0.0s\n",
      "[CV] END C=1.2804358828083633, epsilon=0.9092753080858275, gamma=0.08051394673109093, kernel=rbf; total time=   0.0s\n",
      "[CV] END C=4.30991216588829, epsilon=1.0281728861965689, gamma=0.08244136506674388, kernel=rbf; total time=   0.0s\n",
      "[CV] END C=4.30991216588829, epsilon=1.0281728861965689, gamma=0.08244136506674388, kernel=rbf; total time=   0.0s\n",
      "[CV] END C=4.30991216588829, epsilon=1.0281728861965689, gamma=0.08244136506674388, kernel=rbf; total time=   0.0s\n",
      "[CV] END C=4.30991216588829, epsilon=1.0281728861965689, gamma=0.08244136506674388, kernel=rbf; total time=   0.0s\n",
      "[CV] END C=0.7367081553962378, epsilon=0.3186407021505615, gamma=0.08391738813977624, kernel=linear; total time=   0.0s\n",
      "[CV] END C=4.30991216588829, epsilon=1.0281728861965689, gamma=0.08244136506674388, kernel=rbf; total time=   0.0s\n",
      "[CV] END C=0.7367081553962378, epsilon=0.3186407021505615, gamma=0.08391738813977624, kernel=linear; total time=   0.0s\n",
      "[CV] END C=0.7367081553962378, epsilon=0.3186407021505615, gamma=0.08391738813977624, kernel=linear; total time=   0.0s\n",
      "[CV] END C=0.7367081553962378, epsilon=0.3186407021505615, gamma=0.08391738813977624, kernel=linear; total time=   0.0s\n",
      "[CV] END C=4.169356412181664, epsilon=0.24177018535149988, gamma=0.009166288502731679, kernel=rbf; total time=   0.0s\n",
      "[CV] END C=4.169356412181664, epsilon=0.24177018535149988, gamma=0.009166288502731679, kernel=rbf; total time=   0.0s\n",
      "[CV] END C=0.7367081553962378, epsilon=0.3186407021505615, gamma=0.08391738813977624, kernel=linear; total time=   0.0s\n",
      "[CV] END C=4.169356412181664, epsilon=0.24177018535149988, gamma=0.009166288502731679, kernel=rbf; total time=   0.0s\n",
      "[CV] END C=4.169356412181664, epsilon=0.24177018535149988, gamma=0.009166288502731679, kernel=rbf; total time=   0.0s\n",
      "[CV] END C=6.3788268146919975, epsilon=0.8524514481328568, gamma=0.07726721441050725, kernel=rbf; total time=   0.0s\n",
      "[CV] END C=5.956764440960083, epsilon=0.3127035882037331, gamma=0.04143982853708662, kernel=linear; total time=   0.0s\n",
      "[CV] END C=6.3788268146919975, epsilon=0.8524514481328568, gamma=0.07726721441050725, kernel=rbf; total time=   0.0s\n",
      "[CV] END C=5.956764440960083, epsilon=0.3127035882037331, gamma=0.04143982853708662, kernel=linear; total time=   0.0s\n",
      "[CV] END C=6.3788268146919975, epsilon=0.8524514481328568, gamma=0.07726721441050725, kernel=rbf; total time=   0.0s\n",
      "[CV] END C=5.956764440960083, epsilon=0.3127035882037331, gamma=0.04143982853708662, kernel=linear; total time=   0.0s\n",
      "[CV] END C=6.3788268146919975, epsilon=0.8524514481328568, gamma=0.07726721441050725, kernel=rbf; total time=   0.0s\n",
      "[CV] END C=5.956764440960083, epsilon=0.3127035882037331, gamma=0.04143982853708662, kernel=linear; total time=   0.0s\n",
      "[CV] END C=6.3788268146919975, epsilon=0.8524514481328568, gamma=0.07726721441050725, kernel=rbf; total time=   0.0s\n",
      "[CV] END C=4.169356412181664, epsilon=0.24177018535149988, gamma=0.009166288502731679, kernel=rbf; total time=   0.0s\n",
      "[CV] END C=5.956764440960083, epsilon=0.3127035882037331, gamma=0.04143982853708662, kernel=linear; total time=   0.0s\n",
      "[CV] END C=1.4127599443376542, epsilon=0.4836008143549553, gamma=0.07554957880546072, kernel=linear; total time=   0.0s\n",
      "[CV] END C=1.4127599443376542, epsilon=0.4836008143549553, gamma=0.07554957880546072, kernel=linear; total time=   0.0s\n",
      "[CV] END C=1.4127599443376542, epsilon=0.4836008143549553, gamma=0.07554957880546072, kernel=linear; total time=   0.0s\n",
      "[CV] END C=1.4127599443376542, epsilon=0.4836008143549553, gamma=0.07554957880546072, kernel=linear; total time=   0.0s\n",
      "[CV] END C=8.917367338564487, epsilon=0.7347228833100453, gamma=0.025107526227015755, kernel=sigmoid; total time=   0.0s\n",
      "[CV] END C=1.4127599443376542, epsilon=0.4836008143549553, gamma=0.07554957880546072, kernel=linear; total time=   0.0s\n",
      "[CV] END C=8.917367338564487, epsilon=0.7347228833100453, gamma=0.025107526227015755, kernel=sigmoid; total time=   0.0s\n",
      "[CV] END C=8.917367338564487, epsilon=0.7347228833100453, gamma=0.025107526227015755, kernel=sigmoid; total time=   0.0s\n",
      "[CV] END C=8.917367338564487, epsilon=0.7347228833100453, gamma=0.025107526227015755, kernel=sigmoid; total time=   0.0s\n",
      "[CV] END C=6.116169092210768, epsilon=0.4115112462361734, gamma=0.08707941026531997, kernel=rbf; total time=   0.0s\n",
      "[CV] END C=8.917367338564487, epsilon=0.7347228833100453, gamma=0.025107526227015755, kernel=sigmoid; total time=   0.0s\n",
      "[CV] END C=6.116169092210768, epsilon=0.4115112462361734, gamma=0.08707941026531997, kernel=rbf; total time=   0.0s\n",
      "[CV] END C=6.116169092210768, epsilon=0.4115112462361734, gamma=0.08707941026531997, kernel=rbf; total time=   0.0s\n",
      "[CV] END C=6.116169092210768, epsilon=0.4115112462361734, gamma=0.08707941026531997, kernel=rbf; total time=   0.0s\n",
      "[CV] END C=3.8261074867629903, epsilon=0.15125889649787352, gamma=0.07924925371923076, kernel=poly; total time=   0.0s\n",
      "[CV] END C=3.8261074867629903, epsilon=0.15125889649787352, gamma=0.07924925371923076, kernel=poly; total time=   0.0s\n",
      "[CV] END C=3.8261074867629903, epsilon=0.15125889649787352, gamma=0.07924925371923076, kernel=poly; total time=   0.0s\n",
      "[CV] END C=7.266320729118817, epsilon=1.0713373861795252, gamma=0.03809080677430546, kernel=sigmoid; total time=   0.0s\n",
      "[CV] END C=6.116169092210768, epsilon=0.4115112462361734, gamma=0.08707941026531997, kernel=rbf; total time=   0.0s\n",
      "[CV] END C=3.8261074867629903, epsilon=0.15125889649787352, gamma=0.07924925371923076, kernel=poly; total time=   0.0s\n",
      "[CV] END C=3.8261074867629903, epsilon=0.15125889649787352, gamma=0.07924925371923076, kernel=poly; total time=   0.0s\n",
      "[CV] END C=6.547576920297315, epsilon=0.3470960680822367, gamma=0.04340063614392205, kernel=rbf; total time=   0.0s\n",
      "[CV] END C=7.266320729118817, epsilon=1.0713373861795252, gamma=0.03809080677430546, kernel=sigmoid; total time=   0.0s\n",
      "[CV] END C=7.266320729118817, epsilon=1.0713373861795252, gamma=0.03809080677430546, kernel=sigmoid; total time=   0.0s\n",
      "[CV] END C=7.266320729118817, epsilon=1.0713373861795252, gamma=0.03809080677430546, kernel=sigmoid; total time=   0.0s\n",
      "[CV] END C=6.547576920297315, epsilon=0.3470960680822367, gamma=0.04340063614392205, kernel=rbf; total time=   0.0s\n",
      "[CV] END C=6.547576920297315, epsilon=0.3470960680822367, gamma=0.04340063614392205, kernel=rbf; total time=   0.0s\n",
      "[CV] END C=6.547576920297315, epsilon=0.3470960680822367, gamma=0.04340063614392205, kernel=rbf; total time=   0.0s\n",
      "[CV] END C=7.266320729118817, epsilon=1.0713373861795252, gamma=0.03809080677430546, kernel=sigmoid; total time=   0.0s\n",
      "[CV] END C=7.489938498699908, epsilon=0.629105179217108, gamma=0.061746997634381975, kernel=linear; total time=   0.0s\n",
      "[CV] END C=7.489938498699908, epsilon=0.629105179217108, gamma=0.061746997634381975, kernel=linear; total time=   0.0s\n",
      "[CV] END C=6.547576920297315, epsilon=0.3470960680822367, gamma=0.04340063614392205, kernel=rbf; total time=   0.0s\n",
      "[CV] END C=7.489938498699908, epsilon=0.629105179217108, gamma=0.061746997634381975, kernel=linear; total time=   0.0s\n",
      "[CV] END C=7.489938498699908, epsilon=0.629105179217108, gamma=0.061746997634381975, kernel=linear; total time=   0.0s\n",
      "[CV] END C=4.310613411544249, epsilon=0.4845910215417445, gamma=0.031525891487566265, kernel=linear; total time=   0.0s\n",
      "[CV] END C=4.310613411544249, epsilon=0.4845910215417445, gamma=0.031525891487566265, kernel=linear; total time=   0.0s\n",
      "[CV] END C=7.489938498699908, epsilon=0.629105179217108, gamma=0.061746997634381975, kernel=linear; total time=   0.0s\n",
      "[CV] END C=4.310613411544249, epsilon=0.4845910215417445, gamma=0.031525891487566265, kernel=linear; total time=   0.0s\n",
      "[CV] END C=4.310613411544249, epsilon=0.4845910215417445, gamma=0.031525891487566265, kernel=linear; total time=   0.0s\n",
      "[CV] END C=4.310613411544249, epsilon=0.4845910215417445, gamma=0.031525891487566265, kernel=linear; total time=   0.0s\n",
      "[CV] END C=8.82773580002559, epsilon=0.9736934827848956, gamma=0.015255295998631346, kernel=sigmoid; total time=   0.0s\n",
      "[CV] END C=8.82773580002559, epsilon=0.9736934827848956, gamma=0.015255295998631346, kernel=sigmoid; total time=   0.0s\n",
      "[CV] END C=8.82773580002559, epsilon=0.9736934827848956, gamma=0.015255295998631346, kernel=sigmoid; total time=   0.0s\n",
      "[CV] END C=0.10615036994433937, epsilon=0.17402194753740421, gamma=0.051997410654463276, kernel=poly; total time=   0.0s\n",
      "[CV] END C=8.82773580002559, epsilon=0.9736934827848956, gamma=0.015255295998631346, kernel=sigmoid; total time=   0.0s\n",
      "[CV] END C=0.10615036994433937, epsilon=0.17402194753740421, gamma=0.051997410654463276, kernel=poly; total time=   0.0s\n",
      "[CV] END C=8.82773580002559, epsilon=0.9736934827848956, gamma=0.015255295998631346, kernel=sigmoid; total time=   0.0s\n",
      "[CV] END C=0.10615036994433937, epsilon=0.17402194753740421, gamma=0.051997410654463276, kernel=poly; total time=   0.0s\n",
      "[CV] END C=0.10615036994433937, epsilon=0.17402194753740421, gamma=0.051997410654463276, kernel=poly; total time=   0.0s\n",
      "[CV] END C=4.01421115755706, epsilon=0.8616326080963689, gamma=0.011586234186557331, kernel=sigmoid; total time=   0.0s\n",
      "[CV] END C=4.01421115755706, epsilon=0.8616326080963689, gamma=0.011586234186557331, kernel=sigmoid; total time=   0.0s\n",
      "[CV] END C=4.01421115755706, epsilon=0.8616326080963689, gamma=0.011586234186557331, kernel=sigmoid; total time=   0.0s\n",
      "[CV] END C=4.01421115755706, epsilon=0.8616326080963689, gamma=0.011586234186557331, kernel=sigmoid; total time=   0.0s\n",
      "[CV] END C=0.10615036994433937, epsilon=0.17402194753740421, gamma=0.051997410654463276, kernel=poly; total time=   0.0s\n",
      "[CV] END C=4.01421115755706, epsilon=0.8616326080963689, gamma=0.011586234186557331, kernel=sigmoid; total time=   0.0s\n",
      " * Best parameters: {'C': 9.96608181580125, 'epsilon': 0.8310682252760874, 'gamma': 0.07289342797434445, 'kernel': 'linear'} *\n",
      " * Best score: 0.5073118950128062 *\n"
     ]
    }
   ],
   "source": [
    "#  Tune and train an SVR using RandomizedSearchCV\n",
    "from sklearn.svm import SVR\n",
    "from sklearn.model_selection import RandomizedSearchCV\n",
    "from scipy.stats import uniform\n",
    "\n",
    "param_distributions = {\n",
    "    'kernel': ['linear', 'rbf', 'poly', 'sigmoid'],\n",
    "    'C': uniform(0.0001, 10),\n",
    "    'gamma': uniform(0.0001, 0.1),\n",
    "    'epsilon': uniform(0.1, 1.0)\n",
    "}\n",
    "\n",
    "\n",
    "svr = SVR()\n",
    "rnd_search = RandomizedSearchCV(svr, param_distributions, n_iter=100, cv=5, verbose=2, n_jobs=-1)\n",
    "rnd_search.fit(X_train_norm, y_train)\n",
    "\n",
    "print(f' * Best parameters: {rnd_search.best_params_} *')\n",
    "print(f' * Best score: {rnd_search.best_score_} *')\n",
    "\n",
    "model = rnd_search.best_estimator_\n"
   ]
  },
  {
   "cell_type": "code",
   "execution_count": 33,
   "metadata": {},
   "outputs": [
    {
     "name": "stdout",
     "output_type": "stream",
     "text": [
      " * Mean Squared Error: 344.8547599382114 *\n",
      " * R2 Score: 0.37394638025947746 *\n",
      " * Mean Absolute Error: 14.738020182206773 *\n"
     ]
    }
   ],
   "source": [
    "# Validate the model using the test set\n",
    "from sklearn.metrics import mean_squared_error, r2_score, mean_absolute_error\n",
    "\n",
    "y_pred = model.predict(X_test_norm)\n",
    "\n",
    "results = pd.DataFrame(data={\n",
    "    'Actual': y_test,\n",
    "    'Predicted': y_pred\n",
    "})\n",
    "\n",
    "mse = mean_squared_error(y_test, y_pred)\n",
    "r2 = r2_score(y_test, y_pred)\n",
    "mae = mean_absolute_error(y_test, y_pred)\n",
    "\n",
    "print(f' * Mean Squared Error: {mse} *')\n",
    "print(f' * R2 Score: {r2} *')\n",
    "print(f' * Mean Absolute Error: {mae} *')"
   ]
  },
  {
   "cell_type": "code",
   "execution_count": null,
   "metadata": {},
   "outputs": [],
   "source": []
  },
  {
   "cell_type": "code",
   "execution_count": null,
   "metadata": {},
   "outputs": [],
   "source": []
  },
  {
   "cell_type": "code",
   "execution_count": null,
   "metadata": {},
   "outputs": [],
   "source": []
  },
  {
   "cell_type": "markdown",
   "metadata": {},
   "source": [
    "### Synthetic Data Vault (SDV)"
   ]
  },
  {
   "cell_type": "code",
   "execution_count": 8,
   "metadata": {},
   "outputs": [],
   "source": [
    "from sdv.metadata import SingleTableMetadata\n",
    "\n",
    "metadata = SingleTableMetadata()\n",
    "metadata.detect_from_dataframe(X)"
   ]
  },
  {
   "cell_type": "markdown",
   "metadata": {},
   "source": [
    "Gaussian Copula Synthesizer"
   ]
  },
  {
   "cell_type": "code",
   "execution_count": 10,
   "metadata": {},
   "outputs": [],
   "source": [
    "from sdv.single_table import GaussianCopulaSynthesizer\n",
    "\n",
    "gaussian_copula = GaussianCopulaSynthesizer(metadata=metadata)\n",
    "gaussian_copula.fit(X)\n",
    "gaussian_copula_synthetic_data = gaussian_copula.sample(1000)"
   ]
  },
  {
   "cell_type": "markdown",
   "metadata": {},
   "source": [
    "Copula GAN Synthesizer"
   ]
  },
  {
   "cell_type": "code",
   "execution_count": 11,
   "metadata": {},
   "outputs": [],
   "source": [
    "from sdv.single_table import CopulaGANSynthesizer\n",
    "\n",
    "copula_gan = CopulaGANSynthesizer(metadata=metadata)\n",
    "copula_gan.fit(X)\n",
    "copula_gan_synthetic_data = copula_gan.sample(1000)"
   ]
  },
  {
   "cell_type": "markdown",
   "metadata": {},
   "source": [
    "TVAE Synthesizer"
   ]
  },
  {
   "cell_type": "code",
   "execution_count": 12,
   "metadata": {},
   "outputs": [],
   "source": [
    "from sdv.single_table import TVAESynthesizer\n",
    "\n",
    "tvaesynthesizer = TVAESynthesizer(metadata=metadata)\n",
    "tvaesynthesizer.fit(X)\n",
    "tvaesynthesizer_synthetic_data = tvaesynthesizer.sample(1000)"
   ]
  },
  {
   "cell_type": "markdown",
   "metadata": {},
   "source": [
    "CTGAN Synthesizer"
   ]
  },
  {
   "cell_type": "code",
   "execution_count": 14,
   "metadata": {},
   "outputs": [],
   "source": [
    "from sdv.single_table import CTGANSynthesizer\n",
    "\n",
    "ctgan = CTGANSynthesizer(metadata=metadata)\n",
    "ctgan.fit(X)\n",
    "ctgan_synthetic_data = ctgan.sample(1000)"
   ]
  },
  {
   "cell_type": "markdown",
   "metadata": {},
   "source": [
    "### Statistical Validation"
   ]
  },
  {
   "cell_type": "code",
   "execution_count": 15,
   "metadata": {},
   "outputs": [],
   "source": [
    "fake_data_df = ctgan_synthetic_data.copy()"
   ]
  },
  {
   "cell_type": "code",
   "execution_count": 16,
   "metadata": {},
   "outputs": [
    {
     "name": "stdout",
     "output_type": "stream",
     "text": [
      "Generating report ...\n",
      "\n",
      "(1/2) Evaluating Data Validity: |██████████| 8/8 [00:00<00:00, 913.02it/s]|\n",
      "Data Validity Score: 100.0%\n",
      "\n",
      "(2/2) Evaluating Data Structure: |██████████| 1/1 [00:00<00:00, 244.85it/s]|\n",
      "Data Structure Score: 100.0%\n",
      "\n",
      "Overall Score (Average): 100.0%\n",
      "\n"
     ]
    }
   ],
   "source": [
    "from sdmetrics.reports.single_table import DiagnosticReport\n",
    "\n",
    "diagnostic = DiagnosticReport()\n",
    "diagnostic.generate(X, fake_data_df, metadata.to_dict())"
   ]
  },
  {
   "cell_type": "code",
   "execution_count": 19,
   "metadata": {},
   "outputs": [
    {
     "name": "stdout",
     "output_type": "stream",
     "text": [
      "Generating report ...\n",
      "\n",
      "(1/2) Evaluating Column Shapes: |██████████| 8/8 [00:00<00:00, 728.18it/s]|\n",
      "Column Shapes Score: 77.37%\n",
      "\n",
      "(2/2) Evaluating Column Pair Trends: |██████████| 28/28 [00:00<00:00, 174.76it/s]|\n",
      "Column Pair Trends Score: 90.83%\n",
      "\n",
      "Overall Score (Average): 84.1%\n",
      "\n"
     ]
    }
   ],
   "source": [
    "from sdmetrics.reports.single_table import QualityReport\n",
    "\n",
    "quality_report = QualityReport()\n",
    "quality_report.generate(X, fake_data_df, metadata.to_dict())"
   ]
  },
  {
   "cell_type": "code",
   "execution_count": 21,
   "metadata": {},
   "outputs": [
    {
     "data": {
      "application/vnd.plotly.v1+json": {
       "config": {
        "plotlyServerURL": "https://plot.ly"
       },
       "data": [
        {
         "fill": "tozeroy",
         "hovertemplate": "<b>Real</b><br>Frequency: %{y}<extra></extra>",
         "legendgroup": "Real",
         "marker": {
          "color": "#000036"
         },
         "mode": "lines",
         "name": "Real",
         "showlegend": true,
         "type": "scatter",
         "x": [
          0.322516665,
          0.36142814227,
          0.40033961953999997,
          0.43925109680999996,
          0.47816257408,
          0.5170740513500001,
          0.55598552862,
          0.59489700589,
          0.63380848316,
          0.67271996043,
          0.7116314377,
          0.75054291497,
          0.78945439224,
          0.82836586951,
          0.8672773467800001,
          0.9061888240500001,
          0.9451003013200001,
          0.9840117785900001,
          1.0229232558599999,
          1.06183473313,
          1.1007462104,
          1.1396576876700002,
          1.1785691649400003,
          1.2174806422100002,
          1.25639211948,
          1.2953035967500002,
          1.33421507402,
          1.3731265512900002,
          1.4120380285600003,
          1.4509495058300002,
          1.4898609831000003,
          1.5287724603700001,
          1.5676839376400002,
          1.6065954149100001,
          1.6455068921800002,
          1.6844183694500001,
          1.72332984672,
          1.7622413239900003,
          1.8011528012600002,
          1.8400642785300003,
          1.8789757558000002,
          1.9178872330700003,
          1.9567987103400002,
          1.99571018761,
          2.0346216648800004,
          2.0735331421500005,
          2.1124446194200006,
          2.1513560966900003,
          2.19026757396,
          2.22917905123,
          2.2680905285,
          2.3070020057700003,
          2.3459134830400004,
          2.3848249603100005,
          2.4237364375800006,
          2.46264791485,
          2.501559392120001,
          2.540470869390001,
          2.57938234666,
          2.61829382393,
          2.6572053012000003,
          2.6961167784700004,
          2.7350282557400005,
          2.7739397330100006,
          2.8128512102800007,
          2.85176268755,
          2.89067416482,
          2.92958564209,
          2.9684971193600003,
          3.0074085966300004,
          3.0463200739000005,
          3.0852315511700006,
          3.12414302844,
          3.163054505710001,
          3.201965982980001,
          3.240877460250001,
          3.2797889375200002,
          3.3187004147900003,
          3.3576118920600004,
          3.3965233693300005,
          3.4354348466000006,
          3.4743463238700008,
          3.513257801140001,
          3.55216927841,
          3.59108075568,
          3.6299922329500003,
          3.6689037102200004,
          3.7078151874900005,
          3.7467266647600006,
          3.7856381420300007,
          3.824549619300001,
          3.863461096570001,
          3.902372573840001,
          3.9412840511100002,
          3.9801955283800003,
          4.0191070056500005,
          4.058018482920001,
          4.096929960190001,
          4.135841437460001,
          4.174752914730001,
          4.213664392,
          4.25257586927,
          4.29148734654,
          4.33039882381,
          4.3693103010800005,
          4.408221778350001,
          4.447133255620001,
          4.486044732890001,
          4.524956210160001,
          4.563867687430001,
          4.6027791647,
          4.641690641970001,
          4.680602119240001,
          4.719513596510001,
          4.758425073780002,
          4.797336551050001,
          4.836248028320001,
          4.875159505590001,
          4.914070982860001,
          4.95298246013,
          4.991893937400001,
          5.0308054146700005,
          5.0697168919400015,
          5.108628369210001,
          5.147539846480001,
          5.186451323750001,
          5.225362801020001,
          5.26427427829,
          5.303185755560001,
          5.342097232830001,
          5.381008710100001,
          5.419920187370002,
          5.458831664640001,
          5.497743141910001,
          5.536654619180001,
          5.575566096450001,
          5.614477573720001,
          5.653389050990001,
          5.6923005282600005,
          5.7312120055300015,
          5.770123482800001,
          5.809034960070001,
          5.847946437340001,
          5.886857914610001,
          5.92576939188,
          5.964680869150001,
          6.003592346420001,
          6.042503823690001,
          6.081415300960002,
          6.120326778230001,
          6.159238255500002,
          6.198149732770001,
          6.237061210040001,
          6.275972687310001,
          6.314884164580001,
          6.353795641850001,
          6.392707119120002,
          6.431618596390001,
          6.470530073660001,
          6.509441550930001,
          6.548353028200001,
          6.587264505470001,
          6.626175982740001,
          6.665087460010001,
          6.7039989372800015,
          6.742910414550002,
          6.781821891820001,
          6.820733369090002,
          6.859644846360001,
          6.898556323630001,
          6.937467800900001,
          6.976379278170001,
          7.015290755440001,
          7.054202232710002,
          7.093113709980001,
          7.132025187250001,
          7.170936664520002,
          7.209848141790001,
          7.248759619060002,
          7.287671096330001,
          7.326582573600001,
          7.3654940508700015,
          7.404405528140002,
          7.443317005410001,
          7.482228482680002,
          7.521139959950001,
          7.560051437220001,
          7.598962914490001,
          7.637874391760001,
          7.676785869030001,
          7.715697346300002,
          7.754608823570001,
          7.793520300840001,
          7.832431778110002,
          7.871343255380001,
          7.910254732650002,
          7.949166209920001,
          7.988077687190001,
          8.026989164460002,
          8.065900641730002,
          8.104812119,
          8.143723596270002,
          8.18263507354,
          8.22154655081,
          8.26045802808,
          8.29936950535,
          8.33828098262,
          8.37719245989,
          8.41610393716,
          8.455015414430001,
          8.493926891700001,
          8.532838368970001,
          8.571749846240001,
          8.610661323510003,
          8.649572800780001,
          8.688484278050002,
          8.727395755320002,
          8.766307232590002,
          8.805218709860002,
          8.844130187130002,
          8.8830416644,
          8.921953141670002,
          8.960864618940002,
          8.99977609621,
          9.038687573480003,
          9.077599050750003,
          9.116510528020001,
          9.155422005290001,
          9.194333482560003,
          9.233244959830001,
          9.272156437100001,
          9.311067914370001,
          9.349979391640002,
          9.388890868910002,
          9.427802346180002,
          9.46671382345,
          9.505625300720002,
          9.544536777990002,
          9.58344825526,
          9.62235973253,
          9.661271209800002,
          9.70018268707,
          9.73909416434,
          9.778005641610003,
          9.816917118880003,
          9.855828596150001,
          9.894740073420001,
          9.933651550690003,
          9.972563027960001,
          10.011474505230002,
          10.050385982500002,
          10.089297459770002,
          10.128208937040002,
          10.167120414310002,
          10.20603189158,
          10.244943368850002,
          10.283854846120002,
          10.32276632339,
          10.361677800660003,
          10.400589277930003,
          10.439500755200001,
          10.478412232470001,
          10.517323709740003,
          10.556235187010001,
          10.595146664280001,
          10.634058141550002,
          10.672969618820002,
          10.711881096090002,
          10.750792573360002,
          10.78970405063,
          10.828615527900002,
          10.867527005170002,
          10.906438482440002,
          10.945349959710002,
          10.984261436980002,
          11.023172914250003,
          11.062084391520001,
          11.100995868790003,
          11.139907346060003,
          11.178818823330001,
          11.217730300600001,
          11.256641777870003,
          11.295553255140002,
          11.334464732410002,
          11.373376209680002,
          11.412287686950002,
          11.451199164220002,
          11.490110641490002,
          11.52902211876,
          11.567933596030002,
          11.606845073300002,
          11.64575655057,
          11.684668027840003,
          11.723579505110003,
          11.762490982380001,
          11.801402459650001,
          11.840313936920003,
          11.879225414190001,
          11.918136891460001,
          11.957048368730002,
          11.995959846000003,
          12.034871323270002,
          12.073782800540002,
          12.112694277810002,
          12.151605755080002,
          12.190517232350002,
          12.229428709620002,
          12.268340186890002,
          12.307251664160002,
          12.346163141430003,
          12.385074618700001,
          12.423986095970003,
          12.462897573240003,
          12.501809050510001,
          12.540720527780001,
          12.579632005050003,
          12.618543482320002,
          12.657454959590002,
          12.696366436860002,
          12.735277914130002,
          12.774189391400002,
          12.813100868670002,
          12.852012345940002,
          12.890923823210002,
          12.929835300480002,
          12.96874677775,
          13.007658255020003,
          13.046569732290003,
          13.085481209560003,
          13.124392686830001,
          13.163304164100003,
          13.202215641370003,
          13.241127118640001,
          13.280038595910002,
          13.318950073180003,
          13.357861550450002,
          13.396773027720002,
          13.435684504990004,
          13.474595982260002,
          13.513507459530002,
          13.552418936800002,
          13.591330414070002,
          13.630241891340003,
          13.669153368610003,
          13.708064845880001,
          13.746976323150003,
          13.785887800420003,
          13.824799277690001,
          13.863710754960001,
          13.902622232230003,
          13.941533709500002,
          13.980445186770002,
          14.019356664040004,
          14.058268141310002,
          14.097179618580002,
          14.136091095850002,
          14.175002573120004,
          14.213914050390002,
          14.252825527660002,
          14.291737004930003,
          14.330648482200003,
          14.369559959470003,
          14.408471436740003,
          14.447382914010001,
          14.486294391280003,
          14.525205868550003,
          14.564117345820002,
          14.603028823090002,
          14.641940300360003,
          14.680851777630002,
          14.719763254900002,
          14.758674732170004,
          14.797586209440002,
          14.836497686710002,
          14.875409163980002,
          14.914320641250002,
          14.953232118520003,
          14.992143595790003,
          15.031055073060001,
          15.069966550330003,
          15.108878027600003,
          15.147789504870001,
          15.186700982140001,
          15.225612459410003,
          15.264523936680002,
          15.303435413950002,
          15.342346891220004,
          15.381258368490004,
          15.420169845760002,
          15.459081323030002,
          15.497992800300004,
          15.536904277570002,
          15.575815754840002,
          15.614727232110003,
          15.653638709380003,
          15.692550186650003,
          15.731461663920003,
          15.770373141190001,
          15.809284618460003,
          15.848196095730003,
          15.887107573000002,
          15.926019050270003,
          15.964930527540004,
          16.00384200481,
          16.042753482080002,
          16.081664959350004,
          16.120576436620002,
          16.15948791389,
          16.198399391160002,
          16.23731086843,
          16.276222345700003,
          16.31513382297,
          16.35404530024,
          16.39295677751,
          16.43186825478,
          16.47077973205,
          16.50969120932,
          16.54860268659,
          16.58751416386,
          16.62642564113,
          16.6653371184,
          16.704248595670002,
          16.74316007294,
          16.782071550210002,
          16.82098302748,
          16.859894504750002,
          16.898805982020004,
          16.93771745929,
          16.97662893656,
          17.01554041383,
          17.0544518911,
          17.093363368370003,
          17.13227484564,
          17.17118632291,
          17.21009780018,
          17.24900927745,
          17.287920754720002,
          17.326832231990004,
          17.365743709260002,
          17.40465518653,
          17.4435666638,
          17.48247814107,
          17.521389618340002,
          17.56030109561,
          17.599212572880003,
          17.63812405015,
          17.67703552742,
          17.71594700469,
          17.754858481960003,
          17.79376995923,
          17.832681436500003,
          17.871592913769998,
          17.91050439104,
          17.949415868310002,
          17.98832734558,
          18.027238822850002,
          18.066150300120004,
          18.105061777390002,
          18.14397325466,
          18.18288473193,
          18.2217962092,
          18.260707686470003,
          18.29961916374,
          18.338530641010003,
          18.37744211828,
          18.41635359555,
          18.45526507282,
          18.494176550090003,
          18.53308802736,
          18.571999504630003,
          18.6109109819,
          18.64982245917,
          18.688733936440002,
          18.72764541371,
          18.766556890980002,
          18.805468368250004,
          18.84437984552,
          18.88329132279,
          18.92220280006,
          18.96111427733,
          19.000025754600003,
          19.03893723187,
          19.07784870914,
          19.11676018641,
          19.15567166368,
          19.19458314095,
          19.233494618220004,
          19.272406095490002,
          19.311317572760004,
          19.35022905003,
          19.3891405273,
          19.428052004570002,
          19.46696348184,
          19.505874959110002,
          19.544786436380004,
          19.58369791365,
          19.62260939092,
          19.661520868190003,
          19.70043234546,
          19.739343822730003
         ],
         "xaxis": "x",
         "y": [
          0.0933865115861249,
          0.09512236498628711,
          0.09683045727442437,
          0.0985085561083839,
          0.10015448015309572,
          0.10176610589414335,
          0.10334137428704543,
          0.10487829721027012,
          0.10637496369072924,
          0.10782954587142066,
          0.10924030469200399,
          0.11060559525439274,
          0.111923871846931,
          0.1131936926023713,
          0.11441372376668733,
          0.11558274355771671,
          0.1166996455947316,
          0.11776344188226336,
          0.11877326533383872,
          0.1197283718237219,
          0.12062814175726322,
          0.12147208115302538,
          0.1222598222324779,
          0.12299112351569301,
          0.12366586942412414,
          0.1242840693941993,
          0.12484585650807341,
          0.12535148565045925,
          0.1258013312029697,
          0.12619588428983533,
          0.12653574959120467,
          0.12682164174246227,
          0.12705438134010663,
          0.12723489057669943,
          0.12736418852921683,
          0.1274433861267884,
          0.12747368082529978,
          0.12745635101763922,
          0.12739275020948856,
          0.12728430099148608,
          0.12713248883932032,
          0.12693885577384273,
          0.12670499391361556,
          0.1264325389524413,
          0.12612316359435072,
          0.1257785709782519,
          0.12540048812399573,
          0.12499065943095884,
          0.12455084025942723,
          0.12408279062407075,
          0.12358826902764294,
          0.12306902646173846,
          0.12252680059999671,
          0.12196331020757178,
          0.12138024978900468,
          0.1207792844948503,
          0.12016204530554554,
          0.11953012450905687,
          0.1188850714868541,
          0.1182283888207103,
          0.11756152873076066,
          0.11688588985316904,
          0.11620281436366683,
          0.11551358545116408,
          0.1148194251435875,
          0.11412149248610412,
          0.11342088206994172,
          0.11271862290813416,
          0.11201567765271504,
          0.11131294214616057,
          0.11061124529825433,
          0.10991134927802604,
          0.10921395000899493,
          0.10851967795465473,
          0.10782909917995077,
          0.1071427166734515,
          0.10646097191398383,
          0.10578424666470318,
          0.10511286497690492,
          0.10444709538533924,
          0.1037871532763862,
          0.10313320341016416,
          0.10248536257748576,
          0.10184370237253892,
          0.10120825206224962,
          0.10057900153347173,
          0.09995590429944781,
          0.09933888054737629,
          0.09872782020941212,
          0.09812258604000029,
          0.09752301668309223,
          0.09692892971352067,
          0.09634012463759052,
          0.09575638583878637,
          0.09517748545538084,
          0.09460318617765623,
          0.09403324395340523,
          0.09346741059135737,
          0.09290543625317062,
          0.09234707182563154,
          0.09179207116570882,
          0.09124019321210426,
          0.09069120395793064,
          0.09014487828011392,
          0.0896010016220608,
          0.08905937152705402,
          0.08851979902071558,
          0.08798210984173264,
          0.08744614552084465,
          0.08691176430885814,
          0.08637884195517613,
          0.08584727233900219,
          0.0853169679560049,
          0.08478786026380634,
          0.08425989989018288,
          0.08373305670834609,
          0.08320731978409882,
          0.08268269720004101,
          0.08215921576233465,
          0.08163692059582187,
          0.08111587463353476,
          0.08059615800683677,
          0.08007786734259496,
          0.07956111497390822,
          0.07904602807100337,
          0.07853274769896747,
          0.07802142780901183,
          0.0775122341699585,
          0.07700534324661933,
          0.07650094103168208,
          0.07599922183765727,
          0.07550038705534805,
          0.07500464388520765,
          0.07451220404783364,
          0.07402328247972387,
          0.07353809602028358,
          0.07305686209593085,
          0.07257979740699746,
          0.07210711662296886,
          0.07163903109144525,
          0.07117574756604506,
          0.07071746695830106,
          0.07026438311843475,
          0.06981668164971595,
          0.06937453876094243,
          0.06893812016139297,
          0.06850758000242523,
          0.06808305986970106,
          0.06766468782983312,
          0.06725257753504606,
          0.06684682738924702,
          0.06644751977868625,
          0.06605472037017691,
          0.06566847747961495,
          0.06528882151330949,
          0.06491576448439135,
          0.06454929960631653,
          0.06418940096522048,
          0.06383602327260812,
          0.06348910169958362,
          0.06314855179353376,
          0.06281426947787794,
          0.062486131135189506,
          0.06216399377367388,
          0.06184769527666609,
          0.061537054734476355,
          0.061231872857576496,
          0.060931932469779265,
          0.06063699907971887,
          0.06034682152859747,
          0.060061132711820196,
          0.05977965037180143,
          0.05950207795889233,
          0.05922810555705215,
          0.05895741087057066,
          0.05868966026784378,
          0.05842450987791591,
          0.0581616067352281,
          0.05790058996775763,
          0.057641092023502226,
          0.057382739930050594,
          0.057125156581798515,
          0.05686796204921016,
          0.05661077490439592,
          0.056353213557179774,
          0.056094897595759724,
          0.055835449126030834,
          0.05557449410363767,
          0.055311663652852575,
          0.055046595366443615,
          0.05477893458079149,
          0.05450833562064886,
          0.054234463008098754,
          0.05395699263046517,
          0.0536756128621566,
          0.053390025635678434,
          0.05309994745733444,
          0.052805110363446796,
          0.052505262813256286,
          0.052200170515018685,
          0.05188961718218495,
          0.05157340521694132,
          0.05125135631878679,
          0.05092331201623533,
          0.050589134120150696,
          0.05024870509764137,
          0.049901928365869166,
          0.04954872850554377,
          0.04918905139429391,
          0.04882286426051237,
          0.048450155658670564,
          0.04807093536748165,
          0.047685234212659536,
          0.04729310381636987,
          0.0468946162757991,
          0.04648986377357142,
          0.04607895812302949,
          0.04566203025164602,
          0.045239229626066316,
          0.044810723622480876,
          0.0443766968461999,
          0.04393735040444491,
          0.04349290113648696,
          0.043043580805343706,
          0.04258963525530538,
          0.042131323539586804,
          0.041668917022399644,
          0.041202698459717094,
          0.040732961062947465,
          0.040260007549659464,
          0.03978414918540348,
          0.03930570482055593,
          0.03882499992597518,
          0.038342365631105706,
          0.03785813776799826,
          0.037372655924533295,
          0.03688626250994317,
          0.03639930183553066,
          0.03591211921327374,
          0.035425060074797204,
          0.03493846911298023,
          0.034452689448254616,
          0.03396806182143767,
          0.033484923814736015,
          0.033003609102351845,
          0.0325244467319248,
          0.03204776043785392,
          0.03157386798735952,
          0.031103080559972653,
          0.0306357021609764,
          0.030172029069170377,
          0.02971234931918766,
          0.029256942218463013,
          0.028806077898831262,
          0.02836001690262704,
          0.027919009803059024,
          0.02748329685854603,
          0.027053107700624794,
          0.026628661054973607,
          0.02621016449503759,
          0.02579781422769175,
          0.025391794910336794,
          0.024992279498786744,
          0.024599429125278443,
          0.024213393005908072,
          0.023834308376780824,
          0.02346230045814126,
          0.02309748244573881,
          0.02273995552866897,
          0.022389808932920172,
          0.02204711998984346,
          0.021711954228751777,
          0.02138436549284182,
          0.021064396077619382,
          0.020752076890992684,
          0.020447427634182332,
          0.020150457002577702,
          0.019861162905649144,
          0.0195795327050037,
          0.019305543469647423,
          0.019039162247493118,
          0.01878034635212587,
          0.018529043663811414,
          0.018285192943705557,
          0.018048724160196504,
          0.017819558826284818,
          0.017597610346881884,
          0.01738278437488469,
          0.017174979174864723,
          0.016974085993191525,
          0.01677998943339868,
          0.016592567835590485,
          0.016411693658684053,
          0.016237233864282625,
          0.01606905030098242,
          0.01590700008792916,
          0.015750935996459346,
          0.015600706828687316,
          0.015456157791932079,
          0.015317130867917427,
          0.01518346517572458,
          0.015054997327529782,
          0.014931561776217834,
          0.014812991154028034,
          0.014699116601459063,
          0.014589768085735288,
          0.014484774708217142,
          0.014383965000222165,
          0.014287167206810416,
          0.014194209558177844,
          0.01410492052839229,
          0.014019129081298536,
          0.013936664903511222,
          0.013857358624504743,
          0.013781042023898786,
          0.013707548226124125,
          0.013636711882736073,
          0.013568369342721239,
          0.013502358811216393,
          0.01343852049712514,
          0.013376696750178742,
          0.013316732188040567,
          0.013258473814099347,
          0.01320177112663339,
          0.013146476220057072,
          0.013092443878980389,
          0.013039531665823868,
          0.012987600002732542,
          0.012936512248526143,
          0.01288613477140636,
          0.012836337018117835,
          0.012786991580226784,
          0.012737974258140328,
          0.012689164123442193,
          0.012640443580065544,
          0.012591698424763363,
          0.012542817907270942,
          0.012493694790484898,
          0.01244422541090918,
          0.012394309739542166,
          0.012343851443300644,
          0.01229275794699737,
          0.012240940495810135,
          0.012188314218102157,
          0.012134798188378145,
          0.012080315490087274,
          0.012024793277915311,
          0.011968162839143835,
          0.01191035965359527,
          0.011851323451629694,
          0.011790998269613334,
          0.011729332502239566,
          0.01166627895105259,
          0.011601794868500813,
          0.011535841996832778,
          0.01146838660114289,
          0.01139939949587709,
          0.0113288560641208,
          0.011256736269011825,
          0.011183024656650326,
          0.011107710349915012,
          0.011030787032640217,
          0.010952252923660945,
          0.01087211074029255,
          0.010790367650877597,
          0.010707035216103609,
          0.010622129318871788,
          0.01053567008257716,
          0.010447681777743996,
          0.01035819271704662,
          0.010267235138832988,
          0.010174845079356854,
          0.010081062234012169,
          0.00998592980795009,
          0.009889494356544017,
          0.009791805616249864,
          0.009692916326486984,
          0.00959288204323931,
          0.009491760945144598,
          0.00938961363290261,
          0.009286502922889553,
          0.009182493635915029,
          0.00907765238209999,
          0.00897204734288792,
          0.008865748051227165,
          0.008758825170979529,
          0.00865135027661925,
          0.008543395634285876,
          0.008435033985246128,
          0.008326338332802547,
          0.008217381733660677,
          0.008108237094732764,
          0.007998976976314017,
          0.007889673402518269,
          0.00778039767980344,
          0.0076712202243544745,
          0.007562210399022741,
          0.007453436360446762,
          0.007344964916900596,
          0.007236861397333792,
          0.007129189531980763,
          0.007022011344829759,
          0.006915387058151708,
          0.006809375009198366,
          0.006704031579089073,
          0.006599411133815111,
          0.006495565977202371,
          0.0063925463155868455,
          0.006290400233874496,
          0.006189173682577096,
          0.006088910475340879,
          0.005989652296414412,
          0.005891438717437313,
          0.005794307222872935,
          0.005698293243355792,
          0.005603430196179129,
          0.005509749532110279,
          0.005417280787690336,
          0.005326051642152421,
          0.005236087978077174,
          0.005147413944897625,
          0.005060052024365745,
          0.0049740230971023845,
          0.004889346509367955,
          0.00480604013921588,
          0.004724120461221322,
          0.004643602609016433,
          0.0045645004349077175,
          0.004486826565901945,
          0.004410592455523877,
          0.00433580843087003,
          0.004262483734409638,
          0.004190626560113295,
          0.0041202440835637665,
          0.004051342485779086,
          0.003983926970556332,
          0.003918001775223413,
          0.00385357017476644,
          0.0037906344793794708,
          0.0037291960255625266,
          0.003669255160970993,
          0.003610811223294456,
          0.003553862513515252,
          0.0034984062639657146,
          0.0034444386016674786,
          0.0033919545074963184,
          0.003340947771770323,
          0.003291410946908589,
          0.0032433352978502284,
          0.003196710750960052,
          0.0031515258421769715,
          0.0031077676651837284,
          0.003065421820391918,
          0.003024472365544411,
          0.002984901768737658,
          0.002946690864659611,
          0.0029098188148247517,
          0.002874263072565996,
          0.0028399993535147758,
          0.0028070016122650715,
          0.002775242025875065,
          0.0027446909848119886,
          0.0027153170918916003,
          0.0026870871697045455,
          0.002659966276957662,
          0.0026339177340898236,
          0.002608903158449965,
          0.002584882509249596,
          0.002561814142424605,
          0.0025396548754616504,
          0.0025183600621640325,
          0.0024978836772507488,
          0.002478178410602011,
          0.0024591957708843554,
          0.002440886198210514,
          0.0024231991854131085,
          0.002406083407438101,
          0.0023894868582943637,
          0.00237335699493012,
          0.0023576408873459656,
          0.0023422853741984044,
          0.0023272372230973355,
          0.0023124432947566444,
          0.0022978507101188805,
          0.002283407019543553,
          0.002269060373123865,
          0.002254759691179161,
          0.0022404548339598224,
          0.002226096769598121,
          0.002211637739342499,
          0.0021970314191238362,
          0.0021822330765204757,
          0.0021671997222137266,
          0.002151890255057312,
          0.002136265599922184,
          0.002120288837522174,
          0.002103925325475621,
          0.002087142809913032,
          0.0020699115270003555,
          0.0020522042938114497
         ],
         "yaxis": "y"
        },
        {
         "fill": "tozeroy",
         "hovertemplate": "<b>Synthetic</b><br>Frequency: %{y}<extra></extra>",
         "legendgroup": "Synthetic",
         "marker": {
          "color": "#01E0C9"
         },
         "mode": "lines",
         "name": "Synthetic",
         "showlegend": true,
         "type": "scatter",
         "x": [
          0.322516665,
          0.36142814227,
          0.40033961953999997,
          0.43925109680999996,
          0.47816257408,
          0.5170740513500001,
          0.55598552862,
          0.59489700589,
          0.63380848316,
          0.67271996043,
          0.7116314377,
          0.75054291497,
          0.78945439224,
          0.82836586951,
          0.8672773467800001,
          0.9061888240500001,
          0.9451003013200001,
          0.9840117785900001,
          1.0229232558599999,
          1.06183473313,
          1.1007462104,
          1.1396576876700002,
          1.1785691649400003,
          1.2174806422100002,
          1.25639211948,
          1.2953035967500002,
          1.33421507402,
          1.3731265512900002,
          1.4120380285600003,
          1.4509495058300002,
          1.4898609831000003,
          1.5287724603700001,
          1.5676839376400002,
          1.6065954149100001,
          1.6455068921800002,
          1.6844183694500001,
          1.72332984672,
          1.7622413239900003,
          1.8011528012600002,
          1.8400642785300003,
          1.8789757558000002,
          1.9178872330700003,
          1.9567987103400002,
          1.99571018761,
          2.0346216648800004,
          2.0735331421500005,
          2.1124446194200006,
          2.1513560966900003,
          2.19026757396,
          2.22917905123,
          2.2680905285,
          2.3070020057700003,
          2.3459134830400004,
          2.3848249603100005,
          2.4237364375800006,
          2.46264791485,
          2.501559392120001,
          2.540470869390001,
          2.57938234666,
          2.61829382393,
          2.6572053012000003,
          2.6961167784700004,
          2.7350282557400005,
          2.7739397330100006,
          2.8128512102800007,
          2.85176268755,
          2.89067416482,
          2.92958564209,
          2.9684971193600003,
          3.0074085966300004,
          3.0463200739000005,
          3.0852315511700006,
          3.12414302844,
          3.163054505710001,
          3.201965982980001,
          3.240877460250001,
          3.2797889375200002,
          3.3187004147900003,
          3.3576118920600004,
          3.3965233693300005,
          3.4354348466000006,
          3.4743463238700008,
          3.513257801140001,
          3.55216927841,
          3.59108075568,
          3.6299922329500003,
          3.6689037102200004,
          3.7078151874900005,
          3.7467266647600006,
          3.7856381420300007,
          3.824549619300001,
          3.863461096570001,
          3.902372573840001,
          3.9412840511100002,
          3.9801955283800003,
          4.0191070056500005,
          4.058018482920001,
          4.096929960190001,
          4.135841437460001,
          4.174752914730001,
          4.213664392,
          4.25257586927,
          4.29148734654,
          4.33039882381,
          4.3693103010800005,
          4.408221778350001,
          4.447133255620001,
          4.486044732890001,
          4.524956210160001,
          4.563867687430001,
          4.6027791647,
          4.641690641970001,
          4.680602119240001,
          4.719513596510001,
          4.758425073780002,
          4.797336551050001,
          4.836248028320001,
          4.875159505590001,
          4.914070982860001,
          4.95298246013,
          4.991893937400001,
          5.0308054146700005,
          5.0697168919400015,
          5.108628369210001,
          5.147539846480001,
          5.186451323750001,
          5.225362801020001,
          5.26427427829,
          5.303185755560001,
          5.342097232830001,
          5.381008710100001,
          5.419920187370002,
          5.458831664640001,
          5.497743141910001,
          5.536654619180001,
          5.575566096450001,
          5.614477573720001,
          5.653389050990001,
          5.6923005282600005,
          5.7312120055300015,
          5.770123482800001,
          5.809034960070001,
          5.847946437340001,
          5.886857914610001,
          5.92576939188,
          5.964680869150001,
          6.003592346420001,
          6.042503823690001,
          6.081415300960002,
          6.120326778230001,
          6.159238255500002,
          6.198149732770001,
          6.237061210040001,
          6.275972687310001,
          6.314884164580001,
          6.353795641850001,
          6.392707119120002,
          6.431618596390001,
          6.470530073660001,
          6.509441550930001,
          6.548353028200001,
          6.587264505470001,
          6.626175982740001,
          6.665087460010001,
          6.7039989372800015,
          6.742910414550002,
          6.781821891820001,
          6.820733369090002,
          6.859644846360001,
          6.898556323630001,
          6.937467800900001,
          6.976379278170001,
          7.015290755440001,
          7.054202232710002,
          7.093113709980001,
          7.132025187250001,
          7.170936664520002,
          7.209848141790001,
          7.248759619060002,
          7.287671096330001,
          7.326582573600001,
          7.3654940508700015,
          7.404405528140002,
          7.443317005410001,
          7.482228482680002,
          7.521139959950001,
          7.560051437220001,
          7.598962914490001,
          7.637874391760001,
          7.676785869030001,
          7.715697346300002,
          7.754608823570001,
          7.793520300840001,
          7.832431778110002,
          7.871343255380001,
          7.910254732650002,
          7.949166209920001,
          7.988077687190001,
          8.026989164460002,
          8.065900641730002,
          8.104812119,
          8.143723596270002,
          8.18263507354,
          8.22154655081,
          8.26045802808,
          8.29936950535,
          8.33828098262,
          8.37719245989,
          8.41610393716,
          8.455015414430001,
          8.493926891700001,
          8.532838368970001,
          8.571749846240001,
          8.610661323510003,
          8.649572800780001,
          8.688484278050002,
          8.727395755320002,
          8.766307232590002,
          8.805218709860002,
          8.844130187130002,
          8.8830416644,
          8.921953141670002,
          8.960864618940002,
          8.99977609621,
          9.038687573480003,
          9.077599050750003,
          9.116510528020001,
          9.155422005290001,
          9.194333482560003,
          9.233244959830001,
          9.272156437100001,
          9.311067914370001,
          9.349979391640002,
          9.388890868910002,
          9.427802346180002,
          9.46671382345,
          9.505625300720002,
          9.544536777990002,
          9.58344825526,
          9.62235973253,
          9.661271209800002,
          9.70018268707,
          9.73909416434,
          9.778005641610003,
          9.816917118880003,
          9.855828596150001,
          9.894740073420001,
          9.933651550690003,
          9.972563027960001,
          10.011474505230002,
          10.050385982500002,
          10.089297459770002,
          10.128208937040002,
          10.167120414310002,
          10.20603189158,
          10.244943368850002,
          10.283854846120002,
          10.32276632339,
          10.361677800660003,
          10.400589277930003,
          10.439500755200001,
          10.478412232470001,
          10.517323709740003,
          10.556235187010001,
          10.595146664280001,
          10.634058141550002,
          10.672969618820002,
          10.711881096090002,
          10.750792573360002,
          10.78970405063,
          10.828615527900002,
          10.867527005170002,
          10.906438482440002,
          10.945349959710002,
          10.984261436980002,
          11.023172914250003,
          11.062084391520001,
          11.100995868790003,
          11.139907346060003,
          11.178818823330001,
          11.217730300600001,
          11.256641777870003,
          11.295553255140002,
          11.334464732410002,
          11.373376209680002,
          11.412287686950002,
          11.451199164220002,
          11.490110641490002,
          11.52902211876,
          11.567933596030002,
          11.606845073300002,
          11.64575655057,
          11.684668027840003,
          11.723579505110003,
          11.762490982380001,
          11.801402459650001,
          11.840313936920003,
          11.879225414190001,
          11.918136891460001,
          11.957048368730002,
          11.995959846000003,
          12.034871323270002,
          12.073782800540002,
          12.112694277810002,
          12.151605755080002,
          12.190517232350002,
          12.229428709620002,
          12.268340186890002,
          12.307251664160002,
          12.346163141430003,
          12.385074618700001,
          12.423986095970003,
          12.462897573240003,
          12.501809050510001,
          12.540720527780001,
          12.579632005050003,
          12.618543482320002,
          12.657454959590002,
          12.696366436860002,
          12.735277914130002,
          12.774189391400002,
          12.813100868670002,
          12.852012345940002,
          12.890923823210002,
          12.929835300480002,
          12.96874677775,
          13.007658255020003,
          13.046569732290003,
          13.085481209560003,
          13.124392686830001,
          13.163304164100003,
          13.202215641370003,
          13.241127118640001,
          13.280038595910002,
          13.318950073180003,
          13.357861550450002,
          13.396773027720002,
          13.435684504990004,
          13.474595982260002,
          13.513507459530002,
          13.552418936800002,
          13.591330414070002,
          13.630241891340003,
          13.669153368610003,
          13.708064845880001,
          13.746976323150003,
          13.785887800420003,
          13.824799277690001,
          13.863710754960001,
          13.902622232230003,
          13.941533709500002,
          13.980445186770002,
          14.019356664040004,
          14.058268141310002,
          14.097179618580002,
          14.136091095850002,
          14.175002573120004,
          14.213914050390002,
          14.252825527660002,
          14.291737004930003,
          14.330648482200003,
          14.369559959470003,
          14.408471436740003,
          14.447382914010001,
          14.486294391280003,
          14.525205868550003,
          14.564117345820002,
          14.603028823090002,
          14.641940300360003,
          14.680851777630002,
          14.719763254900002,
          14.758674732170004,
          14.797586209440002,
          14.836497686710002,
          14.875409163980002,
          14.914320641250002,
          14.953232118520003,
          14.992143595790003,
          15.031055073060001,
          15.069966550330003,
          15.108878027600003,
          15.147789504870001,
          15.186700982140001,
          15.225612459410003,
          15.264523936680002,
          15.303435413950002,
          15.342346891220004,
          15.381258368490004,
          15.420169845760002,
          15.459081323030002,
          15.497992800300004,
          15.536904277570002,
          15.575815754840002,
          15.614727232110003,
          15.653638709380003,
          15.692550186650003,
          15.731461663920003,
          15.770373141190001,
          15.809284618460003,
          15.848196095730003,
          15.887107573000002,
          15.926019050270003,
          15.964930527540004,
          16.00384200481,
          16.042753482080002,
          16.081664959350004,
          16.120576436620002,
          16.15948791389,
          16.198399391160002,
          16.23731086843,
          16.276222345700003,
          16.31513382297,
          16.35404530024,
          16.39295677751,
          16.43186825478,
          16.47077973205,
          16.50969120932,
          16.54860268659,
          16.58751416386,
          16.62642564113,
          16.6653371184,
          16.704248595670002,
          16.74316007294,
          16.782071550210002,
          16.82098302748,
          16.859894504750002,
          16.898805982020004,
          16.93771745929,
          16.97662893656,
          17.01554041383,
          17.0544518911,
          17.093363368370003,
          17.13227484564,
          17.17118632291,
          17.21009780018,
          17.24900927745,
          17.287920754720002,
          17.326832231990004,
          17.365743709260002,
          17.40465518653,
          17.4435666638,
          17.48247814107,
          17.521389618340002,
          17.56030109561,
          17.599212572880003,
          17.63812405015,
          17.67703552742,
          17.71594700469,
          17.754858481960003,
          17.79376995923,
          17.832681436500003,
          17.871592913769998,
          17.91050439104,
          17.949415868310002,
          17.98832734558,
          18.027238822850002,
          18.066150300120004,
          18.105061777390002,
          18.14397325466,
          18.18288473193,
          18.2217962092,
          18.260707686470003,
          18.29961916374,
          18.338530641010003,
          18.37744211828,
          18.41635359555,
          18.45526507282,
          18.494176550090003,
          18.53308802736,
          18.571999504630003,
          18.6109109819,
          18.64982245917,
          18.688733936440002,
          18.72764541371,
          18.766556890980002,
          18.805468368250004,
          18.84437984552,
          18.88329132279,
          18.92220280006,
          18.96111427733,
          19.000025754600003,
          19.03893723187,
          19.07784870914,
          19.11676018641,
          19.15567166368,
          19.19458314095,
          19.233494618220004,
          19.272406095490002,
          19.311317572760004,
          19.35022905003,
          19.3891405273,
          19.428052004570002,
          19.46696348184,
          19.505874959110002,
          19.544786436380004,
          19.58369791365,
          19.62260939092,
          19.661520868190003,
          19.70043234546,
          19.739343822730003
         ],
         "xaxis": "x",
         "y": [
          0.17298932838207698,
          0.17521046362253925,
          0.1772641297585366,
          0.17914735121387113,
          0.1808579229246107,
          0.18239441337747514,
          0.18375616150879154,
          0.18494326755496632,
          0.18595657801147392,
          0.18679766492091818,
          0.18746879977059963,
          0.18797292233581187,
          0.18831360485571408,
          0.18849501197365248,
          0.18852185691263135,
          0.18839935438879715,
          0.18813317079100483,
          0.18772937217261448,
          0.18719437061241556,
          0.18653486950516177,
          0.18575780833861116,
          0.18487030750359568,
          0.18387961366668026,
          0.18279304621203377,
          0.1816179452304435,
          0.1803616214999944,
          0.1790313088649002,
          0.1776341193774883,
          0.17617700152383473,
          0.1746667018067589,
          0.1731097299117972,
          0.17151232763274757,
          0.16988044168445662,
          0.16821970048213392,
          0.16653539491947653,
          0.16483246313259128,
          0.16311547919394181,
          0.1613886456405332,
          0.15965578970381133,
          0.15792036307557702,
          0.1561854450148571,
          0.15445374857531383,
          0.15272762971151088,
          0.15100909900526346,
          0.14929983574025932,
          0.14760120404424756,
          0.1459142708129793,
          0.14423982512875622,
          0.142578398888543,
          0.1409302883619867,
          0.13929557640786058,
          0.13767415508837275,
          0.13606574843388,
          0.13446993512557923,
          0.13288617088049098,
          0.1313138103408632,
          0.12975212828907842,
          0.12820034002856437,
          0.1266576207910542,
          0.12512312405042086,
          0.12359599864294675,
          0.1220754046132201,
          0.12056052772343553,
          0.11905059258179165,
          0.11754487436256861,
          0.1160427091063916,
          0.11454350260390793,
          0.11304673787963758,
          0.11155198130507284,
          0.11005888738105364,
          0.10856720223919844,
          0.10707676592061398,
          0.10558751349726572,
          0.10409947510739492,
          0.1026127749811891,
          0.10112762953657738,
          0.09964434462773135,
          0.09816331203046647,
          0.09668500524956435,
          0.09520997473290656,
          0.09373884257650361,
          0.09227229680295412,
          0.090811085293691,
          0.08935600945269379,
          0.08790791767609238,
          0.08646769869849862,
          0.08503627488288679,
          0.08361459551657498,
          0.08220363017128438,
          0.08080436218057192,
          0.07941778228300456,
          0.07804488247452507,
          0.07668665010841769,
          0.07534406227627513,
          0.07401808049838737,
          0.07270964574708072,
          0.07141967382173615,
          0.07014905108958387,
          0.06889863060191975,
          0.06766922859113206,
          0.06646162134993074,
          0.06527654249041398,
          0.06411468057716663,
          0.06297667712540994,
          0.06186312495239839,
          0.060774566867752094,
          0.05971149468625095,
          0.05867434854479005,
          0.05766351650374416,
          0.05667933441184351,
          0.05572208601288372,
          0.05479200327214884,
          0.05388926690026371,
          0.05301400705237231,
          0.05216630418097957,
          0.051346190021481025,
          0.05055364869036374,
          0.04978861787719516,
          0.04905099011284211,
          0.04834061409784845,
          0.04765729607648083,
          0.04700080124365837,
          0.04637085517369767,
          0.04576714526161331,
          0.04518932216943665,
          0.044637001271801806,
          0.044109764096690755,
          0.043607159758853084,
          0.043128706384896666,
          0.04267389253042079,
          0.04224217859079098,
          0.04183299820821696,
          0.04144575967870229,
          0.04107984736315473,
          0.040734623107479176,
          0.04040942767683282,
          0.04010358220938385,
          0.03981638969489453,
          0.03954713648325655,
          0.03929509382772654,
          0.03905951946710506,
          0.03883965925039967,
          0.03863474880673104,
          0.03844401526229806,
          0.03826667900521461,
          0.03810195549790742,
          0.037949057135627254,
          0.03780719514840481,
          0.03767558154257184,
          0.03755343107675646,
          0.037439963266049814,
          0.037334404406913026,
          0.037235989614283656,
          0.03714396486135434,
          0.03705758901157047,
          0.03697613583161732,
          0.03689889597349541,
          0.036825178913263264,
          0.036754314833666916,
          0.036685656437654666,
          0.03661858067975474,
          0.036552490402400946,
          0.036486815864624385,
          0.036421016150968155,
          0.036354580449155634,
          0.03628702918581462,
          0.03621791501052787,
          0.03614682361956766,
          0.03607337441188047,
          0.03599722097122998,
          0.03591805136982057,
          0.03583558829022001,
          0.0357495889639646,
          0.035659844926806204,
          0.03556618159217278,
          0.03546845764600773,
          0.03536656426771815,
          0.03526042418348033,
          0.035149990559602814,
          0.0350352457450025,
          0.03491619987310542,
          0.03479288933462117,
          0.034665375133635386,
          0.03453374114032163,
          0.03439809225427908,
          0.03425855249303403,
          0.03411526302063343,
          0.03396838013146291,
          0.033818073204479514,
          0.033664522642938975,
          0.033507917814446765,
          0.033348455005757394,
          0.03318633540621764,
          0.03302176313310723,
          0.03285494331137297,
          0.03268608021941235,
          0.03251537551165496,
          0.03234302652771508,
          0.032169224696883526,
          0.031994154045692585,
          0.031817989815250136,
          0.03164089719399989,
          0.03146303017055894,
          0.03128453051028872,
          0.031105526858329253,
          0.030926133970922972,
          0.030746452076023303,
          0.030566566363414045,
          0.030386546603843306,
          0.03020644689603467,
          0.03002630553984563,
          0.029846145033313502,
          0.029665972190852652,
          0.029485778379432795,
          0.029305539869179154,
          0.029125218294471934,
          0.028944761221286676,
          0.028764102816192273,
          0.028583164612107633,
          0.028401856365597233,
          0.028220077000161024,
          0.02803771562963006,
          0.027854652655422613,
          0.027670760931031473,
          0.027485906986713028,
          0.027299952306923312,
          0.02711275465260424,
          0.02692416941996923,
          0.026734051026975257,
          0.026542254318209144,
          0.026348635978470727,
          0.0261530559449121,
          0.02595537880721077,
          0.02575547518491723,
          0.025553223070854895,
          0.02534850912925873,
          0.025141229937249644,
          0.024931293158252668,
          0.02471861863610593,
          0.024503139398870114,
          0.024284802561758006,
          0.02406357011915523,
          0.023839419616410406,
          0.023612344692931508,
          0.023382355489135982,
          0.02314947891095983,
          0.022913758746928976,
          0.02267525563422186,
          0.022434046871691895,
          0.022190226079456622,
          0.02194390270637296,
          0.021695201388488263,
          0.021444261163352896,
          0.02119123454688411,
          0.02093628648124516,
          0.02067959316392924,
          0.020421340769879608,
          0.020161724080007555,
          0.01990094503086597,
          0.019639211201463908,
          0.019376734254251068,
          0.01911372834813221,
          0.018850408541976248,
          0.018586989207444553,
          0.018323682470069467,
          0.018060696697357003,
          0.017798235052266926,
          0.017536494129737432,
          0.017275662692978914,
          0.017015920525070505,
          0.016757437409969156,
          0.016500372255402677,
          0.016244872368287918,
          0.015991072891318358,
          0.015739096407231458,
          0.015489052715025715,
          0.01524103878008268,
          0.014995138857797949,
          0.01475142478796815,
          0.014509956454856077,
          0.014270782405599876,
          0.014033940617472231,
          0.013799459402471691,
          0.013567358435863916,
          0.013337649893617314,
          0.013110339682215656,
          0.012885428743104211,
          0.012662914413048903,
          0.012442791820975106,
          0.012225055301411195,
          0.01200969980449719,
          0.011796722282629419,
          0.011586123034195976,
          0.011377906985504649,
          0.011172084892904117,
          0.01096867444823586,
          0.010767701272107091,
          0.010569199781026103,
          0.01037321391616281,
          0.010179797723367266,
          0.00998901577606476,
          0.009800943434724912,
          0.009615666938738391,
          0.00943328332870447,
          0.009253900199302056,
          0.009077635285059135,
          0.008904615883423754,
          0.008734978121544173,
          0.008568866075067126,
          0.008406430749032578,
          0.008247828932565903,
          0.008093221940522598,
          0.00794277425651271,
          0.007796652092809,
          0.007655021883515192,
          0.007518048728030949,
          0.007385894802294569,
          0.007258717755512111,
          0.0071366691100940354,
          0.007019892682320662,
          0.006908523040854304,
          0.006802684019616844,
          0.0067024873007678005,
          0.006608031082563743,
          0.006519398845769964,
          0.006436658231045776,
          0.006359860038354627,
          0.006289037357977383,
          0.006224204841152178,
          0.006165358116747564,
          0.0061124733587174076,
          0.006065507007407887,
          0.006024395646108097,
          0.005989056032578584,
          0.005959385283673148,
          0.005935261209609531,
          0.005916542792960222,
          0.005903070806041807,
          0.005894668559095022,
          0.005891142770480178,
          0.005892284549076304,
          0.0058978704781744405,
          0.005907663789405715,
          0.005921415614645829,
          0.005938866303394596,
          0.005959746792841952,
          0.005983780017699472,
          0.006010682346896864,
          0.006040165034409326,
          0.0060719356717895195,
          0.006105699630416272,
          0.0061411614820334635,
          0.006178026386822996,
          0.006216001439024756,
          0.006254796960969157,
          0.006294127737310537,
          0.006333714182227409,
          0.006373283433372766,
          0.006412570367400342,
          0.006451318532944038,
          0.006489280997975004,
          0.006526221109488412,
          0.006561913164467882,
          0.006596142992026375,
          0.0066287084475180665,
          0.006659419820245742,
          0.006688100157144416,
          0.006714585505497436,
          0.00673872507833024,
          0.006760381346626334,
          0.006779430062916881,
          0.0067957602211093275,
          0.0068092739576423806,
          0.006819886399187591,
          0.006827525462163769,
          0.006832131609296655,
          0.00683365756834719,
          0.006832068017955006,
          0.0068273392453078174,
          0.006819458780060059,
          0.006808425008594968,
          0.0067942467723629526,
          0.006776942953644061,
          0.0067565420516847744,
          0.006733081751756464,
          0.006706608489285653,
          0.006677177010820993,
          0.006644849933237905,
          0.006609697302245263,
          0.006571796150954834,
          0.006531230059009943,
          0.0064880887125468925,
          0.006442467465085788,
          0.00639446689931696,
          0.006344192389666576,
          0.006291753665489303,
          0.006237264374745941,
          0.006180841648076634,
          0.006122605663272731,
          0.006062679210277921,
          0.0060011872570068575,
          0.005938256516451571,
          0.0058740150157464725,
          0.00580859166807452,
          0.005742115848514605,
          0.0056747169751452005,
          0.005606524096925769,
          0.005537665490069316,
          0.005468268264788749,
          0.005398457984442808,
          0.0053283582992171554,
          0.005258090596549118,
          0.0051877736705367855,
          0.00511752341256097,
          0.005047452525290629,
          0.004977670262137172,
          0.004908282194070249,
          0.004839390005508506,
          0.004771091320754551,
          0.004703479562156522,
          0.004636643840854126,
          0.004570668880606738,
          0.004505634974813329,
          0.004441617976421392,
          0.004378689319993919,
          0.004316916074764447,
          0.004256361027069423,
          0.004197082790110433,
          0.004139135938575713,
          0.00408257116524681,
          0.004027435456340861,
          0.003973772281998969,
          0.00392162179803267,
          0.0038710210547913894,
          0.003822004208818272,
          0.00377460273282649,
          0.0037288456194563596,
          0.0036847595742694594,
          0.0036423691935017475,
          0.003601697122234864,
          0.0035627641888541887,
          0.0035255895119429143,
          0.003490190576111836,
          0.0034565832736821074,
          0.0034247819096187753,
          0.0033947991676517445,
          0.003366646036112004,
          0.0033403316926474695,
          0.0033158633476570673,
          0.0032932460469848744,
          0.0032724824351392174,
          0.003253572481034582,
          0.0032365131689864692,
          0.00322129815841056,
          0.003207917416376448,
          0.0031963568278319146,
          0.003186597788935257,
          0.0031786167894998427,
          0.0031723849910566073,
          0.0031678678074668343,
          0.003165024495360323,
          0.0031638077619247943,
          0.003164163397724047,
          0.003166029942269159,
          0.0031693383900040445,
          0.003174011944191202,
          0.0031799658258935166,
          0.0031871071448438064,
          0.0031953348384768493,
          0.0032045396847726576,
          0.0032146043938295074,
          0.0032254037822580487,
          0.003236805033571831,
          0.003248668046755411,
          0.003260845874130231,
          0.0032731852485240165,
          0.0032855271985959113,
          0.003297707749992091,
          0.003309558708821827,
          0.003320908522768547,
          0.003331583214001519,
          0.0033414073769490824,
          0.0033502052329504855,
          0.0033578017328376015,
          0.0033640236976255926,
          0.0033687009867279984,
          0.003371667682470527,
          0.0033727632791705803,
          0.00337183386468696,
          0.003368733282133957,
          0.003363324259402553,
          0.003355479494241891,
          0.0033450826829280887,
          0.003332029480983157,
          0.0033162283850005185,
          0.0032976015253788527,
          0.0032760853606537605,
          0.0032516312651360434,
          0.003224206002702442,
          0.0031937920808243732
         ],
         "yaxis": "y"
        }
       ],
       "layout": {
        "barmode": "overlay",
        "font": {
         "size": 18
        },
        "hovermode": "closest",
        "legend": {
         "traceorder": "reversed"
        },
        "plot_bgcolor": "#F5F5F8",
        "template": {
         "data": {
          "bar": [
           {
            "error_x": {
             "color": "#2a3f5f"
            },
            "error_y": {
             "color": "#2a3f5f"
            },
            "marker": {
             "line": {
              "color": "#E5ECF6",
              "width": 0.5
             },
             "pattern": {
              "fillmode": "overlay",
              "size": 10,
              "solidity": 0.2
             }
            },
            "type": "bar"
           }
          ],
          "barpolar": [
           {
            "marker": {
             "line": {
              "color": "#E5ECF6",
              "width": 0.5
             },
             "pattern": {
              "fillmode": "overlay",
              "size": 10,
              "solidity": 0.2
             }
            },
            "type": "barpolar"
           }
          ],
          "carpet": [
           {
            "aaxis": {
             "endlinecolor": "#2a3f5f",
             "gridcolor": "white",
             "linecolor": "white",
             "minorgridcolor": "white",
             "startlinecolor": "#2a3f5f"
            },
            "baxis": {
             "endlinecolor": "#2a3f5f",
             "gridcolor": "white",
             "linecolor": "white",
             "minorgridcolor": "white",
             "startlinecolor": "#2a3f5f"
            },
            "type": "carpet"
           }
          ],
          "choropleth": [
           {
            "colorbar": {
             "outlinewidth": 0,
             "ticks": ""
            },
            "type": "choropleth"
           }
          ],
          "contour": [
           {
            "colorbar": {
             "outlinewidth": 0,
             "ticks": ""
            },
            "colorscale": [
             [
              0,
              "#0d0887"
             ],
             [
              0.1111111111111111,
              "#46039f"
             ],
             [
              0.2222222222222222,
              "#7201a8"
             ],
             [
              0.3333333333333333,
              "#9c179e"
             ],
             [
              0.4444444444444444,
              "#bd3786"
             ],
             [
              0.5555555555555556,
              "#d8576b"
             ],
             [
              0.6666666666666666,
              "#ed7953"
             ],
             [
              0.7777777777777778,
              "#fb9f3a"
             ],
             [
              0.8888888888888888,
              "#fdca26"
             ],
             [
              1,
              "#f0f921"
             ]
            ],
            "type": "contour"
           }
          ],
          "contourcarpet": [
           {
            "colorbar": {
             "outlinewidth": 0,
             "ticks": ""
            },
            "type": "contourcarpet"
           }
          ],
          "heatmap": [
           {
            "colorbar": {
             "outlinewidth": 0,
             "ticks": ""
            },
            "colorscale": [
             [
              0,
              "#0d0887"
             ],
             [
              0.1111111111111111,
              "#46039f"
             ],
             [
              0.2222222222222222,
              "#7201a8"
             ],
             [
              0.3333333333333333,
              "#9c179e"
             ],
             [
              0.4444444444444444,
              "#bd3786"
             ],
             [
              0.5555555555555556,
              "#d8576b"
             ],
             [
              0.6666666666666666,
              "#ed7953"
             ],
             [
              0.7777777777777778,
              "#fb9f3a"
             ],
             [
              0.8888888888888888,
              "#fdca26"
             ],
             [
              1,
              "#f0f921"
             ]
            ],
            "type": "heatmap"
           }
          ],
          "heatmapgl": [
           {
            "colorbar": {
             "outlinewidth": 0,
             "ticks": ""
            },
            "colorscale": [
             [
              0,
              "#0d0887"
             ],
             [
              0.1111111111111111,
              "#46039f"
             ],
             [
              0.2222222222222222,
              "#7201a8"
             ],
             [
              0.3333333333333333,
              "#9c179e"
             ],
             [
              0.4444444444444444,
              "#bd3786"
             ],
             [
              0.5555555555555556,
              "#d8576b"
             ],
             [
              0.6666666666666666,
              "#ed7953"
             ],
             [
              0.7777777777777778,
              "#fb9f3a"
             ],
             [
              0.8888888888888888,
              "#fdca26"
             ],
             [
              1,
              "#f0f921"
             ]
            ],
            "type": "heatmapgl"
           }
          ],
          "histogram": [
           {
            "marker": {
             "pattern": {
              "fillmode": "overlay",
              "size": 10,
              "solidity": 0.2
             }
            },
            "type": "histogram"
           }
          ],
          "histogram2d": [
           {
            "colorbar": {
             "outlinewidth": 0,
             "ticks": ""
            },
            "colorscale": [
             [
              0,
              "#0d0887"
             ],
             [
              0.1111111111111111,
              "#46039f"
             ],
             [
              0.2222222222222222,
              "#7201a8"
             ],
             [
              0.3333333333333333,
              "#9c179e"
             ],
             [
              0.4444444444444444,
              "#bd3786"
             ],
             [
              0.5555555555555556,
              "#d8576b"
             ],
             [
              0.6666666666666666,
              "#ed7953"
             ],
             [
              0.7777777777777778,
              "#fb9f3a"
             ],
             [
              0.8888888888888888,
              "#fdca26"
             ],
             [
              1,
              "#f0f921"
             ]
            ],
            "type": "histogram2d"
           }
          ],
          "histogram2dcontour": [
           {
            "colorbar": {
             "outlinewidth": 0,
             "ticks": ""
            },
            "colorscale": [
             [
              0,
              "#0d0887"
             ],
             [
              0.1111111111111111,
              "#46039f"
             ],
             [
              0.2222222222222222,
              "#7201a8"
             ],
             [
              0.3333333333333333,
              "#9c179e"
             ],
             [
              0.4444444444444444,
              "#bd3786"
             ],
             [
              0.5555555555555556,
              "#d8576b"
             ],
             [
              0.6666666666666666,
              "#ed7953"
             ],
             [
              0.7777777777777778,
              "#fb9f3a"
             ],
             [
              0.8888888888888888,
              "#fdca26"
             ],
             [
              1,
              "#f0f921"
             ]
            ],
            "type": "histogram2dcontour"
           }
          ],
          "mesh3d": [
           {
            "colorbar": {
             "outlinewidth": 0,
             "ticks": ""
            },
            "type": "mesh3d"
           }
          ],
          "parcoords": [
           {
            "line": {
             "colorbar": {
              "outlinewidth": 0,
              "ticks": ""
             }
            },
            "type": "parcoords"
           }
          ],
          "pie": [
           {
            "automargin": true,
            "type": "pie"
           }
          ],
          "scatter": [
           {
            "fillpattern": {
             "fillmode": "overlay",
             "size": 10,
             "solidity": 0.2
            },
            "type": "scatter"
           }
          ],
          "scatter3d": [
           {
            "line": {
             "colorbar": {
              "outlinewidth": 0,
              "ticks": ""
             }
            },
            "marker": {
             "colorbar": {
              "outlinewidth": 0,
              "ticks": ""
             }
            },
            "type": "scatter3d"
           }
          ],
          "scattercarpet": [
           {
            "marker": {
             "colorbar": {
              "outlinewidth": 0,
              "ticks": ""
             }
            },
            "type": "scattercarpet"
           }
          ],
          "scattergeo": [
           {
            "marker": {
             "colorbar": {
              "outlinewidth": 0,
              "ticks": ""
             }
            },
            "type": "scattergeo"
           }
          ],
          "scattergl": [
           {
            "marker": {
             "colorbar": {
              "outlinewidth": 0,
              "ticks": ""
             }
            },
            "type": "scattergl"
           }
          ],
          "scattermapbox": [
           {
            "marker": {
             "colorbar": {
              "outlinewidth": 0,
              "ticks": ""
             }
            },
            "type": "scattermapbox"
           }
          ],
          "scatterpolar": [
           {
            "marker": {
             "colorbar": {
              "outlinewidth": 0,
              "ticks": ""
             }
            },
            "type": "scatterpolar"
           }
          ],
          "scatterpolargl": [
           {
            "marker": {
             "colorbar": {
              "outlinewidth": 0,
              "ticks": ""
             }
            },
            "type": "scatterpolargl"
           }
          ],
          "scatterternary": [
           {
            "marker": {
             "colorbar": {
              "outlinewidth": 0,
              "ticks": ""
             }
            },
            "type": "scatterternary"
           }
          ],
          "surface": [
           {
            "colorbar": {
             "outlinewidth": 0,
             "ticks": ""
            },
            "colorscale": [
             [
              0,
              "#0d0887"
             ],
             [
              0.1111111111111111,
              "#46039f"
             ],
             [
              0.2222222222222222,
              "#7201a8"
             ],
             [
              0.3333333333333333,
              "#9c179e"
             ],
             [
              0.4444444444444444,
              "#bd3786"
             ],
             [
              0.5555555555555556,
              "#d8576b"
             ],
             [
              0.6666666666666666,
              "#ed7953"
             ],
             [
              0.7777777777777778,
              "#fb9f3a"
             ],
             [
              0.8888888888888888,
              "#fdca26"
             ],
             [
              1,
              "#f0f921"
             ]
            ],
            "type": "surface"
           }
          ],
          "table": [
           {
            "cells": {
             "fill": {
              "color": "#EBF0F8"
             },
             "line": {
              "color": "white"
             }
            },
            "header": {
             "fill": {
              "color": "#C8D4E3"
             },
             "line": {
              "color": "white"
             }
            },
            "type": "table"
           }
          ]
         },
         "layout": {
          "annotationdefaults": {
           "arrowcolor": "#2a3f5f",
           "arrowhead": 0,
           "arrowwidth": 1
          },
          "autotypenumbers": "strict",
          "coloraxis": {
           "colorbar": {
            "outlinewidth": 0,
            "ticks": ""
           }
          },
          "colorscale": {
           "diverging": [
            [
             0,
             "#8e0152"
            ],
            [
             0.1,
             "#c51b7d"
            ],
            [
             0.2,
             "#de77ae"
            ],
            [
             0.3,
             "#f1b6da"
            ],
            [
             0.4,
             "#fde0ef"
            ],
            [
             0.5,
             "#f7f7f7"
            ],
            [
             0.6,
             "#e6f5d0"
            ],
            [
             0.7,
             "#b8e186"
            ],
            [
             0.8,
             "#7fbc41"
            ],
            [
             0.9,
             "#4d9221"
            ],
            [
             1,
             "#276419"
            ]
           ],
           "sequential": [
            [
             0,
             "#0d0887"
            ],
            [
             0.1111111111111111,
             "#46039f"
            ],
            [
             0.2222222222222222,
             "#7201a8"
            ],
            [
             0.3333333333333333,
             "#9c179e"
            ],
            [
             0.4444444444444444,
             "#bd3786"
            ],
            [
             0.5555555555555556,
             "#d8576b"
            ],
            [
             0.6666666666666666,
             "#ed7953"
            ],
            [
             0.7777777777777778,
             "#fb9f3a"
            ],
            [
             0.8888888888888888,
             "#fdca26"
            ],
            [
             1,
             "#f0f921"
            ]
           ],
           "sequentialminus": [
            [
             0,
             "#0d0887"
            ],
            [
             0.1111111111111111,
             "#46039f"
            ],
            [
             0.2222222222222222,
             "#7201a8"
            ],
            [
             0.3333333333333333,
             "#9c179e"
            ],
            [
             0.4444444444444444,
             "#bd3786"
            ],
            [
             0.5555555555555556,
             "#d8576b"
            ],
            [
             0.6666666666666666,
             "#ed7953"
            ],
            [
             0.7777777777777778,
             "#fb9f3a"
            ],
            [
             0.8888888888888888,
             "#fdca26"
            ],
            [
             1,
             "#f0f921"
            ]
           ]
          },
          "colorway": [
           "#636efa",
           "#EF553B",
           "#00cc96",
           "#ab63fa",
           "#FFA15A",
           "#19d3f3",
           "#FF6692",
           "#B6E880",
           "#FF97FF",
           "#FECB52"
          ],
          "font": {
           "color": "#2a3f5f"
          },
          "geo": {
           "bgcolor": "white",
           "lakecolor": "white",
           "landcolor": "#E5ECF6",
           "showlakes": true,
           "showland": true,
           "subunitcolor": "white"
          },
          "hoverlabel": {
           "align": "left"
          },
          "hovermode": "closest",
          "mapbox": {
           "style": "light"
          },
          "paper_bgcolor": "white",
          "plot_bgcolor": "#E5ECF6",
          "polar": {
           "angularaxis": {
            "gridcolor": "white",
            "linecolor": "white",
            "ticks": ""
           },
           "bgcolor": "#E5ECF6",
           "radialaxis": {
            "gridcolor": "white",
            "linecolor": "white",
            "ticks": ""
           }
          },
          "scene": {
           "xaxis": {
            "backgroundcolor": "#E5ECF6",
            "gridcolor": "white",
            "gridwidth": 2,
            "linecolor": "white",
            "showbackground": true,
            "ticks": "",
            "zerolinecolor": "white"
           },
           "yaxis": {
            "backgroundcolor": "#E5ECF6",
            "gridcolor": "white",
            "gridwidth": 2,
            "linecolor": "white",
            "showbackground": true,
            "ticks": "",
            "zerolinecolor": "white"
           },
           "zaxis": {
            "backgroundcolor": "#E5ECF6",
            "gridcolor": "white",
            "gridwidth": 2,
            "linecolor": "white",
            "showbackground": true,
            "ticks": "",
            "zerolinecolor": "white"
           }
          },
          "shapedefaults": {
           "line": {
            "color": "#2a3f5f"
           }
          },
          "ternary": {
           "aaxis": {
            "gridcolor": "white",
            "linecolor": "white",
            "ticks": ""
           },
           "baxis": {
            "gridcolor": "white",
            "linecolor": "white",
            "ticks": ""
           },
           "bgcolor": "#E5ECF6",
           "caxis": {
            "gridcolor": "white",
            "linecolor": "white",
            "ticks": ""
           }
          },
          "title": {
           "x": 0.05
          },
          "xaxis": {
           "automargin": true,
           "gridcolor": "white",
           "linecolor": "white",
           "ticks": "",
           "title": {
            "standoff": 15
           },
           "zerolinecolor": "white",
           "zerolinewidth": 2
          },
          "yaxis": {
           "automargin": true,
           "gridcolor": "white",
           "linecolor": "white",
           "ticks": "",
           "title": {
            "standoff": 15
           },
           "zerolinecolor": "white",
           "zerolinewidth": 2
          }
         }
        },
        "title": {
         "text": "Real vs. Synthetic Data for column 'ERG8'"
        },
        "xaxis": {
         "anchor": "y2",
         "domain": [
          0,
          1
         ],
         "title": {
          "text": "Value"
         },
         "zeroline": false
        },
        "yaxis": {
         "anchor": "free",
         "domain": [
          0,
          1
         ],
         "position": 0,
         "title": {
          "text": "Frequency"
         }
        }
       }
      }
     },
     "metadata": {},
     "output_type": "display_data"
    }
   ],
   "source": [
    "from sdmetrics.visualization import get_column_plot\n",
    "\n",
    "for c in X.columns:\n",
    "    fig = get_column_plot(X, fake_data_df, c)\n",
    "    pio.renderers.default = \"vscode\"\n",
    "    fig.show()\n",
    "    break"
   ]
  },
  {
   "cell_type": "code",
   "execution_count": 20,
   "metadata": {},
   "outputs": [
    {
     "data": {
      "application/vnd.plotly.v1+json": {
       "config": {
        "plotlyServerURL": "https://plot.ly"
       },
       "data": [
        {
         "coloraxis": "coloraxis",
         "hovertemplate": "<b>Column Pair</b><br>(%{x},%{y})<br><br>Similarity: %{z}<extra></extra>",
         "type": "heatmap",
         "x": [
          "ERG8",
          "ERG10",
          "ERG12",
          "ERG13",
          "ERG19",
          "ERG20",
          "IDI1",
          "tHMG1"
         ],
         "xaxis": "x",
         "y": [
          "ERG8",
          "ERG10",
          "ERG12",
          "ERG13",
          "ERG19",
          "ERG20",
          "IDI1",
          "tHMG1"
         ],
         "yaxis": "y",
         "z": [
          [
           1,
           0.819,
           0.886,
           0.885,
           0.978,
           0.981,
           0.984,
           0.757
          ],
          [
           0.819,
           1,
           0.865,
           0.93,
           0.82,
           0.903,
           0.973,
           0.903
          ],
          [
           0.886,
           0.865,
           1,
           0.9,
           0.995,
           0.938,
           0.98,
           0.876
          ],
          [
           0.885,
           0.93,
           0.9,
           1,
           0.94,
           0.898,
           0.976,
           0.961
          ],
          [
           0.978,
           0.82,
           0.995,
           0.94,
           1,
           0.72,
           0.884,
           0.952
          ],
          [
           0.981,
           0.903,
           0.938,
           0.898,
           0.72,
           1,
           0.815,
           0.969
          ],
          [
           0.984,
           0.973,
           0.98,
           0.976,
           0.884,
           0.815,
           1,
           0.941
          ],
          [
           0.757,
           0.903,
           0.876,
           0.961,
           0.952,
           0.969,
           0.941,
           1
          ]
         ]
        },
        {
         "coloraxis": "coloraxis2",
         "customdata": [
          [
           1,
           -0.012,
           0.012,
           0.052,
           0.049,
           0.008,
           0.039,
           -0.13
          ],
          [
           -0.012,
           1,
           -0.062,
           0.051,
           -0.006,
           -0.011,
           0.003,
           0.011
          ],
          [
           0.012,
           -0.062,
           1,
           0.029,
           0.057,
           0.026,
           0.009,
           -0.029
          ],
          [
           0.052,
           0.051,
           0.029,
           1,
           -0.003,
           -0.036,
           0,
           -0.001
          ],
          [
           0.049,
           -0.006,
           0.057,
           -0.003,
           1,
           -0.007,
           0,
           -0.013
          ],
          [
           0.008,
           -0.011,
           0.026,
           -0.036,
           -0.007,
           1,
           0.052,
           -0.021
          ],
          [
           0.039,
           0.003,
           0.009,
           0,
           0,
           0.052,
           1,
           0.052
          ],
          [
           -0.13,
           0.011,
           -0.029,
           -0.001,
           -0.013,
           -0.021,
           0.052,
           1
          ]
         ],
         "hovertemplate": "<b>Correlation</b><br>(%{x},%{y})<br><br>Synthetic: %{z}<br>(vs. Real: %{customdata})<extra></extra>",
         "type": "heatmap",
         "x": [
          "ERG8",
          "ERG10",
          "ERG12",
          "ERG13",
          "ERG19",
          "ERG20",
          "IDI1",
          "tHMG1"
         ],
         "xaxis": "x2",
         "y": [
          "ERG8",
          "ERG10",
          "ERG12",
          "ERG13",
          "ERG19",
          "ERG20",
          "IDI1",
          "tHMG1"
         ],
         "yaxis": "y2",
         "z": [
          [
           1,
           0.349,
           0.24,
           0.281,
           0.006,
           0.046,
           0.072,
           0.356
          ],
          [
           0.349,
           1,
           0.209,
           0.19,
           0.354,
           0.182,
           0.057,
           0.206
          ],
          [
           0.24,
           0.209,
           1,
           0.229,
           0.068,
           0.149,
           -0.031,
           0.219
          ],
          [
           0.281,
           0.19,
           0.229,
           1,
           0.117,
           0.168,
           0.048,
           0.076
          ],
          [
           0.006,
           0.354,
           0.068,
           0.117,
           1,
           0.553,
           0.232,
           0.083
          ],
          [
           0.046,
           0.182,
           0.149,
           0.168,
           0.553,
           1,
           0.422,
           0.041
          ],
          [
           0.072,
           0.057,
           -0.031,
           0.048,
           0.232,
           0.422,
           1,
           0.169
          ],
          [
           0.356,
           0.206,
           0.219,
           0.076,
           0.083,
           0.041,
           0.169,
           1
          ]
         ]
        },
        {
         "coloraxis": "coloraxis2",
         "customdata": [
          [
           1,
           0.349,
           0.24,
           0.281,
           0.006,
           0.046,
           0.072,
           0.356
          ],
          [
           0.349,
           1,
           0.209,
           0.19,
           0.354,
           0.182,
           0.057,
           0.206
          ],
          [
           0.24,
           0.209,
           1,
           0.229,
           0.068,
           0.149,
           -0.031,
           0.219
          ],
          [
           0.281,
           0.19,
           0.229,
           1,
           0.117,
           0.168,
           0.048,
           0.076
          ],
          [
           0.006,
           0.354,
           0.068,
           0.117,
           1,
           0.553,
           0.232,
           0.083
          ],
          [
           0.046,
           0.182,
           0.149,
           0.168,
           0.553,
           1,
           0.422,
           0.041
          ],
          [
           0.072,
           0.057,
           -0.031,
           0.048,
           0.232,
           0.422,
           1,
           0.169
          ],
          [
           0.356,
           0.206,
           0.219,
           0.076,
           0.083,
           0.041,
           0.169,
           1
          ]
         ],
         "hovertemplate": "<b>Correlation</b><br>(%{x},%{y})<br><br>Synthetic: %{z}<br>(vs. Real: %{customdata})<extra></extra>",
         "type": "heatmap",
         "x": [
          "ERG8",
          "ERG10",
          "ERG12",
          "ERG13",
          "ERG19",
          "ERG20",
          "IDI1",
          "tHMG1"
         ],
         "xaxis": "x3",
         "y": [
          "ERG8",
          "ERG10",
          "ERG12",
          "ERG13",
          "ERG19",
          "ERG20",
          "IDI1",
          "tHMG1"
         ],
         "yaxis": "y3",
         "z": [
          [
           1,
           -0.012,
           0.012,
           0.052,
           0.049,
           0.008,
           0.039,
           -0.13
          ],
          [
           -0.012,
           1,
           -0.062,
           0.051,
           -0.006,
           -0.011,
           0.003,
           0.011
          ],
          [
           0.012,
           -0.062,
           1,
           0.029,
           0.057,
           0.026,
           0.009,
           -0.029
          ],
          [
           0.052,
           0.051,
           0.029,
           1,
           -0.003,
           -0.036,
           0,
           -0.001
          ],
          [
           0.049,
           -0.006,
           0.057,
           -0.003,
           1,
           -0.007,
           0,
           -0.013
          ],
          [
           0.008,
           -0.011,
           0.026,
           -0.036,
           -0.007,
           1,
           0.052,
           -0.021
          ],
          [
           0.039,
           0.003,
           0.009,
           0,
           0,
           0.052,
           1,
           0.052
          ],
          [
           -0.13,
           0.011,
           -0.029,
           -0.001,
           -0.013,
           -0.021,
           0.052,
           1
          ]
         ]
        }
       ],
       "layout": {
        "annotations": [
         {
          "font": {
           "size": 16
          },
          "showarrow": false,
          "text": "Real vs. Synthetic Similarity",
          "x": 0.5,
          "xanchor": "center",
          "xref": "paper",
          "y": 1,
          "yanchor": "bottom",
          "yref": "paper"
         },
         {
          "font": {
           "size": 16
          },
          "showarrow": false,
          "text": "Numerical Correlation (Real Data)",
          "x": 0.225,
          "xanchor": "center",
          "xref": "paper",
          "y": 0.375,
          "yanchor": "bottom",
          "yref": "paper"
         },
         {
          "font": {
           "size": 16
          },
          "showarrow": false,
          "text": "Numerical Correlation (Synthetic Data)",
          "x": 0.775,
          "xanchor": "center",
          "xref": "paper",
          "y": 0.375,
          "yanchor": "bottom",
          "yref": "paper"
         }
        ],
        "coloraxis": {
         "cmax": 1,
         "cmin": 0,
         "colorbar": {
          "len": 0.5,
          "x": 0.8,
          "y": 0.8
         },
         "colorscale": [
          [
           0,
           "#FF0000"
          ],
          [
           0.5,
           "#F16141"
          ],
          [
           1,
           "#36B37E"
          ]
         ]
        },
        "coloraxis2": {
         "cmax": 1,
         "cmin": -1,
         "colorbar": {
          "len": 0.5,
          "y": 0.2
         },
         "colorscale": [
          [
           0,
           "#03AFF1"
          ],
          [
           0.5,
           "#000036"
          ],
          [
           1,
           "#01E0C9"
          ]
         ]
        },
        "font": {
         "size": 18
        },
        "height": 900,
        "template": {
         "data": {
          "bar": [
           {
            "error_x": {
             "color": "#2a3f5f"
            },
            "error_y": {
             "color": "#2a3f5f"
            },
            "marker": {
             "line": {
              "color": "#E5ECF6",
              "width": 0.5
             },
             "pattern": {
              "fillmode": "overlay",
              "size": 10,
              "solidity": 0.2
             }
            },
            "type": "bar"
           }
          ],
          "barpolar": [
           {
            "marker": {
             "line": {
              "color": "#E5ECF6",
              "width": 0.5
             },
             "pattern": {
              "fillmode": "overlay",
              "size": 10,
              "solidity": 0.2
             }
            },
            "type": "barpolar"
           }
          ],
          "carpet": [
           {
            "aaxis": {
             "endlinecolor": "#2a3f5f",
             "gridcolor": "white",
             "linecolor": "white",
             "minorgridcolor": "white",
             "startlinecolor": "#2a3f5f"
            },
            "baxis": {
             "endlinecolor": "#2a3f5f",
             "gridcolor": "white",
             "linecolor": "white",
             "minorgridcolor": "white",
             "startlinecolor": "#2a3f5f"
            },
            "type": "carpet"
           }
          ],
          "choropleth": [
           {
            "colorbar": {
             "outlinewidth": 0,
             "ticks": ""
            },
            "type": "choropleth"
           }
          ],
          "contour": [
           {
            "colorbar": {
             "outlinewidth": 0,
             "ticks": ""
            },
            "colorscale": [
             [
              0,
              "#0d0887"
             ],
             [
              0.1111111111111111,
              "#46039f"
             ],
             [
              0.2222222222222222,
              "#7201a8"
             ],
             [
              0.3333333333333333,
              "#9c179e"
             ],
             [
              0.4444444444444444,
              "#bd3786"
             ],
             [
              0.5555555555555556,
              "#d8576b"
             ],
             [
              0.6666666666666666,
              "#ed7953"
             ],
             [
              0.7777777777777778,
              "#fb9f3a"
             ],
             [
              0.8888888888888888,
              "#fdca26"
             ],
             [
              1,
              "#f0f921"
             ]
            ],
            "type": "contour"
           }
          ],
          "contourcarpet": [
           {
            "colorbar": {
             "outlinewidth": 0,
             "ticks": ""
            },
            "type": "contourcarpet"
           }
          ],
          "heatmap": [
           {
            "colorbar": {
             "outlinewidth": 0,
             "ticks": ""
            },
            "colorscale": [
             [
              0,
              "#0d0887"
             ],
             [
              0.1111111111111111,
              "#46039f"
             ],
             [
              0.2222222222222222,
              "#7201a8"
             ],
             [
              0.3333333333333333,
              "#9c179e"
             ],
             [
              0.4444444444444444,
              "#bd3786"
             ],
             [
              0.5555555555555556,
              "#d8576b"
             ],
             [
              0.6666666666666666,
              "#ed7953"
             ],
             [
              0.7777777777777778,
              "#fb9f3a"
             ],
             [
              0.8888888888888888,
              "#fdca26"
             ],
             [
              1,
              "#f0f921"
             ]
            ],
            "type": "heatmap"
           }
          ],
          "heatmapgl": [
           {
            "colorbar": {
             "outlinewidth": 0,
             "ticks": ""
            },
            "colorscale": [
             [
              0,
              "#0d0887"
             ],
             [
              0.1111111111111111,
              "#46039f"
             ],
             [
              0.2222222222222222,
              "#7201a8"
             ],
             [
              0.3333333333333333,
              "#9c179e"
             ],
             [
              0.4444444444444444,
              "#bd3786"
             ],
             [
              0.5555555555555556,
              "#d8576b"
             ],
             [
              0.6666666666666666,
              "#ed7953"
             ],
             [
              0.7777777777777778,
              "#fb9f3a"
             ],
             [
              0.8888888888888888,
              "#fdca26"
             ],
             [
              1,
              "#f0f921"
             ]
            ],
            "type": "heatmapgl"
           }
          ],
          "histogram": [
           {
            "marker": {
             "pattern": {
              "fillmode": "overlay",
              "size": 10,
              "solidity": 0.2
             }
            },
            "type": "histogram"
           }
          ],
          "histogram2d": [
           {
            "colorbar": {
             "outlinewidth": 0,
             "ticks": ""
            },
            "colorscale": [
             [
              0,
              "#0d0887"
             ],
             [
              0.1111111111111111,
              "#46039f"
             ],
             [
              0.2222222222222222,
              "#7201a8"
             ],
             [
              0.3333333333333333,
              "#9c179e"
             ],
             [
              0.4444444444444444,
              "#bd3786"
             ],
             [
              0.5555555555555556,
              "#d8576b"
             ],
             [
              0.6666666666666666,
              "#ed7953"
             ],
             [
              0.7777777777777778,
              "#fb9f3a"
             ],
             [
              0.8888888888888888,
              "#fdca26"
             ],
             [
              1,
              "#f0f921"
             ]
            ],
            "type": "histogram2d"
           }
          ],
          "histogram2dcontour": [
           {
            "colorbar": {
             "outlinewidth": 0,
             "ticks": ""
            },
            "colorscale": [
             [
              0,
              "#0d0887"
             ],
             [
              0.1111111111111111,
              "#46039f"
             ],
             [
              0.2222222222222222,
              "#7201a8"
             ],
             [
              0.3333333333333333,
              "#9c179e"
             ],
             [
              0.4444444444444444,
              "#bd3786"
             ],
             [
              0.5555555555555556,
              "#d8576b"
             ],
             [
              0.6666666666666666,
              "#ed7953"
             ],
             [
              0.7777777777777778,
              "#fb9f3a"
             ],
             [
              0.8888888888888888,
              "#fdca26"
             ],
             [
              1,
              "#f0f921"
             ]
            ],
            "type": "histogram2dcontour"
           }
          ],
          "mesh3d": [
           {
            "colorbar": {
             "outlinewidth": 0,
             "ticks": ""
            },
            "type": "mesh3d"
           }
          ],
          "parcoords": [
           {
            "line": {
             "colorbar": {
              "outlinewidth": 0,
              "ticks": ""
             }
            },
            "type": "parcoords"
           }
          ],
          "pie": [
           {
            "automargin": true,
            "type": "pie"
           }
          ],
          "scatter": [
           {
            "fillpattern": {
             "fillmode": "overlay",
             "size": 10,
             "solidity": 0.2
            },
            "type": "scatter"
           }
          ],
          "scatter3d": [
           {
            "line": {
             "colorbar": {
              "outlinewidth": 0,
              "ticks": ""
             }
            },
            "marker": {
             "colorbar": {
              "outlinewidth": 0,
              "ticks": ""
             }
            },
            "type": "scatter3d"
           }
          ],
          "scattercarpet": [
           {
            "marker": {
             "colorbar": {
              "outlinewidth": 0,
              "ticks": ""
             }
            },
            "type": "scattercarpet"
           }
          ],
          "scattergeo": [
           {
            "marker": {
             "colorbar": {
              "outlinewidth": 0,
              "ticks": ""
             }
            },
            "type": "scattergeo"
           }
          ],
          "scattergl": [
           {
            "marker": {
             "colorbar": {
              "outlinewidth": 0,
              "ticks": ""
             }
            },
            "type": "scattergl"
           }
          ],
          "scattermapbox": [
           {
            "marker": {
             "colorbar": {
              "outlinewidth": 0,
              "ticks": ""
             }
            },
            "type": "scattermapbox"
           }
          ],
          "scatterpolar": [
           {
            "marker": {
             "colorbar": {
              "outlinewidth": 0,
              "ticks": ""
             }
            },
            "type": "scatterpolar"
           }
          ],
          "scatterpolargl": [
           {
            "marker": {
             "colorbar": {
              "outlinewidth": 0,
              "ticks": ""
             }
            },
            "type": "scatterpolargl"
           }
          ],
          "scatterternary": [
           {
            "marker": {
             "colorbar": {
              "outlinewidth": 0,
              "ticks": ""
             }
            },
            "type": "scatterternary"
           }
          ],
          "surface": [
           {
            "colorbar": {
             "outlinewidth": 0,
             "ticks": ""
            },
            "colorscale": [
             [
              0,
              "#0d0887"
             ],
             [
              0.1111111111111111,
              "#46039f"
             ],
             [
              0.2222222222222222,
              "#7201a8"
             ],
             [
              0.3333333333333333,
              "#9c179e"
             ],
             [
              0.4444444444444444,
              "#bd3786"
             ],
             [
              0.5555555555555556,
              "#d8576b"
             ],
             [
              0.6666666666666666,
              "#ed7953"
             ],
             [
              0.7777777777777778,
              "#fb9f3a"
             ],
             [
              0.8888888888888888,
              "#fdca26"
             ],
             [
              1,
              "#f0f921"
             ]
            ],
            "type": "surface"
           }
          ],
          "table": [
           {
            "cells": {
             "fill": {
              "color": "#EBF0F8"
             },
             "line": {
              "color": "white"
             }
            },
            "header": {
             "fill": {
              "color": "#C8D4E3"
             },
             "line": {
              "color": "white"
             }
            },
            "type": "table"
           }
          ]
         },
         "layout": {
          "annotationdefaults": {
           "arrowcolor": "#2a3f5f",
           "arrowhead": 0,
           "arrowwidth": 1
          },
          "autotypenumbers": "strict",
          "coloraxis": {
           "colorbar": {
            "outlinewidth": 0,
            "ticks": ""
           }
          },
          "colorscale": {
           "diverging": [
            [
             0,
             "#8e0152"
            ],
            [
             0.1,
             "#c51b7d"
            ],
            [
             0.2,
             "#de77ae"
            ],
            [
             0.3,
             "#f1b6da"
            ],
            [
             0.4,
             "#fde0ef"
            ],
            [
             0.5,
             "#f7f7f7"
            ],
            [
             0.6,
             "#e6f5d0"
            ],
            [
             0.7,
             "#b8e186"
            ],
            [
             0.8,
             "#7fbc41"
            ],
            [
             0.9,
             "#4d9221"
            ],
            [
             1,
             "#276419"
            ]
           ],
           "sequential": [
            [
             0,
             "#0d0887"
            ],
            [
             0.1111111111111111,
             "#46039f"
            ],
            [
             0.2222222222222222,
             "#7201a8"
            ],
            [
             0.3333333333333333,
             "#9c179e"
            ],
            [
             0.4444444444444444,
             "#bd3786"
            ],
            [
             0.5555555555555556,
             "#d8576b"
            ],
            [
             0.6666666666666666,
             "#ed7953"
            ],
            [
             0.7777777777777778,
             "#fb9f3a"
            ],
            [
             0.8888888888888888,
             "#fdca26"
            ],
            [
             1,
             "#f0f921"
            ]
           ],
           "sequentialminus": [
            [
             0,
             "#0d0887"
            ],
            [
             0.1111111111111111,
             "#46039f"
            ],
            [
             0.2222222222222222,
             "#7201a8"
            ],
            [
             0.3333333333333333,
             "#9c179e"
            ],
            [
             0.4444444444444444,
             "#bd3786"
            ],
            [
             0.5555555555555556,
             "#d8576b"
            ],
            [
             0.6666666666666666,
             "#ed7953"
            ],
            [
             0.7777777777777778,
             "#fb9f3a"
            ],
            [
             0.8888888888888888,
             "#fdca26"
            ],
            [
             1,
             "#f0f921"
            ]
           ]
          },
          "colorway": [
           "#636efa",
           "#EF553B",
           "#00cc96",
           "#ab63fa",
           "#FFA15A",
           "#19d3f3",
           "#FF6692",
           "#B6E880",
           "#FF97FF",
           "#FECB52"
          ],
          "font": {
           "color": "#2a3f5f"
          },
          "geo": {
           "bgcolor": "white",
           "lakecolor": "white",
           "landcolor": "#E5ECF6",
           "showlakes": true,
           "showland": true,
           "subunitcolor": "white"
          },
          "hoverlabel": {
           "align": "left"
          },
          "hovermode": "closest",
          "mapbox": {
           "style": "light"
          },
          "paper_bgcolor": "white",
          "plot_bgcolor": "#E5ECF6",
          "polar": {
           "angularaxis": {
            "gridcolor": "white",
            "linecolor": "white",
            "ticks": ""
           },
           "bgcolor": "#E5ECF6",
           "radialaxis": {
            "gridcolor": "white",
            "linecolor": "white",
            "ticks": ""
           }
          },
          "scene": {
           "xaxis": {
            "backgroundcolor": "#E5ECF6",
            "gridcolor": "white",
            "gridwidth": 2,
            "linecolor": "white",
            "showbackground": true,
            "ticks": "",
            "zerolinecolor": "white"
           },
           "yaxis": {
            "backgroundcolor": "#E5ECF6",
            "gridcolor": "white",
            "gridwidth": 2,
            "linecolor": "white",
            "showbackground": true,
            "ticks": "",
            "zerolinecolor": "white"
           },
           "zaxis": {
            "backgroundcolor": "#E5ECF6",
            "gridcolor": "white",
            "gridwidth": 2,
            "linecolor": "white",
            "showbackground": true,
            "ticks": "",
            "zerolinecolor": "white"
           }
          },
          "shapedefaults": {
           "line": {
            "color": "#2a3f5f"
           }
          },
          "ternary": {
           "aaxis": {
            "gridcolor": "white",
            "linecolor": "white",
            "ticks": ""
           },
           "baxis": {
            "gridcolor": "white",
            "linecolor": "white",
            "ticks": ""
           },
           "bgcolor": "#E5ECF6",
           "caxis": {
            "gridcolor": "white",
            "linecolor": "white",
            "ticks": ""
           }
          },
          "title": {
           "x": 0.05
          },
          "xaxis": {
           "automargin": true,
           "gridcolor": "white",
           "linecolor": "white",
           "ticks": "",
           "title": {
            "standoff": 15
           },
           "zerolinecolor": "white",
           "zerolinewidth": 2
          },
          "yaxis": {
           "automargin": true,
           "gridcolor": "white",
           "linecolor": "white",
           "ticks": "",
           "title": {
            "standoff": 15
           },
           "zerolinecolor": "white",
           "zerolinewidth": 2
          }
         }
        },
        "title": {
         "text": "Data Quality: Column Pair Trends (Average Score=0.91)"
        },
        "width": 900,
        "xaxis": {
         "anchor": "y",
         "domain": [
          0.26,
          0.74
         ],
         "tickangle": 45
        },
        "xaxis2": {
         "anchor": "y2",
         "domain": [
          0,
          0.45
         ],
         "tickangle": 45
        },
        "xaxis3": {
         "anchor": "y3",
         "domain": [
          0.55,
          1
         ],
         "matches": "x2",
         "tickangle": 45
        },
        "yaxis": {
         "anchor": "x",
         "autorange": "reversed",
         "domain": [
          0.625,
          1
         ]
        },
        "yaxis2": {
         "anchor": "x2",
         "autorange": "reversed",
         "domain": [
          0,
          0.375
         ]
        },
        "yaxis3": {
         "anchor": "x3",
         "autorange": "reversed",
         "domain": [
          0,
          0.375
         ],
         "matches": "y2",
         "visible": false
        }
       }
      }
     },
     "metadata": {},
     "output_type": "display_data"
    }
   ],
   "source": [
    "pp = quality_report.get_visualization('Column Pair Trends')\n",
    "pio.renderers.default = \"vscode\"\n",
    "pp"
   ]
  },
  {
   "cell_type": "code",
   "execution_count": 22,
   "metadata": {},
   "outputs": [
    {
     "data": {
      "text/plain": [
       "1.0"
      ]
     },
     "execution_count": 22,
     "metadata": {},
     "output_type": "execute_result"
    }
   ],
   "source": [
    "from sdmetrics.single_table import NewRowSynthesis\n",
    "\n",
    "NewRowSynthesis.compute(\n",
    "    real_data=X,\n",
    "    synthetic_data=fake_data_df,\n",
    "    metadata=metadata\n",
    ")"
   ]
  },
  {
   "cell_type": "code",
   "execution_count": null,
   "metadata": {},
   "outputs": [],
   "source": []
  },
  {
   "cell_type": "markdown",
   "metadata": {},
   "source": [
    "### Machine Learning Detection Model"
   ]
  },
  {
   "cell_type": "code",
   "execution_count": 30,
   "metadata": {},
   "outputs": [
    {
     "name": "stdout",
     "output_type": "stream",
     "text": [
      " * Real data shape: (168, 9) *\n",
      " * Synthetic data shape: (168, 9) *\n"
     ]
    }
   ],
   "source": [
    "real_data = X.copy()\n",
    "synthetic_data = fake_data_df.copy()\n",
    "\n",
    "real_data['cls'] = 0\n",
    "synthetic_data['cls'] = 1\n",
    "\n",
    "synthetic_data = synthetic_data.sample(real_data.shape[0])\n",
    "\n",
    "print(f' * Real data shape: {real_data.shape} *')\n",
    "print(f' * Synthetic data shape: {synthetic_data.shape} *')"
   ]
  },
  {
   "cell_type": "code",
   "execution_count": 33,
   "metadata": {},
   "outputs": [
    {
     "data": {
      "text/plain": [
       "0.5495495495495496"
      ]
     },
     "execution_count": 33,
     "metadata": {},
     "output_type": "execute_result"
    }
   ],
   "source": [
    "from sklearn.linear_model import LogisticRegression\n",
    "\n",
    "lr = LogisticRegression()\n",
    "data = pd.concat([real_data, synthetic_data], axis=0)\n",
    "\n",
    "X_ml = data.drop('cls', axis=1)\n",
    "y_ml = data['cls']\n",
    "\n",
    "X_train, X_test, y_train, y_test = train_test_split(X_ml, y_ml, test_size=0.33, random_state=42)\n",
    "\n",
    "lr.fit(X_train, y_train)\n",
    "lr.score(X_test, y_test)\n",
    "\n"
   ]
  },
  {
   "cell_type": "markdown",
   "metadata": {},
   "source": [
    "### GANBRLR"
   ]
  },
  {
   "cell_type": "code",
   "execution_count": 38,
   "metadata": {},
   "outputs": [
    {
     "name": "stdout",
     "output_type": "stream",
     "text": [
      "warmup run:\n",
      "6/6 [==============================] - 1s 11ms/step - loss: 5.1243 - accuracy: 0.0119\n"
     ]
    },
    {
     "name": "stderr",
     "output_type": "stream",
     "text": [
      "WARNING:pgmpy:Probability values don't exactly sum to 1. Differ by: 2.220446049250313e-16. Adjusting values.\n",
      "WARNING:pgmpy:Probability values don't exactly sum to 1. Differ by: 1.1102230246251565e-16. Adjusting values.\n",
      "WARNING:pgmpy:Probability values don't exactly sum to 1. Differ by: 1.1102230246251565e-16. Adjusting values.\n",
      "WARNING:pgmpy:Probability values don't exactly sum to 1. Differ by: 1.1102230246251565e-16. Adjusting values.\n",
      "WARNING:pgmpy:Probability values don't exactly sum to 1. Differ by: 1.1102230246251565e-16. Adjusting values.\n",
      "WARNING:pgmpy:Probability values don't exactly sum to 1. Differ by: 1.1102230246251565e-16. Adjusting values.\n",
      "WARNING:pgmpy:Probability values don't exactly sum to 1. Differ by: 1.1102230246251565e-16. Adjusting values.\n",
      "WARNING:pgmpy:Probability values don't exactly sum to 1. Differ by: 1.1102230246251565e-16. Adjusting values.\n",
      "WARNING:pgmpy:Probability values don't exactly sum to 1. Differ by: 1.1102230246251565e-16. Adjusting values.\n",
      "WARNING:pgmpy:Probability values don't exactly sum to 1. Differ by: 1.1102230246251565e-16. Adjusting values.\n",
      "WARNING:pgmpy:Probability values don't exactly sum to 1. Differ by: 1.1102230246251565e-16. Adjusting values.\n",
      "WARNING:pgmpy:Probability values don't exactly sum to 1. Differ by: 1.1102230246251565e-16. Adjusting values.\n",
      "WARNING:pgmpy:Probability values don't exactly sum to 1. Differ by: 1.1102230246251565e-16. Adjusting values.\n",
      "WARNING:pgmpy:Probability values don't exactly sum to 1. Differ by: 1.1102230246251565e-16. Adjusting values.\n",
      "WARNING:pgmpy:Probability values don't exactly sum to 1. Differ by: 1.1102230246251565e-16. Adjusting values.\n",
      "WARNING:pgmpy:Probability values don't exactly sum to 1. Differ by: 1.1102230246251565e-16. Adjusting values.\n",
      "WARNING:pgmpy:Probability values don't exactly sum to 1. Differ by: 1.1102230246251565e-16. Adjusting values.\n",
      "WARNING:pgmpy:Probability values don't exactly sum to 1. Differ by: 1.1102230246251565e-16. Adjusting values.\n",
      "WARNING:pgmpy:Probability values don't exactly sum to 1. Differ by: 1.1102230246251565e-16. Adjusting values.\n",
      "WARNING:pgmpy:Probability values don't exactly sum to 1. Differ by: 1.1102230246251565e-16. Adjusting values.\n",
      "WARNING:pgmpy:Probability values don't exactly sum to 1. Differ by: 1.1102230246251565e-16. Adjusting values.\n",
      "WARNING:pgmpy:Probability values don't exactly sum to 1. Differ by: 1.1102230246251565e-16. Adjusting values.\n",
      "WARNING:pgmpy:Probability values don't exactly sum to 1. Differ by: 1.1102230246251565e-16. Adjusting values.\n",
      "WARNING:pgmpy:Probability values don't exactly sum to 1. Differ by: 1.1102230246251565e-16. Adjusting values.\n",
      "WARNING:pgmpy:Probability values don't exactly sum to 1. Differ by: 1.1102230246251565e-16. Adjusting values.\n",
      "WARNING:pgmpy:Probability values don't exactly sum to 1. Differ by: 1.1102230246251565e-16. Adjusting values.\n",
      "WARNING:pgmpy:Probability values don't exactly sum to 1. Differ by: 1.1102230246251565e-16. Adjusting values.\n",
      "WARNING:pgmpy:Probability values don't exactly sum to 1. Differ by: 1.1102230246251565e-16. Adjusting values.\n",
      "WARNING:pgmpy:Probability values don't exactly sum to 1. Differ by: 1.1102230246251565e-16. Adjusting values.\n",
      "WARNING:pgmpy:Probability values don't exactly sum to 1. Differ by: 1.1102230246251565e-16. Adjusting values.\n",
      "WARNING:pgmpy:Probability values don't exactly sum to 1. Differ by: 1.1102230246251565e-16. Adjusting values.\n",
      "WARNING:pgmpy:Probability values don't exactly sum to 1. Differ by: 1.1102230246251565e-16. Adjusting values.\n",
      "WARNING:pgmpy:Probability values don't exactly sum to 1. Differ by: 1.1102230246251565e-16. Adjusting values.\n",
      "WARNING:pgmpy:Probability values don't exactly sum to 1. Differ by: -2.220446049250313e-16. Adjusting values.\n",
      "WARNING:pgmpy:Probability values don't exactly sum to 1. Differ by: 1.1102230246251565e-16. Adjusting values.\n",
      "WARNING:pgmpy:Probability values don't exactly sum to 1. Differ by: 1.1102230246251565e-16. Adjusting values.\n",
      "WARNING:pgmpy:Probability values don't exactly sum to 1. Differ by: 1.1102230246251565e-16. Adjusting values.\n",
      "WARNING:pgmpy:Probability values don't exactly sum to 1. Differ by: 1.1102230246251565e-16. Adjusting values.\n",
      "WARNING:pgmpy:Probability values don't exactly sum to 1. Differ by: 1.1102230246251565e-16. Adjusting values.\n",
      "WARNING:pgmpy:Probability values don't exactly sum to 1. Differ by: 1.1102230246251565e-16. Adjusting values.\n",
      "WARNING:pgmpy:Probability values don't exactly sum to 1. Differ by: 1.1102230246251565e-16. Adjusting values.\n",
      "WARNING:pgmpy:Probability values don't exactly sum to 1. Differ by: 1.1102230246251565e-16. Adjusting values.\n",
      "WARNING:pgmpy:Probability values don't exactly sum to 1. Differ by: 1.1102230246251565e-16. Adjusting values.\n",
      "WARNING:pgmpy:Probability values don't exactly sum to 1. Differ by: 1.1102230246251565e-16. Adjusting values.\n",
      "WARNING:pgmpy:Probability values don't exactly sum to 1. Differ by: 1.1102230246251565e-16. Adjusting values.\n",
      "WARNING:pgmpy:Probability values don't exactly sum to 1. Differ by: 1.1102230246251565e-16. Adjusting values.\n",
      "WARNING:pgmpy:Probability values don't exactly sum to 1. Differ by: 1.1102230246251565e-16. Adjusting values.\n",
      "WARNING:pgmpy:Probability values don't exactly sum to 1. Differ by: 1.1102230246251565e-16. Adjusting values.\n",
      "WARNING:pgmpy:Probability values don't exactly sum to 1. Differ by: 1.1102230246251565e-16. Adjusting values.\n",
      "WARNING:pgmpy:Probability values don't exactly sum to 1. Differ by: 1.1102230246251565e-16. Adjusting values.\n",
      "WARNING:pgmpy:Probability values don't exactly sum to 1. Differ by: 1.1102230246251565e-16. Adjusting values.\n",
      "WARNING:pgmpy:Probability values don't exactly sum to 1. Differ by: 1.1102230246251565e-16. Adjusting values.\n",
      "WARNING:pgmpy:Probability values don't exactly sum to 1. Differ by: 1.1102230246251565e-16. Adjusting values.\n",
      "WARNING:pgmpy:Probability values don't exactly sum to 1. Differ by: 1.1102230246251565e-16. Adjusting values.\n",
      "WARNING:pgmpy:Probability values don't exactly sum to 1. Differ by: 1.1102230246251565e-16. Adjusting values.\n",
      "WARNING:pgmpy:Probability values don't exactly sum to 1. Differ by: 1.1102230246251565e-16. Adjusting values.\n",
      "WARNING:pgmpy:Probability values don't exactly sum to 1. Differ by: -2.220446049250313e-16. Adjusting values.\n",
      "WARNING:pgmpy:Probability values don't exactly sum to 1. Differ by: 1.1102230246251565e-16. Adjusting values.\n",
      "WARNING:pgmpy:Probability values don't exactly sum to 1. Differ by: 1.1102230246251565e-16. Adjusting values.\n",
      "WARNING:pgmpy:Probability values don't exactly sum to 1. Differ by: 1.1102230246251565e-16. Adjusting values.\n",
      "WARNING:pgmpy:Probability values don't exactly sum to 1. Differ by: 1.1102230246251565e-16. Adjusting values.\n",
      "WARNING:pgmpy:Probability values don't exactly sum to 1. Differ by: 1.1102230246251565e-16. Adjusting values.\n",
      "WARNING:pgmpy:Probability values don't exactly sum to 1. Differ by: 2.220446049250313e-16. Adjusting values.\n",
      "WARNING:pgmpy:Probability values don't exactly sum to 1. Differ by: 1.1102230246251565e-16. Adjusting values.\n",
      "WARNING:pgmpy:Probability values don't exactly sum to 1. Differ by: 1.1102230246251565e-16. Adjusting values.\n",
      "WARNING:pgmpy:Probability values don't exactly sum to 1. Differ by: 1.1102230246251565e-16. Adjusting values.\n",
      "WARNING:pgmpy:Probability values don't exactly sum to 1. Differ by: 1.1102230246251565e-16. Adjusting values.\n",
      "WARNING:pgmpy:Probability values don't exactly sum to 1. Differ by: 1.1102230246251565e-16. Adjusting values.\n",
      "WARNING:pgmpy:Probability values don't exactly sum to 1. Differ by: 1.1102230246251565e-16. Adjusting values.\n",
      "WARNING:pgmpy:Probability values don't exactly sum to 1. Differ by: 1.1102230246251565e-16. Adjusting values.\n",
      "WARNING:pgmpy:Probability values don't exactly sum to 1. Differ by: 1.1102230246251565e-16. Adjusting values.\n",
      "WARNING:pgmpy:Probability values don't exactly sum to 1. Differ by: 1.1102230246251565e-16. Adjusting values.\n",
      "WARNING:pgmpy:Probability values don't exactly sum to 1. Differ by: 1.1102230246251565e-16. Adjusting values.\n",
      "WARNING:pgmpy:Probability values don't exactly sum to 1. Differ by: 1.1102230246251565e-16. Adjusting values.\n",
      "WARNING:pgmpy:Probability values don't exactly sum to 1. Differ by: 1.1102230246251565e-16. Adjusting values.\n",
      "WARNING:pgmpy:Probability values don't exactly sum to 1. Differ by: 1.1102230246251565e-16. Adjusting values.\n",
      "WARNING:pgmpy:Probability values don't exactly sum to 1. Differ by: 1.1102230246251565e-16. Adjusting values.\n",
      "WARNING:pgmpy:Probability values don't exactly sum to 1. Differ by: 1.1102230246251565e-16. Adjusting values.\n",
      "WARNING:pgmpy:Probability values don't exactly sum to 1. Differ by: 1.1102230246251565e-16. Adjusting values.\n",
      "WARNING:pgmpy:Probability values don't exactly sum to 1. Differ by: 1.1102230246251565e-16. Adjusting values.\n",
      "WARNING:pgmpy:Probability values don't exactly sum to 1. Differ by: 1.1102230246251565e-16. Adjusting values.\n",
      "WARNING:pgmpy:Probability values don't exactly sum to 1. Differ by: 1.1102230246251565e-16. Adjusting values.\n",
      "WARNING:pgmpy:Probability values don't exactly sum to 1. Differ by: 1.1102230246251565e-16. Adjusting values.\n",
      "WARNING:pgmpy:Probability values don't exactly sum to 1. Differ by: 1.1102230246251565e-16. Adjusting values.\n",
      "WARNING:pgmpy:Probability values don't exactly sum to 1. Differ by: 1.1102230246251565e-16. Adjusting values.\n",
      "WARNING:pgmpy:Probability values don't exactly sum to 1. Differ by: 1.1102230246251565e-16. Adjusting values.\n",
      "WARNING:pgmpy:Probability values don't exactly sum to 1. Differ by: 1.1102230246251565e-16. Adjusting values.\n",
      "WARNING:pgmpy:Probability values don't exactly sum to 1. Differ by: 1.1102230246251565e-16. Adjusting values.\n",
      "WARNING:pgmpy:Probability values don't exactly sum to 1. Differ by: 1.1102230246251565e-16. Adjusting values.\n",
      "WARNING:pgmpy:Probability values don't exactly sum to 1. Differ by: 1.1102230246251565e-16. Adjusting values.\n",
      "WARNING:pgmpy:Probability values don't exactly sum to 1. Differ by: 1.1102230246251565e-16. Adjusting values.\n",
      "WARNING:pgmpy:Probability values don't exactly sum to 1. Differ by: 1.1102230246251565e-16. Adjusting values.\n",
      "/home/WUR/g0012069/env/main/lib/python3.10/site-packages/ganblr/models/ganblr.py:76: RuntimeWarning:\n",
      "\n",
      "divide by zero encountered in log\n",
      "\n",
      "WARNING:pgmpy:Probability values don't exactly sum to 1. Differ by: 2.220446049250313e-16. Adjusting values.\n",
      "WARNING:pgmpy:Probability values don't exactly sum to 1. Differ by: 1.1102230246251565e-16. Adjusting values.\n",
      "WARNING:pgmpy:Probability values don't exactly sum to 1. Differ by: 1.1102230246251565e-16. Adjusting values.\n",
      "WARNING:pgmpy:Probability values don't exactly sum to 1. Differ by: 1.1102230246251565e-16. Adjusting values.\n",
      "WARNING:pgmpy:Probability values don't exactly sum to 1. Differ by: 1.1102230246251565e-16. Adjusting values.\n",
      "WARNING:pgmpy:Probability values don't exactly sum to 1. Differ by: 1.1102230246251565e-16. Adjusting values.\n",
      "WARNING:pgmpy:Probability values don't exactly sum to 1. Differ by: 1.1102230246251565e-16. Adjusting values.\n",
      "WARNING:pgmpy:Probability values don't exactly sum to 1. Differ by: 1.1102230246251565e-16. Adjusting values.\n",
      "WARNING:pgmpy:Probability values don't exactly sum to 1. Differ by: 1.1102230246251565e-16. Adjusting values.\n",
      "WARNING:pgmpy:Probability values don't exactly sum to 1. Differ by: 1.1102230246251565e-16. Adjusting values.\n",
      "WARNING:pgmpy:Probability values don't exactly sum to 1. Differ by: 1.1102230246251565e-16. Adjusting values.\n",
      "WARNING:pgmpy:Probability values don't exactly sum to 1. Differ by: 1.1102230246251565e-16. Adjusting values.\n",
      "WARNING:pgmpy:Probability values don't exactly sum to 1. Differ by: 1.1102230246251565e-16. Adjusting values.\n",
      "WARNING:pgmpy:Probability values don't exactly sum to 1. Differ by: 1.1102230246251565e-16. Adjusting values.\n",
      "WARNING:pgmpy:Probability values don't exactly sum to 1. Differ by: 1.1102230246251565e-16. Adjusting values.\n",
      "WARNING:pgmpy:Probability values don't exactly sum to 1. Differ by: 1.1102230246251565e-16. Adjusting values.\n",
      "WARNING:pgmpy:Probability values don't exactly sum to 1. Differ by: 1.1102230246251565e-16. Adjusting values.\n",
      "WARNING:pgmpy:Probability values don't exactly sum to 1. Differ by: 1.1102230246251565e-16. Adjusting values.\n",
      "WARNING:pgmpy:Probability values don't exactly sum to 1. Differ by: 1.1102230246251565e-16. Adjusting values.\n",
      "WARNING:pgmpy:Probability values don't exactly sum to 1. Differ by: -2.220446049250313e-16. Adjusting values.\n",
      "WARNING:pgmpy:Probability values don't exactly sum to 1. Differ by: 1.1102230246251565e-16. Adjusting values.\n",
      "WARNING:pgmpy:Probability values don't exactly sum to 1. Differ by: 1.1102230246251565e-16. Adjusting values.\n",
      "WARNING:pgmpy:Probability values don't exactly sum to 1. Differ by: 1.1102230246251565e-16. Adjusting values.\n",
      "WARNING:pgmpy:Probability values don't exactly sum to 1. Differ by: 1.1102230246251565e-16. Adjusting values.\n",
      "WARNING:pgmpy:Probability values don't exactly sum to 1. Differ by: 1.1102230246251565e-16. Adjusting values.\n",
      "WARNING:pgmpy:Probability values don't exactly sum to 1. Differ by: 1.1102230246251565e-16. Adjusting values.\n",
      "WARNING:pgmpy:Probability values don't exactly sum to 1. Differ by: 1.1102230246251565e-16. Adjusting values.\n",
      "WARNING:pgmpy:Probability values don't exactly sum to 1. Differ by: 1.1102230246251565e-16. Adjusting values.\n",
      "WARNING:pgmpy:Probability values don't exactly sum to 1. Differ by: 1.1102230246251565e-16. Adjusting values.\n",
      "WARNING:pgmpy:Probability values don't exactly sum to 1. Differ by: 1.1102230246251565e-16. Adjusting values.\n",
      "WARNING:pgmpy:Probability values don't exactly sum to 1. Differ by: -2.220446049250313e-16. Adjusting values.\n",
      "WARNING:pgmpy:Probability values don't exactly sum to 1. Differ by: 1.1102230246251565e-16. Adjusting values.\n",
      "WARNING:pgmpy:Probability values don't exactly sum to 1. Differ by: 1.1102230246251565e-16. Adjusting values.\n",
      "WARNING:pgmpy:Probability values don't exactly sum to 1. Differ by: 1.1102230246251565e-16. Adjusting values.\n",
      "WARNING:pgmpy:Probability values don't exactly sum to 1. Differ by: 1.1102230246251565e-16. Adjusting values.\n",
      "WARNING:pgmpy:Probability values don't exactly sum to 1. Differ by: 1.1102230246251565e-16. Adjusting values.\n",
      "WARNING:pgmpy:Probability values don't exactly sum to 1. Differ by: 1.1102230246251565e-16. Adjusting values.\n",
      "WARNING:pgmpy:Probability values don't exactly sum to 1. Differ by: 1.1102230246251565e-16. Adjusting values.\n",
      "WARNING:pgmpy:Probability values don't exactly sum to 1. Differ by: 1.1102230246251565e-16. Adjusting values.\n",
      "WARNING:pgmpy:Probability values don't exactly sum to 1. Differ by: 1.1102230246251565e-16. Adjusting values.\n",
      "WARNING:pgmpy:Probability values don't exactly sum to 1. Differ by: 1.1102230246251565e-16. Adjusting values.\n",
      "WARNING:pgmpy:Probability values don't exactly sum to 1. Differ by: 1.1102230246251565e-16. Adjusting values.\n",
      "WARNING:pgmpy:Probability values don't exactly sum to 1. Differ by: 1.1102230246251565e-16. Adjusting values.\n",
      "WARNING:pgmpy:Probability values don't exactly sum to 1. Differ by: 1.1102230246251565e-16. Adjusting values.\n",
      "WARNING:pgmpy:Probability values don't exactly sum to 1. Differ by: 1.1102230246251565e-16. Adjusting values.\n",
      "WARNING:pgmpy:Probability values don't exactly sum to 1. Differ by: 1.1102230246251565e-16. Adjusting values.\n",
      "WARNING:pgmpy:Probability values don't exactly sum to 1. Differ by: 1.1102230246251565e-16. Adjusting values.\n",
      "WARNING:pgmpy:Probability values don't exactly sum to 1. Differ by: 1.1102230246251565e-16. Adjusting values.\n",
      "WARNING:pgmpy:Probability values don't exactly sum to 1. Differ by: 1.1102230246251565e-16. Adjusting values.\n",
      "WARNING:pgmpy:Probability values don't exactly sum to 1. Differ by: 1.1102230246251565e-16. Adjusting values.\n",
      "WARNING:pgmpy:Probability values don't exactly sum to 1. Differ by: 1.1102230246251565e-16. Adjusting values.\n",
      "WARNING:pgmpy:Probability values don't exactly sum to 1. Differ by: 1.1102230246251565e-16. Adjusting values.\n",
      "WARNING:pgmpy:Probability values don't exactly sum to 1. Differ by: 1.1102230246251565e-16. Adjusting values.\n",
      "WARNING:pgmpy:Probability values don't exactly sum to 1. Differ by: 1.1102230246251565e-16. Adjusting values.\n",
      "WARNING:pgmpy:Probability values don't exactly sum to 1. Differ by: 1.1102230246251565e-16. Adjusting values.\n",
      "WARNING:pgmpy:Probability values don't exactly sum to 1. Differ by: 1.1102230246251565e-16. Adjusting values.\n",
      "WARNING:pgmpy:Probability values don't exactly sum to 1. Differ by: 1.1102230246251565e-16. Adjusting values.\n",
      "WARNING:pgmpy:Probability values don't exactly sum to 1. Differ by: 1.1102230246251565e-16. Adjusting values.\n",
      "WARNING:pgmpy:Probability values don't exactly sum to 1. Differ by: 1.1102230246251565e-16. Adjusting values.\n",
      "WARNING:pgmpy:Probability values don't exactly sum to 1. Differ by: 1.1102230246251565e-16. Adjusting values.\n",
      "WARNING:pgmpy:Probability values don't exactly sum to 1. Differ by: 1.1102230246251565e-16. Adjusting values.\n",
      "WARNING:pgmpy:Probability values don't exactly sum to 1. Differ by: 1.1102230246251565e-16. Adjusting values.\n",
      "WARNING:pgmpy:Probability values don't exactly sum to 1. Differ by: 1.1102230246251565e-16. Adjusting values.\n",
      "WARNING:pgmpy:Probability values don't exactly sum to 1. Differ by: 1.1102230246251565e-16. Adjusting values.\n",
      "WARNING:pgmpy:Probability values don't exactly sum to 1. Differ by: 1.1102230246251565e-16. Adjusting values.\n",
      "WARNING:pgmpy:Probability values don't exactly sum to 1. Differ by: 1.1102230246251565e-16. Adjusting values.\n",
      "WARNING:pgmpy:Probability values don't exactly sum to 1. Differ by: 1.1102230246251565e-16. Adjusting values.\n",
      "WARNING:pgmpy:Probability values don't exactly sum to 1. Differ by: 1.1102230246251565e-16. Adjusting values.\n",
      "WARNING:pgmpy:Probability values don't exactly sum to 1. Differ by: 1.1102230246251565e-16. Adjusting values.\n",
      "WARNING:pgmpy:Probability values don't exactly sum to 1. Differ by: 1.1102230246251565e-16. Adjusting values.\n",
      "WARNING:pgmpy:Probability values don't exactly sum to 1. Differ by: 1.1102230246251565e-16. Adjusting values.\n",
      "WARNING:pgmpy:Probability values don't exactly sum to 1. Differ by: 1.1102230246251565e-16. Adjusting values.\n",
      "WARNING:pgmpy:Probability values don't exactly sum to 1. Differ by: 1.1102230246251565e-16. Adjusting values.\n",
      "WARNING:pgmpy:Probability values don't exactly sum to 1. Differ by: 1.1102230246251565e-16. Adjusting values.\n",
      "WARNING:pgmpy:Probability values don't exactly sum to 1. Differ by: 1.1102230246251565e-16. Adjusting values.\n",
      "WARNING:pgmpy:Probability values don't exactly sum to 1. Differ by: 1.1102230246251565e-16. Adjusting values.\n",
      "WARNING:pgmpy:Probability values don't exactly sum to 1. Differ by: 1.1102230246251565e-16. Adjusting values.\n",
      "WARNING:pgmpy:Probability values don't exactly sum to 1. Differ by: 1.1102230246251565e-16. Adjusting values.\n",
      "WARNING:pgmpy:Probability values don't exactly sum to 1. Differ by: 1.1102230246251565e-16. Adjusting values.\n",
      "WARNING:pgmpy:Probability values don't exactly sum to 1. Differ by: 2.220446049250313e-16. Adjusting values.\n",
      "WARNING:pgmpy:Probability values don't exactly sum to 1. Differ by: 1.1102230246251565e-16. Adjusting values.\n",
      "WARNING:pgmpy:Probability values don't exactly sum to 1. Differ by: 1.1102230246251565e-16. Adjusting values.\n",
      "WARNING:pgmpy:Probability values don't exactly sum to 1. Differ by: 1.1102230246251565e-16. Adjusting values.\n",
      "WARNING:pgmpy:Probability values don't exactly sum to 1. Differ by: 1.1102230246251565e-16. Adjusting values.\n",
      "WARNING:pgmpy:Probability values don't exactly sum to 1. Differ by: 1.1102230246251565e-16. Adjusting values.\n"
     ]
    },
    {
     "name": "stdout",
     "output_type": "stream",
     "text": [
      "Epoch 1/10: G_loss = inf, G_accuracy = 0.035714, D_loss = 30.627460, D_accuracy = 0.552239\n"
     ]
    }
   ],
   "source": [
    "from ganblr.models import GANBLR\n",
    "\n",
    "ganblr = GANBLR()\n",
    "ganblr.fit(X, y, k=0, epochs=10, batch_size=32)"
   ]
  }
 ],
 "metadata": {
  "kernelspec": {
   "display_name": "main",
   "language": "python",
   "name": "python3"
  },
  "language_info": {
   "codemirror_mode": {
    "name": "ipython",
    "version": 3
   },
   "file_extension": ".py",
   "mimetype": "text/x-python",
   "name": "python",
   "nbconvert_exporter": "python",
   "pygments_lexer": "ipython3",
   "version": "3.10.12"
  }
 },
 "nbformat": 4,
 "nbformat_minor": 2
}
