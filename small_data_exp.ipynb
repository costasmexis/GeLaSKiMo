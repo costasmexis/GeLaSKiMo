{
 "cells": [
  {
   "cell_type": "markdown",
   "metadata": {},
   "source": [
    "Generative and DL techniques on small metabolic engineering datasets"
   ]
  },
  {
   "cell_type": "code",
   "execution_count": 1,
   "metadata": {},
   "outputs": [
    {
     "name": "stdout",
     "output_type": "stream",
     "text": [
      "Working on cuda\n"
     ]
    }
   ],
   "source": [
    "import pandas as pd\n",
    "import numpy as np\n",
    "import matplotlib.pyplot as plt\n",
    "import seaborn as sns\n",
    "import torch\n",
    "import torch.nn as nn\n",
    "\n",
    "device = torch.device(\"cuda\" if torch.cuda.is_available() else \"cpu\")\n",
    "print(f'Working on {device}')"
   ]
  },
  {
   "cell_type": "code",
   "execution_count": 2,
   "metadata": {},
   "outputs": [
    {
     "data": {
      "text/html": [
       "<div>\n",
       "<style scoped>\n",
       "    .dataframe tbody tr th:only-of-type {\n",
       "        vertical-align: middle;\n",
       "    }\n",
       "\n",
       "    .dataframe tbody tr th {\n",
       "        vertical-align: top;\n",
       "    }\n",
       "\n",
       "    .dataframe thead th {\n",
       "        text-align: right;\n",
       "    }\n",
       "</style>\n",
       "<table border=\"1\" class=\"dataframe\">\n",
       "  <thead>\n",
       "    <tr style=\"text-align: right;\">\n",
       "      <th></th>\n",
       "      <th>ERG8</th>\n",
       "      <th>ERG10</th>\n",
       "      <th>ERG12</th>\n",
       "      <th>ERG13</th>\n",
       "      <th>ERG19</th>\n",
       "      <th>ERG20</th>\n",
       "      <th>IDI1</th>\n",
       "      <th>tHMG1</th>\n",
       "      <th>prod</th>\n",
       "    </tr>\n",
       "  </thead>\n",
       "  <tbody>\n",
       "    <tr>\n",
       "      <th>0</th>\n",
       "      <td>0.862946</td>\n",
       "      <td>0.987876</td>\n",
       "      <td>0.892209</td>\n",
       "      <td>0.909210</td>\n",
       "      <td>0.848096</td>\n",
       "      <td>0.840536</td>\n",
       "      <td>0.829163</td>\n",
       "      <td>0.753874</td>\n",
       "      <td>3.739360</td>\n",
       "    </tr>\n",
       "    <tr>\n",
       "      <th>1</th>\n",
       "      <td>0.783979</td>\n",
       "      <td>1.001960</td>\n",
       "      <td>0.978865</td>\n",
       "      <td>0.916151</td>\n",
       "      <td>0.718987</td>\n",
       "      <td>0.827099</td>\n",
       "      <td>0.960778</td>\n",
       "      <td>0.770533</td>\n",
       "      <td>2.448719</td>\n",
       "    </tr>\n",
       "    <tr>\n",
       "      <th>2</th>\n",
       "      <td>0.870862</td>\n",
       "      <td>0.796111</td>\n",
       "      <td>1.096750</td>\n",
       "      <td>0.919447</td>\n",
       "      <td>0.770546</td>\n",
       "      <td>0.879257</td>\n",
       "      <td>0.956943</td>\n",
       "      <td>0.909107</td>\n",
       "      <td>2.454255</td>\n",
       "    </tr>\n",
       "  </tbody>\n",
       "</table>\n",
       "</div>"
      ],
      "text/plain": [
       "       ERG8     ERG10     ERG12     ERG13     ERG19     ERG20      IDI1  \\\n",
       "0  0.862946  0.987876  0.892209  0.909210  0.848096  0.840536  0.829163   \n",
       "1  0.783979  1.001960  0.978865  0.916151  0.718987  0.827099  0.960778   \n",
       "2  0.870862  0.796111  1.096750  0.919447  0.770546  0.879257  0.956943   \n",
       "\n",
       "      tHMG1      prod  \n",
       "0  0.753874  3.739360  \n",
       "1  0.770533  2.448719  \n",
       "2  0.909107  2.454255  "
      ]
     },
     "execution_count": 2,
     "metadata": {},
     "output_type": "execute_result"
    }
   ],
   "source": [
    "df = pd.read_csv('./data/carotenoid_production.csv')\n",
    "df.head(3)"
   ]
  },
  {
   "cell_type": "code",
   "execution_count": 3,
   "metadata": {},
   "outputs": [],
   "source": [
    "class Autoencoder(nn.Module):\n",
    "    def __init__(self, input_dim, latent_dim):\n",
    "        super(Autoencoder, self).__init__()\n",
    "        \n",
    "        self.encoder = nn.Sequential(\n",
    "            nn.Linear(input_dim, 16),\n",
    "            nn.ReLU(),\n",
    "            nn.Linear(16, latent_dim),\n",
    "        )\n",
    "        \n",
    "        self.decoder = nn.Sequential(\n",
    "            nn.Linear(latent_dim, 16),\n",
    "            nn.ReLU(),\n",
    "            nn.Linear(16, input_dim),\n",
    "        )\n",
    "    \n",
    "    def forward(self, x):\n",
    "        encoded = self.encoder(x)\n",
    "        decoded = self.decoder(encoded)\n",
    "        return decoded"
   ]
  },
  {
   "cell_type": "code",
   "execution_count": 4,
   "metadata": {},
   "outputs": [
    {
     "name": "stdout",
     "output_type": "stream",
     "text": [
      "torch.Size([168, 9])\n"
     ]
    }
   ],
   "source": [
    "input_dim = df.shape[1]\n",
    "latent_dim = 1\n",
    "\n",
    "autoencoder = Autoencoder(input_dim=input_dim, latent_dim=latent_dim).to(device)\n",
    "criterion = nn.MSELoss()\n",
    "optimizer = torch.optim.Adam(autoencoder.parameters(), lr=0.001)\n",
    "\n",
    "X = torch.tensor(df.values, dtype=torch.float32, device=device)\n",
    "print(X.shape)"
   ]
  },
  {
   "cell_type": "code",
   "execution_count": 5,
   "metadata": {},
   "outputs": [
    {
     "name": "stdout",
     "output_type": "stream",
     "text": [
      "Epoch [100/1000], Loss: 3.2717\n",
      "Epoch [200/1000], Loss: 10.2357\n",
      "Epoch [300/1000], Loss: 6.8281\n",
      "Epoch [400/1000], Loss: 7.7230\n",
      "Epoch [500/1000], Loss: 3.4498\n",
      "Epoch [600/1000], Loss: 5.7524\n",
      "Epoch [700/1000], Loss: 9.5550\n",
      "Epoch [800/1000], Loss: 4.5892\n",
      "Epoch [900/1000], Loss: 11.0353\n",
      "Epoch [1000/1000], Loss: 6.8171\n"
     ]
    }
   ],
   "source": [
    "num_epochs = 1000\n",
    "batch_size = 8\n",
    "\n",
    "data_loader = torch.utils.data.DataLoader(X, batch_size=batch_size, shuffle=True)\n",
    "\n",
    "total_loss = []\n",
    "for epoch in range(num_epochs):\n",
    "    for batch in data_loader:\n",
    "        autoencoder.train()\n",
    "        optimizer.zero_grad()\n",
    "        outputs = autoencoder(batch)\n",
    "        loss = criterion(outputs, batch)\n",
    "        loss.backward()\n",
    "        optimizer.step()\n",
    "\n",
    "    autoencoder.eval()\n",
    "    outputs = autoencoder(X)\n",
    "    running_loss = criterion(outputs, X)\n",
    "    total_loss.append(running_loss.item())\n",
    "        \n",
    "    if (epoch+1) % 100 == 0:\n",
    "        print(f\"Epoch [{epoch+1}/{num_epochs}], Loss: {loss.item():.4f}\")"
   ]
  },
  {
   "cell_type": "code",
   "execution_count": 7,
   "metadata": {},
   "outputs": [
    {
     "data": {
      "image/png": "[encoded data removed]",
      "text/plain": [
       "<Figure size 1000x300 with 1 Axes>"
      ]
     },
     "metadata": {},
     "output_type": "display_data"
    }
   ],
   "source": [
    "def plot_loss(total_loss):\n",
    "    plt.figure(figsize=(10, 3))\n",
    "    plt.plot(total_loss)\n",
    "    plt.xlabel('Batch')\n",
    "    plt.ylabel('Loss')\n",
    "    plt.yscale('log')\n",
    "    plt.title('Autoencoder Loss')\n",
    "    plt.show()\n",
    "    \n",
    "plot_loss(total_loss)"
   ]
  },
  {
   "cell_type": "code",
   "execution_count": 9,
   "metadata": {},
   "outputs": [
    {
     "data": {
      "text/plain": [
       "tensor([0.8629, 0.9879, 0.8922, 0.9092, 0.8481, 0.8405, 0.8292, 0.7539, 3.7394],\n",
       "       device='cuda:0')"
      ]
     },
     "execution_count": 9,
     "metadata": {},
     "output_type": "execute_result"
    }
   ],
   "source": [
    "X[0]"
   ]
  },
  {
   "cell_type": "markdown",
   "metadata": {},
   "source": [
    "Plot the distribution function for the latent state "
   ]
  },
  {
   "cell_type": "code",
   "execution_count": 33,
   "metadata": {},
   "outputs": [
    {
     "data": {
      "image/png": "[encoded data removed]",
      "text/plain": [
       "<Figure size 1000x300 with 1 Axes>"
      ]
     },
     "metadata": {},
     "output_type": "display_data"
    }
   ],
   "source": [
    "plt.figure(figsize=(10, 3))\n",
    "plt.title(\"Empirical distribution function\")\n",
    "plt.xticks([i for i in range(-100, 100, 1)])\n",
    "plt.hist(autoencoder.encoder(X).detach().cpu().numpy(), bins=100, alpha=0.5, label='Latent space')\n",
    "plt.show()"
   ]
  },
  {
   "cell_type": "markdown",
   "metadata": {},
   "source": [
    "Generating data"
   ]
  },
  {
   "cell_type": "code",
   "execution_count": null,
   "metadata": {},
   "outputs": [],
   "source": []
  }
 ],
 "metadata": {
  "kernelspec": {
   "display_name": "main",
   "language": "python",
   "name": "python3"
  },
  "language_info": {
   "codemirror_mode": {
    "name": "ipython",
    "version": 3
   },
   "file_extension": ".py",
   "mimetype": "text/x-python",
   "name": "python",
   "nbconvert_exporter": "python",
   "pygments_lexer": "ipython3",
   "version": "3.10.12"
  }
 },
 "nbformat": 4,
 "nbformat_minor": 2
}
