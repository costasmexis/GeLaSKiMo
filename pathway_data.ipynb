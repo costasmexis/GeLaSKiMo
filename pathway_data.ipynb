{
 "cells": [
  {
   "cell_type": "code",
   "execution_count": 1,
   "metadata": {},
   "outputs": [],
   "source": [
    "import itertools\n",
    "\n",
    "import matplotlib.patches as mpatches\n",
    "import matplotlib.pyplot as plt\n",
    "import numpy as np\n",
    "import pandas as pd\n",
    "import requests\n",
    "from matplotlib import colors\n",
    "\n",
    "\n",
    "def generate_perturbation_scheme(enz_names, perturbation_range):  # also here make sure\n",
    "    \"\"\"Given the perturbation profile,create a dictionary\n",
    "    Input:\n",
    "    perturbation_range: perturbation value of vmax w.r.t. wildtype\n",
    "    ndim: the number of fluxes to consider\n",
    "\n",
    "    Output of dictionaries\n",
    "    \"\"\"\n",
    "    ndim = len(enz_names)\n",
    "    dim_range_list = []\n",
    "    for i in range(ndim):\n",
    "        dim_range_list.append(np.array(perturbation_range))\n",
    "    # Cartesian product\n",
    "    cart = []\n",
    "    for element in itertools.product(*dim_range_list):\n",
    "        cart.append(element)\n",
    "    design_list = []\n",
    "    for i in range(len(cart)):\n",
    "        values = tuple(cart[i])\n",
    "        design = dict(zip(enz_names, values))\n",
    "        design_list.append(design)\n",
    "    return design_list, cart\n",
    "\n",
    "\n",
    "def scenario1(perturb_range, N, enz_names):\n",
    "    cart = []\n",
    "    designs_list = []\n",
    "    for i in range(N):\n",
    "        x = np.random.choice(perturb_range, len(enz_names))\n",
    "        x = tuple(x)\n",
    "        cart.append(x)\n",
    "    for i in range(len(cart)):\n",
    "        design = dict(zip(enz_names, cart[i]))\n",
    "        designs_list.append(design)\n",
    "    return designs_list, cart\n",
    "\n",
    "\n",
    "def find_set_designs(comb_space, tcart, enz_names):\n",
    "    \"\"\"finds the training or test set designs in the combinatorial space\n",
    "    Number of features has to be given\n",
    "    - combinatorial space\n",
    "    - cart of either the training scenario or the test set\n",
    "    - enzyme names\"\"\"\n",
    "    tset = pd.DataFrame()\n",
    "    for design in tcart:\n",
    "        sub = comb_space\n",
    "        sub = sub.loc[sub[\"vmax_forward_Enzyme_A\"] == design[0]]\n",
    "        sub = sub.loc[sub[\"vmax_forward_Enzyme_B\"] == design[1]]\n",
    "        sub = sub.loc[sub[\"vmax_forward_Enzyme_C\"] == design[2]]\n",
    "        sub = sub.loc[sub[\"vmax_forward_Enzyme_D\"] == design[3]]\n",
    "        sub = sub.loc[sub[\"vmax_forward_Enzyme_E\"] == design[4]]\n",
    "        sub = sub.loc[sub[\"vmax_forward_Enzyme_F\"] == design[5]]\n",
    "        sub = sub.loc[sub[\"vmax_forward_Enzyme_G\"] == design[6]]\n",
    "        tset = pd.concat([tset, sub])\n",
    "    return tset, tcart"
   ]
  },
  {
   "cell_type": "code",
   "execution_count": 2,
   "metadata": {},
   "outputs": [],
   "source": [
    "url = \"https://media.githubusercontent.com/media/AbeelLab/simulated-dbtl/main/data/combinatorial_space/combinatorial_space_pathway_A.csv\"\n",
    "r = requests.get(url)\n",
    "\n",
    "with open(\"combinatorial_space_pathway_A.csv\", \"wb\") as f:\n",
    "    f.write(r.content)\n",
    "\n",
    "comb_space = pd.read_csv(\"combinatorial_space_pathway_A.csv\")\n",
    "\n",
    "# enzyme names and perturbation range\n",
    "enz_names = [\n",
    "    \"vmax_forward_Enzyme_A\",\n",
    "    \"vmax_forward_Enzyme_B\",\n",
    "    \"vmax_forward_Enzyme_C\",\n",
    "    \"vmax_forward_Enzyme_D\",\n",
    "    \"vmax_forward_Enzyme_E\",\n",
    "    \"vmax_forward_Enzyme_F\",\n",
    "    \"vmax_forward_Enzyme_G\",\n",
    "]  #'vmax_forward_LDH_D',\n",
    "perturb_range = [0.25, 0.5, 1, 1.5, 2, 4]\n",
    "designs, cart = generate_perturbation_scheme(enz_names, perturb_range)"
   ]
  },
  {
   "cell_type": "code",
   "execution_count": 9,
   "metadata": {},
   "outputs": [
    {
     "name": "stdout",
     "output_type": "stream",
     "text": [
      "Number of training samples: 50\n",
      "Number of test samples: 279936\n"
     ]
    }
   ],
   "source": [
    "sc1_designs, sc1_cart = scenario1(perturb_range, 50, enz_names)\n",
    "training_scenario1, training_cart = find_set_designs(comb_space, sc1_cart, enz_names)\n",
    "X_train = training_scenario1[enz_names]\n",
    "y_train = training_scenario1[\"Enzyme_G\"]\n",
    "X_test = comb_space[enz_names]\n",
    "y_test = comb_space[\"Enzyme_G\"]\n",
    "\n",
    "print(f\"Number of training samples: {len(X_train)}\")\n",
    "print(f\"Number of test samples: {len(X_test)}\")"
   ]
  }
 ],
 "metadata": {
  "kernelspec": {
   "display_name": "main",
   "language": "python",
   "name": "python3"
  },
  "language_info": {
   "codemirror_mode": {
    "name": "ipython",
    "version": 3
   },
   "file_extension": ".py",
   "mimetype": "text/x-python",
   "name": "python",
   "nbconvert_exporter": "python",
   "pygments_lexer": "ipython3",
   "version": "3.10.12"
  }
 },
 "nbformat": 4,
 "nbformat_minor": 2
}
